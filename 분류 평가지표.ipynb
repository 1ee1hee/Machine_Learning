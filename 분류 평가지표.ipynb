{
 "cells": [
  {
   "cell_type": "markdown",
   "metadata": {},
   "source": [
    "# 모델 평가\n",
    "- 모델의 성능을 평가, 평가 결과에 따라 프로세스를 다시 반복"
   ]
  },
  {
   "cell_type": "markdown",
   "metadata": {},
   "source": [
    "## 분류와 회귀의 평가 방법\n",
    "### 분류 평가 지표\n",
    "1. 정확도 (Accuracy)\n",
    "2. 정밀도 (Precision)\n",
    "3. 재현률 (Recall)\n",
    "4. F1점수 (F1 Score)\n",
    "5. PR Curve, AP Score\n",
    "6. ROC, AUC Score\n",
    "\n",
    "### 회귀 평가 방법\n",
    "1. MSE (Mean Squared Error)\n",
    "2. RMSE (Root Mean Squared Error)\n",
    "3. $R^2$ (결정계수)\n",
    "\n",
    "### sckit-learn 평가 함수 모듈\n",
    "- sklearn.metrics 모듈을 통해 제공"
   ]
  },
  {
   "cell_type": "markdown",
   "metadata": {},
   "source": [
    "## 분류(Classification) 평가 지표\n",
    "### 이진 분류(Binary classification)의 양성(Positive)과 음성(Negative)\n",
    "- 양성 : 모델이 찾으려는 (추론하려는) 주 대상\n",
    "- 음성 : 모델이 찾으려는 (추론하려는) 주 대상이 아닌 것\n",
    "\n",
    "### 정확도(Accuracy)\n",
    "- 대표적인 분류의 평가 지표\n",
    "$$\n",
    "\\large{\n",
    "정확도 (Accuracy) = \\cfrac{맞게 예측한 건수} {전체 예측 건수}\n",
    "}\n",
    "$$\n",
    "- 전체 예측 한 것중 맞게 예측한 비율로 평가\n",
    "- `accuracy_score(정답, 모델 예측값)`\n",
    "\n",
    "### Accuracy 평가 지표의 문제\n",
    "- 이진 분류에서 양성에 대한 지표만 확인 할 수 없다.\n",
    "- 불균형 데이터의 경우 정확한 평가지표가 될 수 없다."
   ]
  },
  {
   "cell_type": "markdown",
   "metadata": {},
   "source": [
    "## MNIST Data set 활용"
   ]
  },
  {
   "cell_type": "markdown",
   "metadata": {},
   "source": [
    "### 데이터 셋 로드 및 활용"
   ]
  },
  {
   "cell_type": "code",
   "execution_count": 2,
   "metadata": {},
   "outputs": [],
   "source": [
    "import numpy as np\n",
    "import matplotlib.pyplot as plt\n",
    "from sklearn.datasets import load_digits"
   ]
  },
  {
   "cell_type": "code",
   "execution_count": 3,
   "metadata": {},
   "outputs": [
    {
     "data": {
      "text/plain": [
       "((1797, 64), (1797,))"
      ]
     },
     "execution_count": 3,
     "metadata": {},
     "output_type": "execute_result"
    }
   ],
   "source": [
    "digits = load_digits()\n",
    "X = digits.data\n",
    "y = digits.target\n",
    "\n",
    "X.shape, y.shape"
   ]
  },
  {
   "cell_type": "code",
   "execution_count": 4,
   "metadata": {},
   "outputs": [
    {
     "data": {
      "text/plain": [
       "['pixel_0_0',\n",
       " 'pixel_0_1',\n",
       " 'pixel_0_2',\n",
       " 'pixel_0_3',\n",
       " 'pixel_0_4',\n",
       " 'pixel_0_5',\n",
       " 'pixel_0_6',\n",
       " 'pixel_0_7',\n",
       " 'pixel_1_0',\n",
       " 'pixel_1_1',\n",
       " 'pixel_1_2',\n",
       " 'pixel_1_3',\n",
       " 'pixel_1_4',\n",
       " 'pixel_1_5',\n",
       " 'pixel_1_6',\n",
       " 'pixel_1_7',\n",
       " 'pixel_2_0',\n",
       " 'pixel_2_1',\n",
       " 'pixel_2_2',\n",
       " 'pixel_2_3',\n",
       " 'pixel_2_4',\n",
       " 'pixel_2_5',\n",
       " 'pixel_2_6',\n",
       " 'pixel_2_7',\n",
       " 'pixel_3_0',\n",
       " 'pixel_3_1',\n",
       " 'pixel_3_2',\n",
       " 'pixel_3_3',\n",
       " 'pixel_3_4',\n",
       " 'pixel_3_5',\n",
       " 'pixel_3_6',\n",
       " 'pixel_3_7',\n",
       " 'pixel_4_0',\n",
       " 'pixel_4_1',\n",
       " 'pixel_4_2',\n",
       " 'pixel_4_3',\n",
       " 'pixel_4_4',\n",
       " 'pixel_4_5',\n",
       " 'pixel_4_6',\n",
       " 'pixel_4_7',\n",
       " 'pixel_5_0',\n",
       " 'pixel_5_1',\n",
       " 'pixel_5_2',\n",
       " 'pixel_5_3',\n",
       " 'pixel_5_4',\n",
       " 'pixel_5_5',\n",
       " 'pixel_5_6',\n",
       " 'pixel_5_7',\n",
       " 'pixel_6_0',\n",
       " 'pixel_6_1',\n",
       " 'pixel_6_2',\n",
       " 'pixel_6_3',\n",
       " 'pixel_6_4',\n",
       " 'pixel_6_5',\n",
       " 'pixel_6_6',\n",
       " 'pixel_6_7',\n",
       " 'pixel_7_0',\n",
       " 'pixel_7_1',\n",
       " 'pixel_7_2',\n",
       " 'pixel_7_3',\n",
       " 'pixel_7_4',\n",
       " 'pixel_7_5',\n",
       " 'pixel_7_6',\n",
       " 'pixel_7_7']"
      ]
     },
     "execution_count": 4,
     "metadata": {},
     "output_type": "execute_result"
    }
   ],
   "source": [
    "digits.feature_names"
   ]
  },
  {
   "cell_type": "code",
   "execution_count": 5,
   "metadata": {},
   "outputs": [
    {
     "data": {
      "text/plain": [
       "(array([0, 1, 2, 3, 4, 5, 6, 7, 8, 9]),\n",
       " array([178, 182, 177, 183, 181, 182, 181, 179, 174, 180], dtype=int64))"
      ]
     },
     "execution_count": 5,
     "metadata": {},
     "output_type": "execute_result"
    }
   ],
   "source": [
    "# y 값의 구성 분포\n",
    "np.unique(y, return_counts = True)"
   ]
  },
  {
   "cell_type": "code",
   "execution_count": 6,
   "metadata": {},
   "outputs": [
    {
     "name": "stdout",
     "output_type": "stream",
     "text": [
      "0\n"
     ]
    },
    {
     "data": {
      "text/plain": [
       "array([[ 0.,  0.,  5., 13.,  9.,  1.,  0.,  0.],\n",
       "       [ 0.,  0., 13., 15., 10., 15.,  5.,  0.],\n",
       "       [ 0.,  3., 15.,  2.,  0., 11.,  8.,  0.],\n",
       "       [ 0.,  4., 12.,  0.,  0.,  8.,  8.,  0.],\n",
       "       [ 0.,  5.,  8.,  0.,  0.,  9.,  8.,  0.],\n",
       "       [ 0.,  4., 11.,  0.,  1., 12.,  7.,  0.],\n",
       "       [ 0.,  2., 14.,  5., 10., 12.,  0.,  0.],\n",
       "       [ 0.,  0.,  6., 13., 10.,  0.,  0.,  0.]])"
      ]
     },
     "execution_count": 6,
     "metadata": {},
     "output_type": "execute_result"
    }
   ],
   "source": [
    "print(y[0])\n",
    "X[0].reshape(8, 8)"
   ]
  },
  {
   "cell_type": "code",
   "execution_count": 7,
   "metadata": {},
   "outputs": [
    {
     "data": {
      "image/png": "[encoded data removed]",
      "text/plain": [
       "<Figure size 640x480 with 1 Axes>"
      ]
     },
     "metadata": {},
     "output_type": "display_data"
    }
   ],
   "source": [
    "img_index = 0\n",
    "img = X[img_index].reshape(8, 8)\n",
    "plt.imshow(img, cmap = 'gray')\n",
    "plt.title(y[img_index])\n",
    "plt.axis('off')\n",
    "plt.show()"
   ]
  },
  {
   "cell_type": "markdown",
   "metadata": {},
   "source": [
    "### 불균형 데이터셋으로 만들기\n",
    "- y를 9와 나머지로 변경\n",
    "- Positive(양성 : 1) : 9\n",
    "- Negative(음성 : 0) : 0 ~ 8"
   ]
  },
  {
   "cell_type": "code",
   "execution_count": 8,
   "metadata": {},
   "outputs": [],
   "source": [
    "y = np.where(y == 9, 1, 0) # (조건, True 변환값, False변환값)"
   ]
  },
  {
   "cell_type": "code",
   "execution_count": 9,
   "metadata": {},
   "outputs": [
    {
     "name": "stdout",
     "output_type": "stream",
     "text": [
      "(array([0, 1]), array([1617,  180], dtype=int64))\n"
     ]
    },
    {
     "data": {
      "text/plain": [
       "array([0.89983306, 0.10016694])"
      ]
     },
     "execution_count": 9,
     "metadata": {},
     "output_type": "execute_result"
    }
   ],
   "source": [
    "print(np.unique(y, return_counts = True))\n",
    "np.unique(y, return_counts = True)[1]/y.size"
   ]
  },
  {
   "cell_type": "code",
   "execution_count": 10,
   "metadata": {},
   "outputs": [
    {
     "data": {
      "image/png": "[encoded data removed]",
      "text/plain": [
       "<Figure size 640x480 with 1 Axes>"
      ]
     },
     "metadata": {},
     "output_type": "display_data"
    }
   ],
   "source": [
    "r = np.unique(y, return_counts = True)[1]/y.size\n",
    "plt.bar([0, 1], r)\n",
    "plt.xticks([0, 1], ['Not 9', '9'])\n",
    "plt.show()"
   ]
  },
  {
   "cell_type": "markdown",
   "metadata": {},
   "source": [
    "### 데이터셋 분할\n",
    "- train/test로 분할"
   ]
  },
  {
   "cell_type": "code",
   "execution_count": 11,
   "metadata": {},
   "outputs": [],
   "source": [
    "from sklearn.model_selection import train_test_split\n",
    "\n",
    "X_train, X_test, y_train, y_test = train_test_split(X, y, stratify = y, random_state = 0)"
   ]
  },
  {
   "cell_type": "markdown",
   "metadata": {},
   "source": [
    "### 모델 생성 및 학습\n",
    "#### Dummy Model 정의\n",
    "- dummy model : 진짜 모델이 아닌 모델을 흉내냄\n",
    "- Target Label중 무조건 최빈값으로 예측하는 모델을 정의"
   ]
  },
  {
   "cell_type": "code",
   "execution_count": 12,
   "metadata": {},
   "outputs": [],
   "source": [
    "from sklearn.dummy import DummyClassifier\n",
    "from sklearn.metrics import accuracy_score"
   ]
  },
  {
   "cell_type": "code",
   "execution_count": 13,
   "metadata": {},
   "outputs": [
    {
     "name": "stdout",
     "output_type": "stream",
     "text": [
      "train 정확도: 0.8997772828507795\n",
      "test 정확도: 0.9\n"
     ]
    }
   ],
   "source": [
    "dummy_model = DummyClassifier(strategy = 'most_frequent') # y의 최빈값\n",
    "dummy_model.fit(X_train, y_train)\n",
    "\n",
    "# 정확도 검증\n",
    "pred_train = dummy_model.predict(X_train)\n",
    "pred_test = dummy_model.predict(X_test)\n",
    "\n",
    "print('train 정확도:', accuracy_score(y_train, pred_train))\n",
    "print('test 정확도:', accuracy_score(y_test, pred_test))\n"
   ]
  },
  {
   "cell_type": "code",
   "execution_count": 14,
   "metadata": {},
   "outputs": [
    {
     "data": {
      "text/plain": [
       "(array([0]), array([0]))"
      ]
     },
     "execution_count": 14,
     "metadata": {},
     "output_type": "execute_result"
    }
   ],
   "source": [
    "np.unique(pred_train), np.unique(pred_test)"
   ]
  },
  {
   "cell_type": "markdown",
   "metadata": {},
   "source": [
    "아무 학습을 하지 않고 단순히 다수 Label을 정답으로 예측 했는데 90% 정확도가 나옴\n",
    "=> 정확도가 90% 이지만 10%의 9는 아예 분류하지 못함\n",
    "따라서 불균형 레이블 데이터 세트의 평가지표로 정확도만 보면 안됨 특히 Positive에 대한 예측이 중요한 경우 accuracy는 알맞은 평가 지표가 아님"
   ]
  },
  {
   "cell_type": "markdown",
   "metadata": {},
   "source": [
    "## 혼동 행렬(Confusion Matrix)\n",
    "- 실제 값과 예측한 값을 표로 만든 지표\n",
    "- 함수 : confusion_matrix(정답, 모델 예측값)\n",
    "![image](https://velog.velcdn.com/images/jjw9599/post/271fc800-bffb-4e8f-83cf-d55d18ede61a/image.png)"
   ]
  },
  {
   "cell_type": "markdown",
   "metadata": {},
   "source": [
    "- **TP(True Positive)** \n",
    "    - 양성으로 예측했는데 맞은 개수\n",
    "- **TN(True Negative)** \n",
    "    - 음성으로 예측했는데 맞은 개수\n",
    "- **FP(False Positive)** \n",
    "    - 양성으로 예측했는데 틀린 개수 \n",
    "    - 음성을 양성으로 예측\n",
    "- **FN(False Negative)** \n",
    "    - 음성으로 예측했는데 틀린 개수 \n",
    "    - 양성을 음성으로 예측\n",
    "\n",
    "- 예)\n",
    "```python\n",
    "[[20, 6],\n",
    " [4,  40]]\n",
    "```"
   ]
  },
  {
   "cell_type": "markdown",
   "metadata": {},
   "source": [
    "## 이진 분류 평가 지표\n",
    "- **Accuracy (정확도)**\n",
    "    - 전체 데이터 중에 맞게 예측한 것의 비율\n",
    "    - Accuracy(정확도)는 이진 분류 뿐만 아니라 모든 분류의 기본 평가 방식"
   ]
  },
  {
   "cell_type": "markdown",
   "metadata": {},
   "source": [
    "### 양성(Positive) 예측력 측정 평가 지표\n",
    "- **Recall / Sensitivity(재현율 / 민감도)**\n",
    "    - 실제 양성인것 중에 양성으로 예측한 것의 비율\n",
    "    - **TPR**(True Positive Rate)라 한다\n",
    "- **Precision(정밀도)**\n",
    "    - 양성으로 예측한 것 중 실제 양성인 비율\n",
    "    - **PPV**(Positive Predictive Value)라 한다\n",
    "- **F1 점수**\n",
    "    - 정밀도와 재현율의 조화 평균 점수\n",
    "    - recall과 precision이 비슷할 수록 높은 값을 가짐. F1 score가 높다는 것은 recall과 precision이 한쪽으로 치우쳐저 있지 않고 둘다 좋다고 판단할 수 있는 근거가 됨\n",
    "\n",
    "### 음성(Negative) 예측력 측정 평가 지표\n",
    "- **Specificity(특이도)**\n",
    "    - 실제 음성인 것들 중 음성으로 맞게 예측한 것의 비율\n",
    "    - **TNR**(True Negative Rate)라 한다\n",
    "- **Fall out(위양성률)**\n",
    "    - 실제 음성인 것들 중 양성으로 잘못 예측한 것의 비율\n",
    "    - `1 - 특이도`\n",
    "    - **FPR**(False Positive Rate)라 함\n",
    "    - $Fall Out(FPR) = \\cfrac{FP}{TN+FP}$\n"
   ]
  },
  {
   "cell_type": "markdown",
   "metadata": {},
   "source": [
    "## 각 평가 지표 계산 함수\n",
    "- sklearn.metrics 모듈\n",
    "- **confusion_matrix(y 실제값, y 예측값)**\n",
    "- **ConfusionMatrixDisplay(Confusion matrix 시각화 클래스)**\n",
    "    - PlotConfusionMatrix\n",
    "        - 혼돈 행렬 반환\n",
    "- **recall_score(y 실제값, y 예측값)**\n",
    "    - Recall 점수 반환\n",
    "- **precision_score(y 실제값, y 예측값)**\n",
    "    - Precision 점수 반환\n",
    "- **f1_score(y 실제값, y 예측값)**\n",
    "    - F1 점수 반환\n",
    "- **classification_report(y 실제값, y 예측값)**\n",
    "    - 클래스 별로 recall, precision, f1 점수와 accuracy를 종합해서 보여줌"
   ]
  },
  {
   "cell_type": "markdown",
   "metadata": {},
   "source": [
    "### Dummy 모델 혼동 행렬"
   ]
  },
  {
   "cell_type": "code",
   "execution_count": 15,
   "metadata": {},
   "outputs": [],
   "source": [
    "from sklearn.metrics import confusion_matrix, recall_score, precision_score, f1_score, accuracy_score, ConfusionMatrixDisplay"
   ]
  },
  {
   "cell_type": "code",
   "execution_count": 16,
   "metadata": {},
   "outputs": [
    {
     "name": "stdout",
     "output_type": "stream",
     "text": [
      "0.8997772828507795\n",
      "0.9\n"
     ]
    }
   ],
   "source": [
    "# 정확도\n",
    "print(accuracy_score(y_train, pred_train))\n",
    "print(accuracy_score(y_test, pred_test))"
   ]
  },
  {
   "cell_type": "code",
   "execution_count": 17,
   "metadata": {},
   "outputs": [
    {
     "name": "stdout",
     "output_type": "stream",
     "text": [
      "confusion matrix\n",
      "train\n",
      "[[1212    0]\n",
      " [ 135    0]]\n",
      "test\n",
      "[[405   0]\n",
      " [ 45   0]]\n"
     ]
    }
   ],
   "source": [
    "print('confusion matrix')\n",
    "print('train')\n",
    "print(confusion_matrix(y_train, pred_train))\n",
    "print('test')\n",
    "print(confusion_matrix(y_test, pred_test))"
   ]
  },
  {
   "cell_type": "code",
   "execution_count": 18,
   "metadata": {},
   "outputs": [
    {
     "data": {
      "image/png": "[encoded data removed]",
      "text/plain": [
       "<Figure size 640x480 with 2 Axes>"
      ]
     },
     "metadata": {},
     "output_type": "display_data"
    }
   ],
   "source": [
    "disp = ConfusionMatrixDisplay(confusion_matrix(y_train, pred_train))\n",
    "\n",
    "disp.plot(cmap = 'Blues')\n",
    "plt.show()"
   ]
  },
  {
   "cell_type": "markdown",
   "metadata": {},
   "source": [
    "### Dummy 모델 Accuracy, Recall, Precision, F1-Score"
   ]
  },
  {
   "cell_type": "code",
   "execution_count": 19,
   "metadata": {},
   "outputs": [
    {
     "data": {
      "text/plain": [
       "(0.0, 0.0)"
      ]
     },
     "execution_count": 19,
     "metadata": {},
     "output_type": "execute_result"
    }
   ],
   "source": [
    "recall_score(y_train, pred_train), recall_score(y_test, pred_test)"
   ]
  },
  {
   "cell_type": "code",
   "execution_count": 20,
   "metadata": {},
   "outputs": [
    {
     "name": "stderr",
     "output_type": "stream",
     "text": [
      "c:\\Users\\Administrator\\anaconda3\\lib\\site-packages\\sklearn\\metrics\\_classification.py:1318: UndefinedMetricWarning: Precision is ill-defined and being set to 0.0 due to no predicted samples. Use `zero_division` parameter to control this behavior.\n",
      "  _warn_prf(average, modifier, msg_start, len(result))\n",
      "c:\\Users\\Administrator\\anaconda3\\lib\\site-packages\\sklearn\\metrics\\_classification.py:1318: UndefinedMetricWarning: Precision is ill-defined and being set to 0.0 due to no predicted samples. Use `zero_division` parameter to control this behavior.\n",
      "  _warn_prf(average, modifier, msg_start, len(result))\n"
     ]
    },
    {
     "data": {
      "text/plain": [
       "(0.0, 0.0)"
      ]
     },
     "execution_count": 20,
     "metadata": {},
     "output_type": "execute_result"
    }
   ],
   "source": [
    "precision_score(y_train, pred_train), precision_score(y_test, pred_test)"
   ]
  },
  {
   "cell_type": "code",
   "execution_count": 21,
   "metadata": {},
   "outputs": [
    {
     "data": {
      "text/plain": [
       "(0.0, 0.0)"
      ]
     },
     "execution_count": 21,
     "metadata": {},
     "output_type": "execute_result"
    }
   ],
   "source": [
    "f1_score(y_train, pred_train), f1_score(y_test, pred_test)"
   ]
  },
  {
   "cell_type": "markdown",
   "metadata": {},
   "source": [
    "### classification_report()\n",
    "- Accuracy와 각 class Positive일 때의 recall, precision, f1-score를 한번에 보여줌"
   ]
  },
  {
   "cell_type": "code",
   "execution_count": 22,
   "metadata": {},
   "outputs": [
    {
     "name": "stdout",
     "output_type": "stream",
     "text": [
      "              precision    recall  f1-score   support\n",
      "\n",
      "           0       0.90      1.00      0.95      1212\n",
      "           1       0.00      0.00      0.00       135\n",
      "\n",
      "    accuracy                           0.90      1347\n",
      "   macro avg       0.45      0.50      0.47      1347\n",
      "weighted avg       0.81      0.90      0.85      1347\n",
      "\n"
     ]
    },
    {
     "name": "stderr",
     "output_type": "stream",
     "text": [
      "c:\\Users\\Administrator\\anaconda3\\lib\\site-packages\\sklearn\\metrics\\_classification.py:1318: UndefinedMetricWarning: Precision and F-score are ill-defined and being set to 0.0 in labels with no predicted samples. Use `zero_division` parameter to control this behavior.\n",
      "  _warn_prf(average, modifier, msg_start, len(result))\n",
      "c:\\Users\\Administrator\\anaconda3\\lib\\site-packages\\sklearn\\metrics\\_classification.py:1318: UndefinedMetricWarning: Precision and F-score are ill-defined and being set to 0.0 in labels with no predicted samples. Use `zero_division` parameter to control this behavior.\n",
      "  _warn_prf(average, modifier, msg_start, len(result))\n",
      "c:\\Users\\Administrator\\anaconda3\\lib\\site-packages\\sklearn\\metrics\\_classification.py:1318: UndefinedMetricWarning: Precision and F-score are ill-defined and being set to 0.0 in labels with no predicted samples. Use `zero_division` parameter to control this behavior.\n",
      "  _warn_prf(average, modifier, msg_start, len(result))\n"
     ]
    }
   ],
   "source": [
    "from sklearn.metrics import classification_report\n",
    "\n",
    "report = classification_report(y_train, pred_train)\n",
    "print(report)"
   ]
  },
  {
   "cell_type": "markdown",
   "metadata": {},
   "source": [
    "### 머신러닝 모델을 이용해 학습\n",
    "- DecisionTreeClassifier 사용 (max_depth = 3)\n",
    "- RandomForestClassifier 사용 (n_estimators = 100, max_depth = 3)"
   ]
  },
  {
   "cell_type": "code",
   "execution_count": 23,
   "metadata": {},
   "outputs": [],
   "source": [
    "from sklearn.tree import DecisionTreeClassifier\n",
    "from sklearn.ensemble import RandomForestClassifier"
   ]
  },
  {
   "cell_type": "code",
   "execution_count": 24,
   "metadata": {},
   "outputs": [
    {
     "name": "stdout",
     "output_type": "stream",
     "text": [
      "Overwriting metrics.py\n"
     ]
    }
   ],
   "source": [
    "%%writefile metrics.py\n",
    "# 평가 지표 저장 모듈\n",
    "__version__ = 1.0\n",
    "\n",
    "import matplotlib.pyplot as plt\n",
    "from sklearn.metrics import confusion_matrix, recall_score, precision_score, f1_score, accuracy_score, ConfusionMatrixDisplay\n",
    "\n",
    "def plot_confusion_matrix(y, pred, title=None):\n",
    "    \"\"\"\n",
    "    Confusion Matrix 시각화 함수\n",
    "    [parameter]\n",
    "        y: ndarray - 정답\n",
    "        pred: ndarray - 모델 예측값\n",
    "        title: str - 그래프 제목\n",
    "    [return]\n",
    "    [exception]\n",
    "    \"\"\"\n",
    "    \n",
    "    cm = confusion_matrix(y, pred)\n",
    "    disp = ConfusionMatrixDisplay(cm)\n",
    "    disp.plot(cmap='Blues')\n",
    "    if title:\n",
    "        plt.title(title)\n",
    "    plt.show()\n",
    "    \n",
    "def print_metrics_classification(y, pred, title = None):\n",
    "    \"\"\"\n",
    "    classification(분류) 결과들을 출력하는 함수\n",
    "    accuracy, recall, precision, f1_score\n",
    "    [parameter]\n",
    "        y: ndarray - 정답\n",
    "        pred: ndarray - 모델 예측값\n",
    "        title: str - 그래프 제목\n",
    "    [return]\n",
    "    [exception]\n",
    "    \"\"\"\n",
    "    if title:\n",
    "        print(title)\n",
    "    print('정확도(accuracy):', accuracy_score(y, pred))\n",
    "    print('재현율/민감도(recall):', recall_score(y, pred))\n",
    "    print('정밀도(precision):', precision_score(y, pred))\n",
    "    print('F1-score:', f1_score(y, pred))"
   ]
  },
  {
   "cell_type": "code",
   "execution_count": 25,
   "metadata": {},
   "outputs": [],
   "source": [
    "from metrics import print_metrics_classification, plot_confusion_matrix"
   ]
  },
  {
   "cell_type": "code",
   "execution_count": 26,
   "metadata": {},
   "outputs": [],
   "source": [
    "# 모델 생성\n",
    "tree = DecisionTreeClassifier(max_depth = 3, random_state = 0)\n",
    "rfc = RandomForestClassifier(n_estimators = 200, max_depth = 3, random_state = 0)\n",
    "\n",
    "# 학습\n",
    "tree.fit(X_train, y_train)\n",
    "rfc.fit(X_train, y_train)\n",
    "\n",
    "# 추론\n",
    "pred_train_tree = tree.predict(X_train)\n",
    "pred_test_tree = tree.predict(X_test)\n",
    "\n",
    "pred_train_rfc = rfc.predict(X_train)\n",
    "pred_test_rfc = rfc.predict(X_test)"
   ]
  },
  {
   "cell_type": "code",
   "execution_count": 27,
   "metadata": {},
   "outputs": [
    {
     "data": {
      "image/png": "[encoded data removed]",
      "text/plain": [
       "<Figure size 640x480 with 2 Axes>"
      ]
     },
     "metadata": {},
     "output_type": "display_data"
    }
   ],
   "source": [
    "## confusion matrix\n",
    "plot_confusion_matrix(y_test, pred_test_tree, 'DecisionTree Test set')"
   ]
  },
  {
   "cell_type": "code",
   "execution_count": 28,
   "metadata": {},
   "outputs": [
    {
     "data": {
      "image/png": "[encoded data removed]",
      "text/plain": [
       "<Figure size 640x480 with 2 Axes>"
      ]
     },
     "metadata": {},
     "output_type": "display_data"
    }
   ],
   "source": [
    "plot_confusion_matrix(y_test, pred_test_rfc, 'RandomForest Test set')"
   ]
  },
  {
   "cell_type": "code",
   "execution_count": 29,
   "metadata": {},
   "outputs": [
    {
     "name": "stdout",
     "output_type": "stream",
     "text": [
      "######## Decision Tree 검증 결과 ########\n",
      "Train set\n",
      "정확도(accuracy): 0.9465478841870824\n",
      "재현율/민감도(recall): 0.8\n",
      "정밀도(precision): 0.7058823529411765\n",
      "F1-score: 0.7500000000000001\n",
      "========================================\n",
      "Test set\n",
      "정확도(accuracy): 0.9511111111111111\n",
      "재현율/민감도(recall): 0.7555555555555555\n",
      "정밀도(precision): 0.7555555555555555\n",
      "F1-score: 0.7555555555555555\n"
     ]
    }
   ],
   "source": [
    "print('######## Decision Tree 검증 결과 ########')\n",
    "print_metrics_classification(y_train, pred_train_tree, title = 'Train set')\n",
    "print('='*40)\n",
    "print_metrics_classification(y_test, pred_test_tree, title = 'Test set')"
   ]
  },
  {
   "cell_type": "code",
   "execution_count": 30,
   "metadata": {},
   "outputs": [
    {
     "name": "stdout",
     "output_type": "stream",
     "text": [
      "######## Random Forest 검증 결과 ########\n",
      "Train set\n",
      "정확도(accuracy): 0.9354120267260579\n",
      "재현율/민감도(recall): 0.35555555555555557\n",
      "정밀도(precision): 1.0\n",
      "F1-score: 0.5245901639344263\n",
      "========================================\n",
      "Test set\n",
      "정확도(accuracy): 0.9333333333333333\n",
      "재현율/민감도(recall): 0.3333333333333333\n",
      "정밀도(precision): 1.0\n",
      "F1-score: 0.5\n"
     ]
    }
   ],
   "source": [
    "print('######## Random Forest 검증 결과 ########')\n",
    "print_metrics_classification(y_train, pred_train_rfc, title = 'Train set')\n",
    "print('='*40)\n",
    "print_metrics_classification(y_test, pred_test_rfc, title = 'Test set')"
   ]
  },
  {
   "cell_type": "markdown",
   "metadata": {},
   "source": [
    "## Recall과 Precision의 관계\n",
    "### Recall이 더 중요한 경우 (정답이 1인 것을 찾는 비율)\n",
    "- 실제 Positive 데이터를 Negative로 잘못 판단하면 업무상 큰 영향이 있는 경우\n",
    "- FN(False Negative)를 낮추는데 초점을 맞춤\n",
    "- 암환자 판정 모델, 보험사기 적발 모델\n",
    "\n",
    "### Precision이 더 중요한 경우 (Positive 예측이 얼마나 맞았는지에 대한 비율)\n",
    "- 실제 Negative 데이터를 Positive로 잘못 판단하면 업무상 큰 영향이 있는 경우\n",
    "- FP(False Positive)를 낮추는데 초점을 맞춘다\n",
    "- 스팸메일 판정\n",
    "![image](https://velog.velcdn.com/images/ppippi/post/97e2bfc0-2438-430b-a4ed-78685d68a81c/image.png)\n",
    "- Positive일 확률이 임계값 이상이면 Positive, 미만이면 Negative로 예측"
   ]
  },
  {
   "cell_type": "markdown",
   "metadata": {},
   "source": [
    "### 임계값 변경에 따른 정밀도와 재현율 변화\n",
    "- 임계값을 높이면 음성으로 예측되는 샘플이 많아짐. 그래서 정밀도는 높아지고 재현율은 낮아짐\n",
    "- 임계값을 낮추면 양성으로 예측하는 기준이 낮아져 양성으로 예측되는 샘플이 많아짐. 그래서 재현율은 높아지고 정밀도는 낮아짐\n",
    "- 정리\n",
    "    - 임계값을 낮추면 재현율은 올라가고 정밀도는 낮아짐\n",
    "    - 임계값을 높이면 재현율은 낮아지고 정밀도는 올라감\n",
    "- 임계값을 변화시켰을때 재현율과 정밀도는 반비례 관계를 가진다\n",
    "- 임계값을 변화시켰을때 재현율과 위양성율은 비례 관계를 가짐"
   ]
  },
  {
   "cell_type": "markdown",
   "metadata": {},
   "source": [
    "### 임계값 변화에 따른 recall, precision 변화\n",
    "#### 분류 모델의 추론 메소드\n",
    "- model.predict(X\n",
    "    - 추론한 X의 class를 반환\n",
    "- model.predict_proba(X)\n",
    "    - 추론한 X의 class별 확률을 반환"
   ]
  },
  {
   "cell_type": "code",
   "execution_count": 31,
   "metadata": {},
   "outputs": [
    {
     "data": {
      "text/plain": [
       "array([0, 0, 0, 0, 0])"
      ]
     },
     "execution_count": 31,
     "metadata": {},
     "output_type": "execute_result"
    }
   ],
   "source": [
    "tree.predict(X_test[:5])"
   ]
  },
  {
   "cell_type": "code",
   "execution_count": 33,
   "metadata": {},
   "outputs": [
    {
     "name": "stdout",
     "output_type": "stream",
     "text": [
      "(5, 2)\n"
     ]
    },
    {
     "data": {
      "text/plain": [
       "array([[0.99173554, 0.00826446],\n",
       "       [0.98695652, 0.01304348],\n",
       "       [0.98695652, 0.01304348],\n",
       "       [0.98695652, 0.01304348],\n",
       "       [0.98695652, 0.01304348]])"
      ]
     },
     "execution_count": 33,
     "metadata": {},
     "output_type": "execute_result"
    }
   ],
   "source": [
    "r = tree.predict_proba(X_test[:5])\n",
    "print(r.shape)\n",
    "r"
   ]
  },
  {
   "cell_type": "code",
   "execution_count": 34,
   "metadata": {},
   "outputs": [
    {
     "data": {
      "text/plain": [
       "array([0, 1, 1, 1, 1])"
      ]
     },
     "execution_count": 34,
     "metadata": {},
     "output_type": "execute_result"
    }
   ],
   "source": [
    "# 양성 (1)의 확률만 추출\n",
    "np.where(r[:, 1] > 0.01, 1, 0)"
   ]
  },
  {
   "cell_type": "markdown",
   "metadata": {},
   "source": [
    "### 임계값 변화에 따른 recall/precision 확인\n",
    "- **precision_recall_curve(y_정답, positive_예측확률) 이용**\n",
    "    - 반환값 : Tuple - (precision리스트, recall리스트, threshold리스트)\n",
    "        - threshold(임계값) 0에서 1까지 변경하며 변화되는 precision과 recall값을 반환"
   ]
  },
  {
   "cell_type": "code",
   "execution_count": 35,
   "metadata": {},
   "outputs": [
    {
     "data": {
      "text/plain": [
       "((8,), (8,), (7,))"
      ]
     },
     "execution_count": 35,
     "metadata": {},
     "output_type": "execute_result"
    }
   ],
   "source": [
    "# DecisionTree -> Test set\n",
    "from sklearn.metrics import precision_recall_curve\n",
    "\n",
    "pos_proba_test = tree.predict_proba(X_test)[:, 1]\n",
    "precisions, recalls, thresholds = precision_recall_curve(y_test, pos_proba_test)\n",
    "\n",
    "precisions.shape, recalls.shape, thresholds.shape"
   ]
  },
  {
   "cell_type": "code",
   "execution_count": 36,
   "metadata": {},
   "outputs": [],
   "source": [
    "# thresholds에 1을 추가\n",
    "thresholds = np.append(thresholds, 1)"
   ]
  },
  {
   "cell_type": "code",
   "execution_count": 37,
   "metadata": {},
   "outputs": [
    {
     "data": {
      "text/plain": [
       "array([0.00826446, 0.01304348, 0.03389831, 0.04      , 0.14925373,\n",
       "       0.54545455, 0.75      , 1.        ])"
      ]
     },
     "execution_count": 37,
     "metadata": {},
     "output_type": "execute_result"
    }
   ],
   "source": [
    "thresholds\n"
   ]
  },
  {
   "cell_type": "code",
   "execution_count": 38,
   "metadata": {},
   "outputs": [
    {
     "data": {
      "text/plain": [
       "array([0.1       , 0.10757946, 0.43181818, 0.51388889, 0.56060606,\n",
       "       0.75555556, 0.82352941, 1.        ])"
      ]
     },
     "execution_count": 38,
     "metadata": {},
     "output_type": "execute_result"
    }
   ],
   "source": [
    "precisions"
   ]
  },
  {
   "cell_type": "code",
   "execution_count": 39,
   "metadata": {},
   "outputs": [
    {
     "data": {
      "text/plain": [
       "array([1.        , 0.97777778, 0.84444444, 0.82222222, 0.82222222,\n",
       "       0.75555556, 0.62222222, 0.        ])"
      ]
     },
     "execution_count": 39,
     "metadata": {},
     "output_type": "execute_result"
    }
   ],
   "source": [
    "recalls"
   ]
  },
  {
   "cell_type": "code",
   "execution_count": 43,
   "metadata": {},
   "outputs": [
    {
     "data": {
      "text/html": [
       "<div>\n",
       "<style scoped>\n",
       "    .dataframe tbody tr th:only-of-type {\n",
       "        vertical-align: middle;\n",
       "    }\n",
       "\n",
       "    .dataframe tbody tr th {\n",
       "        vertical-align: top;\n",
       "    }\n",
       "\n",
       "    .dataframe thead th {\n",
       "        text-align: right;\n",
       "    }\n",
       "</style>\n",
       "<table border=\"1\" class=\"dataframe\">\n",
       "  <thead>\n",
       "    <tr style=\"text-align: right;\">\n",
       "      <th></th>\n",
       "      <th>Threshold</th>\n",
       "      <th>Recall</th>\n",
       "      <th>Precision</th>\n",
       "    </tr>\n",
       "  </thead>\n",
       "  <tbody>\n",
       "    <tr>\n",
       "      <th>0</th>\n",
       "      <td>0.008264</td>\n",
       "      <td>1.000000</td>\n",
       "      <td>0.100000</td>\n",
       "    </tr>\n",
       "    <tr>\n",
       "      <th>1</th>\n",
       "      <td>0.013043</td>\n",
       "      <td>0.977778</td>\n",
       "      <td>0.107579</td>\n",
       "    </tr>\n",
       "    <tr>\n",
       "      <th>2</th>\n",
       "      <td>0.033898</td>\n",
       "      <td>0.844444</td>\n",
       "      <td>0.431818</td>\n",
       "    </tr>\n",
       "    <tr>\n",
       "      <th>3</th>\n",
       "      <td>0.040000</td>\n",
       "      <td>0.822222</td>\n",
       "      <td>0.513889</td>\n",
       "    </tr>\n",
       "    <tr>\n",
       "      <th>4</th>\n",
       "      <td>0.149254</td>\n",
       "      <td>0.822222</td>\n",
       "      <td>0.560606</td>\n",
       "    </tr>\n",
       "    <tr>\n",
       "      <th>5</th>\n",
       "      <td>0.545455</td>\n",
       "      <td>0.755556</td>\n",
       "      <td>0.755556</td>\n",
       "    </tr>\n",
       "    <tr>\n",
       "      <th>6</th>\n",
       "      <td>0.750000</td>\n",
       "      <td>0.622222</td>\n",
       "      <td>0.823529</td>\n",
       "    </tr>\n",
       "    <tr>\n",
       "      <th>7</th>\n",
       "      <td>1.000000</td>\n",
       "      <td>0.000000</td>\n",
       "      <td>1.000000</td>\n",
       "    </tr>\n",
       "  </tbody>\n",
       "</table>\n",
       "</div>"
      ],
      "text/plain": [
       "   Threshold    Recall  Precision\n",
       "0   0.008264  1.000000   0.100000\n",
       "1   0.013043  0.977778   0.107579\n",
       "2   0.033898  0.844444   0.431818\n",
       "3   0.040000  0.822222   0.513889\n",
       "4   0.149254  0.822222   0.560606\n",
       "5   0.545455  0.755556   0.755556\n",
       "6   0.750000  0.622222   0.823529\n",
       "7   1.000000  0.000000   1.000000"
      ]
     },
     "execution_count": 43,
     "metadata": {},
     "output_type": "execute_result"
    }
   ],
   "source": [
    "# dataframe으로 확인\n",
    "import pandas as pd\n",
    "\n",
    "prc_df = pd.DataFrame({\n",
    "    'Threshold' : thresholds,\n",
    "    'Recall' : recalls,\n",
    "    'Precision' : precisions\n",
    "})\n",
    "\n",
    "prc_df"
   ]
  },
  {
   "cell_type": "code",
   "execution_count": 44,
   "metadata": {},
   "outputs": [
    {
     "data": {
      "image/png": "[encoded data removed]",
      "text/plain": [
       "<Figure size 640x480 with 1 Axes>"
      ]
     },
     "metadata": {},
     "output_type": "display_data"
    }
   ],
   "source": [
    "prc_df.set_index('Threshold').plot(marker = 'o')\n",
    "plt.show()"
   ]
  },
  {
   "cell_type": "code",
   "execution_count": 45,
   "metadata": {},
   "outputs": [
    {
     "data": {
      "image/png": "[encoded data removed]",
      "text/plain": [
       "<Figure size 640x480 with 1 Axes>"
      ]
     },
     "metadata": {},
     "output_type": "display_data"
    }
   ],
   "source": [
    "plt.plot(prc_df['Recall'], prc_df['Precision'], marker = 'o')\n",
    "plt.xlabel('Recall')\n",
    "plt.ylabel('Precision')\n",
    "plt.show()"
   ]
  },
  {
   "cell_type": "markdown",
   "metadata": {},
   "source": [
    "### 임계값 변경 후처리를 통한 recall/precision 변경\n",
    "#### 모델 예측 결과에 적용"
   ]
  },
  {
   "cell_type": "code",
   "execution_count": 46,
   "metadata": {},
   "outputs": [
    {
     "name": "stdout",
     "output_type": "stream",
     "text": [
      "Threshold : 0.1\n",
      "정확도(accuracy): 0.9177777777777778\n",
      "재현율/민감도(recall): 0.8222222222222222\n",
      "정밀도(precision): 0.5606060606060606\n",
      "F1-score: 0.6666666666666666\n"
     ]
    }
   ],
   "source": [
    "# test set\n",
    "pos_test_tree = tree.predict_proba(X_test)[:, 1]\n",
    "\n",
    "pred_test_tree = np.where(pos_test_tree > 0.1, 1, 0)\n",
    "print_metrics_classification(y_test, pred_test_tree, title='Threshold : 0.1')"
   ]
  },
  {
   "cell_type": "code",
   "execution_count": 47,
   "metadata": {},
   "outputs": [
    {
     "name": "stdout",
     "output_type": "stream",
     "text": [
      "Threshold : 0.5\n",
      "정확도(accuracy): 0.9511111111111111\n",
      "재현율/민감도(recall): 0.7555555555555555\n",
      "정밀도(precision): 0.7555555555555555\n",
      "F1-score: 0.7555555555555555\n"
     ]
    }
   ],
   "source": [
    "pred_test_tree = np.where(pos_test_tree > 0.5, 1, 0)\n",
    "print_metrics_classification(y_test, pred_test_tree, title = 'Threshold : 0.5')"
   ]
  },
  {
   "cell_type": "code",
   "execution_count": 48,
   "metadata": {},
   "outputs": [
    {
     "name": "stdout",
     "output_type": "stream",
     "text": [
      "Threshold : 0.6\n",
      "정확도(accuracy): 0.9488888888888889\n",
      "재현율/민감도(recall): 0.6222222222222222\n",
      "정밀도(precision): 0.8235294117647058\n",
      "F1-score: 0.7088607594936709\n"
     ]
    }
   ],
   "source": [
    "pred_test_tree = np.where(pos_test_tree > 0.6, 1, 0)\n",
    "print_metrics_classification(y_test, pred_test_tree, title = 'Threshold : 0.6')"
   ]
  },
  {
   "cell_type": "markdown",
   "metadata": {},
   "source": [
    "## PR Curve(Precision Recall Curve - 정밀도 재현율 곡선)와 AP Score(Average Precision Score)\n",
    "- Positive 확률 0~1 사이의 모든 임계값에 대하여 재현율(recall)과 정밀도(precision)의 변화를 이용한 평가 지표\n",
    "- X축에 재현율, Y축에 정밀도를 놓고 임계값이 1 -> 0 변화할때 두 값의 변화를 선그래프로 그린다\n",
    "- AP Score\n",
    "    - PR Curve의 성능평가 지표를 하나의 점수(숫자)로 평가한것\n",
    "    - PR Curve의 선아래 면적을 계산한 값으로 높을수록 성능이 우수\n",
    "    ![image](https://blog.kakaocdn.net/dn/BsiXJ/btqOYvFcLMP/Onezxrw6GMFfMDOyKTSXH0/img.png)"
   ]
  },
  {
   "cell_type": "code",
   "execution_count": 50,
   "metadata": {},
   "outputs": [
    {
     "name": "stdout",
     "output_type": "stream",
     "text": [
      "0.6766948888666132\n"
     ]
    },
    {
     "data": {
      "image/png": "[encoded data removed]",
      "text/plain": [
       "<Figure size 640x480 with 1 Axes>"
      ]
     },
     "metadata": {},
     "output_type": "display_data"
    }
   ],
   "source": [
    "from sklearn.metrics import PrecisionRecallDisplay\n",
    "from sklearn.metrics import precision_recall_curve\n",
    "from sklearn.metrics import average_precision_score\n",
    "\n",
    "import matplotlib.pyplot as plt\n",
    "\n",
    "# Positive 확률\n",
    "test_proba_tree = tree.predict_proba(X_test)[:, 1]\n",
    "test_proba_rfc = rfc.predict_proba(X_test)[:, 1]\n",
    "\n",
    "ap_score_tree = average_precision_score(y_test, test_proba_tree)\n",
    "print(ap_score_tree)\n",
    "\n",
    "precision1, recalls1, threshs1 = precision_recall_curve(y_test, test_proba_tree)\n",
    "disp_tree = PrecisionRecallDisplay(precision1, recalls1, average_precision = ap_score_tree)\n",
    "disp_tree.plot()\n",
    "plt.title('Tree의 PR Curve')\n",
    "plt.show()"
   ]
  },
  {
   "cell_type": "code",
   "execution_count": 51,
   "metadata": {},
   "outputs": [
    {
     "name": "stdout",
     "output_type": "stream",
     "text": [
      "0.8775487970449387\n"
     ]
    },
    {
     "data": {
      "image/png": "[encoded data removed]",
      "text/plain": [
       "<Figure size 640x480 with 1 Axes>"
      ]
     },
     "metadata": {},
     "output_type": "display_data"
    }
   ],
   "source": [
    "# rfc test set에 대한 PR Curve\n",
    "ap_score_rfc = average_precision_score(y_test, test_proba_rfc)\n",
    "print(ap_score_rfc)\n",
    "\n",
    "precision2, recalls2, threshs2 = precision_recall_curve(y_test, test_proba_rfc)\n",
    "disp_rfc = PrecisionRecallDisplay(precision2, recalls2, average_precision = ap_score_rfc)\n",
    "disp_rfc.plot()\n",
    "plt.title('Rfc의 PR Curve')\n",
    "plt.show()"
   ]
  },
  {
   "cell_type": "markdown",
   "metadata": {},
   "source": [
    "### 비교를 위해 한개의 subplot에 tree/rfc의 PR Curve 그리기"
   ]
  },
  {
   "cell_type": "code",
   "execution_count": 52,
   "metadata": {},
   "outputs": [
    {
     "data": {
      "image/png": "[encoded data removed]",
      "text/plain": [
       "<Figure size 640x480 with 1 Axes>"
      ]
     },
     "metadata": {},
     "output_type": "display_data"
    }
   ],
   "source": [
    "ax = plt.gca() # subplot(axes)를 조회\n",
    "\n",
    "disp_tree = PrecisionRecallDisplay(precision1, recalls1, average_precision = ap_score_tree, estimator_name = 'DecisionTree') # 범례에 나올 이름\n",
    "disp_rfc = PrecisionRecallDisplay(precision2, recalls2, average_precision=ap_score_rfc, estimator_name = 'Random Forest')\n",
    "\n",
    "disp_tree.plot(ax = ax) # ax=ax : 그래프를 그릴 subplot을 지정\n",
    "disp_rfc.plot(ax = ax)\n",
    "plt.legend(loc = 'upper left', bbox_to_anchor=(1, 1))\n",
    "plt.show()"
   ]
  },
  {
   "cell_type": "markdown",
   "metadata": {},
   "source": [
    "### ROC curve(Receiver Operating Characteristic Curve)와 AUC(Area Under the Curve) score\n",
    "- **FPR(False Positive Rate-위양성율)**\n",
    "    - 위양성율 (fall-out)\n",
    "    - 1-특이도(TNR)\n",
    "    - 실제 음성중 양성으로 잘못 예측 한 비율\n",
    "    $$\n",
    "    \\cfrac{FP}{TN+FP}\n",
    "    $$\n",
    "- **TPR(True Positive Rate-재현율/민감도)** \n",
    "    - 재현율(recall)\n",
    "    - 실제 양성중 양성으로 맞게 예측한 비율\n",
    "    $$\n",
    "    \\frac{TP}{FN+TP}\n",
    "    $$\n",
    "\n",
    "- **ROC Curve**\n",
    "    - 2진 분류의 모델 성능 평가 지표 중 하나.\n",
    "    - FPR을 X축, TPR을 Y축으로 놓고 임계값을 변경해서 FPR이 변할 때 TPR이 어떻게 변하는지 나타내는 곡선.\n",
    "    - FPR과 TPR의 변화는 비례해서 변화한다.\n",
    "        - 낮은 임계값에서 큰 임계값으로 변경하면 높은 값에서 낮은 값으로 같이 변화한다.\n",
    "\n",
    "- **AUC Score**\n",
    "    - ROC Curve의 결과를 점수화(수치화) 하는 함수로 ROC Curve 아래쪽 면적을 계산한다.\n",
    "    - 0 ~ 1 사이 실수로 나오며 클수록 좋다.\n",
    "        - AUC Score값이 크려면(1에 가까운 값) 임계값이 클 때 FPR은 작고, TPR의 값은 커야 한다. FPR이 작다는 것은 Negative 잘 분류했다는 것이고 TPR이 크다는 것은 Positive를 잘 분류 했다는 의미이므로 둘에 대한 분류성능이 좋다는 것을 의미한다.\n",
    "   - **AUC 점수기준**\n",
    "        - 1.0 ~ 0.9 : 아주 좋음\n",
    "        - 0.9 ~ 0.8 : 좋음\n",
    "        - 0.8 ~ 0.7 : 괜찮은 모델\n",
    "        - 0.7 ~ 0.6 : 의미는 있으나 좋은 모델은 아님\n",
    "        - 0.6 ~ 0.5 : 좋지 않은 모델"
   ]
  },
  {
   "cell_type": "markdown",
   "metadata": {},
   "source": [
    "![image](https://miro.medium.com/v2/resize:fit:1400/format:webp/0*-dBz1HonBn39H0xc.png)\n",
    "- 가장 완벽한 것은 FPR이 0이고 TPR이 1인 것이다. 일반적으로 FPR이 작을 때(0에 가까울때) TPR이 높은 경우가 좋은 상황이다. 그래서 선 아래의 면적이 넓은 곡선이 나올수록 좋은 모델이다"
   ]
  },
  {
   "cell_type": "markdown",
   "metadata": {},
   "source": [
    "### ROC, AUC 점수 확인\n",
    "- roc_curve(y값, Pos_예측확률) : FPR, TPR, Thresholds (임계치)\n",
    "- roc_auc_score(y값, Pos_예측확률) : AUC 점수 반환\n",
    "\n",
    "### ROC Curve / Precision_Recall Curve\n",
    "- **ROC Curve/ROC-AUC score**\n",
    "    - 이진분류에서 양성클래스 탐지와 음성클래스 탐지의 중요도가 비슷할 때 사용\n",
    "- **Precision Recall Curve/AP Score**\n",
    "    - 양성 클래스 탐지가 음성클래스 탐지의 중요도보다 높을 경우 사용"
   ]
  },
  {
   "cell_type": "code",
   "execution_count": 53,
   "metadata": {},
   "outputs": [
    {
     "name": "stdout",
     "output_type": "stream",
     "text": [
      "(8,) (8,) (8,)\n",
      "(30,) (30,) (30,)\n"
     ]
    }
   ],
   "source": [
    "# ROC Curve 시각화\n",
    "from sklearn.metrics import roc_curve, RocCurveDisplay, roc_auc_score\n",
    "\n",
    "# threshold 변화에 따른 fpr과 tpr값들을 조회 - roc_curve\n",
    "fprs1, tprs1, thresh1 = roc_curve(y_test, test_proba_tree)\n",
    "print(fprs1.shape, tprs1.shape, thresh1.shape)\n",
    "fprs2, tprs2, thresh2 = roc_curve(y_test, test_proba_rfc)\n",
    "print(fprs2.shape, tprs2.shape, thresh2.shape)"
   ]
  },
  {
   "cell_type": "code",
   "execution_count": 54,
   "metadata": {},
   "outputs": [
    {
     "data": {
      "text/html": [
       "<div>\n",
       "<style scoped>\n",
       "    .dataframe tbody tr th:only-of-type {\n",
       "        vertical-align: middle;\n",
       "    }\n",
       "\n",
       "    .dataframe tbody tr th {\n",
       "        vertical-align: top;\n",
       "    }\n",
       "\n",
       "    .dataframe thead th {\n",
       "        text-align: right;\n",
       "    }\n",
       "</style>\n",
       "<table border=\"1\" class=\"dataframe\">\n",
       "  <thead>\n",
       "    <tr style=\"text-align: right;\">\n",
       "      <th></th>\n",
       "      <th>임계값</th>\n",
       "      <th>FPR</th>\n",
       "      <th>TPR</th>\n",
       "    </tr>\n",
       "  </thead>\n",
       "  <tbody>\n",
       "    <tr>\n",
       "      <th>0</th>\n",
       "      <td>1.750000</td>\n",
       "      <td>0.000000</td>\n",
       "      <td>0.000000</td>\n",
       "    </tr>\n",
       "    <tr>\n",
       "      <th>1</th>\n",
       "      <td>0.750000</td>\n",
       "      <td>0.014815</td>\n",
       "      <td>0.622222</td>\n",
       "    </tr>\n",
       "    <tr>\n",
       "      <th>2</th>\n",
       "      <td>0.545455</td>\n",
       "      <td>0.027160</td>\n",
       "      <td>0.755556</td>\n",
       "    </tr>\n",
       "    <tr>\n",
       "      <th>3</th>\n",
       "      <td>0.149254</td>\n",
       "      <td>0.071605</td>\n",
       "      <td>0.822222</td>\n",
       "    </tr>\n",
       "    <tr>\n",
       "      <th>4</th>\n",
       "      <td>0.040000</td>\n",
       "      <td>0.086420</td>\n",
       "      <td>0.822222</td>\n",
       "    </tr>\n",
       "    <tr>\n",
       "      <th>5</th>\n",
       "      <td>0.033898</td>\n",
       "      <td>0.123457</td>\n",
       "      <td>0.844444</td>\n",
       "    </tr>\n",
       "    <tr>\n",
       "      <th>6</th>\n",
       "      <td>0.013043</td>\n",
       "      <td>0.901235</td>\n",
       "      <td>0.977778</td>\n",
       "    </tr>\n",
       "    <tr>\n",
       "      <th>7</th>\n",
       "      <td>0.008264</td>\n",
       "      <td>1.000000</td>\n",
       "      <td>1.000000</td>\n",
       "    </tr>\n",
       "  </tbody>\n",
       "</table>\n",
       "</div>"
      ],
      "text/plain": [
       "        임계값       FPR       TPR\n",
       "0  1.750000  0.000000  0.000000\n",
       "1  0.750000  0.014815  0.622222\n",
       "2  0.545455  0.027160  0.755556\n",
       "3  0.149254  0.071605  0.822222\n",
       "4  0.040000  0.086420  0.822222\n",
       "5  0.033898  0.123457  0.844444\n",
       "6  0.013043  0.901235  0.977778\n",
       "7  0.008264  1.000000  1.000000"
      ]
     },
     "execution_count": 54,
     "metadata": {},
     "output_type": "execute_result"
    }
   ],
   "source": [
    "pd.DataFrame({'임계값':thresh1, 'FPR':fprs1, 'TPR':tprs1})"
   ]
  },
  {
   "cell_type": "code",
   "execution_count": 55,
   "metadata": {},
   "outputs": [
    {
     "data": {
      "text/html": [
       "<div>\n",
       "<style scoped>\n",
       "    .dataframe tbody tr th:only-of-type {\n",
       "        vertical-align: middle;\n",
       "    }\n",
       "\n",
       "    .dataframe tbody tr th {\n",
       "        vertical-align: top;\n",
       "    }\n",
       "\n",
       "    .dataframe thead th {\n",
       "        text-align: right;\n",
       "    }\n",
       "</style>\n",
       "<table border=\"1\" class=\"dataframe\">\n",
       "  <thead>\n",
       "    <tr style=\"text-align: right;\">\n",
       "      <th></th>\n",
       "      <th>임계값</th>\n",
       "      <th>FPR</th>\n",
       "      <th>TPR</th>\n",
       "    </tr>\n",
       "  </thead>\n",
       "  <tbody>\n",
       "    <tr>\n",
       "      <th>0</th>\n",
       "      <td>1.644297</td>\n",
       "      <td>0.000000</td>\n",
       "      <td>0.000000</td>\n",
       "    </tr>\n",
       "    <tr>\n",
       "      <th>1</th>\n",
       "      <td>0.644297</td>\n",
       "      <td>0.000000</td>\n",
       "      <td>0.022222</td>\n",
       "    </tr>\n",
       "    <tr>\n",
       "      <th>2</th>\n",
       "      <td>0.453446</td>\n",
       "      <td>0.000000</td>\n",
       "      <td>0.444444</td>\n",
       "    </tr>\n",
       "    <tr>\n",
       "      <th>3</th>\n",
       "      <td>0.447451</td>\n",
       "      <td>0.002469</td>\n",
       "      <td>0.444444</td>\n",
       "    </tr>\n",
       "    <tr>\n",
       "      <th>4</th>\n",
       "      <td>0.327547</td>\n",
       "      <td>0.002469</td>\n",
       "      <td>0.666667</td>\n",
       "    </tr>\n",
       "    <tr>\n",
       "      <th>5</th>\n",
       "      <td>0.321028</td>\n",
       "      <td>0.007407</td>\n",
       "      <td>0.666667</td>\n",
       "    </tr>\n",
       "    <tr>\n",
       "      <th>6</th>\n",
       "      <td>0.282455</td>\n",
       "      <td>0.007407</td>\n",
       "      <td>0.755556</td>\n",
       "    </tr>\n",
       "    <tr>\n",
       "      <th>7</th>\n",
       "      <td>0.240723</td>\n",
       "      <td>0.024691</td>\n",
       "      <td>0.755556</td>\n",
       "    </tr>\n",
       "    <tr>\n",
       "      <th>8</th>\n",
       "      <td>0.238526</td>\n",
       "      <td>0.024691</td>\n",
       "      <td>0.777778</td>\n",
       "    </tr>\n",
       "    <tr>\n",
       "      <th>9</th>\n",
       "      <td>0.217295</td>\n",
       "      <td>0.034568</td>\n",
       "      <td>0.777778</td>\n",
       "    </tr>\n",
       "    <tr>\n",
       "      <th>10</th>\n",
       "      <td>0.213825</td>\n",
       "      <td>0.034568</td>\n",
       "      <td>0.800000</td>\n",
       "    </tr>\n",
       "    <tr>\n",
       "      <th>11</th>\n",
       "      <td>0.212675</td>\n",
       "      <td>0.037037</td>\n",
       "      <td>0.800000</td>\n",
       "    </tr>\n",
       "    <tr>\n",
       "      <th>12</th>\n",
       "      <td>0.212369</td>\n",
       "      <td>0.037037</td>\n",
       "      <td>0.822222</td>\n",
       "    </tr>\n",
       "    <tr>\n",
       "      <th>13</th>\n",
       "      <td>0.200637</td>\n",
       "      <td>0.046914</td>\n",
       "      <td>0.822222</td>\n",
       "    </tr>\n",
       "    <tr>\n",
       "      <th>14</th>\n",
       "      <td>0.199515</td>\n",
       "      <td>0.046914</td>\n",
       "      <td>0.844444</td>\n",
       "    </tr>\n",
       "    <tr>\n",
       "      <th>15</th>\n",
       "      <td>0.182625</td>\n",
       "      <td>0.059259</td>\n",
       "      <td>0.844444</td>\n",
       "    </tr>\n",
       "    <tr>\n",
       "      <th>16</th>\n",
       "      <td>0.178541</td>\n",
       "      <td>0.059259</td>\n",
       "      <td>0.866667</td>\n",
       "    </tr>\n",
       "    <tr>\n",
       "      <th>17</th>\n",
       "      <td>0.174478</td>\n",
       "      <td>0.061728</td>\n",
       "      <td>0.866667</td>\n",
       "    </tr>\n",
       "    <tr>\n",
       "      <th>18</th>\n",
       "      <td>0.174033</td>\n",
       "      <td>0.061728</td>\n",
       "      <td>0.888889</td>\n",
       "    </tr>\n",
       "    <tr>\n",
       "      <th>19</th>\n",
       "      <td>0.166171</td>\n",
       "      <td>0.064198</td>\n",
       "      <td>0.888889</td>\n",
       "    </tr>\n",
       "    <tr>\n",
       "      <th>20</th>\n",
       "      <td>0.163688</td>\n",
       "      <td>0.064198</td>\n",
       "      <td>0.911111</td>\n",
       "    </tr>\n",
       "    <tr>\n",
       "      <th>21</th>\n",
       "      <td>0.120363</td>\n",
       "      <td>0.125926</td>\n",
       "      <td>0.911111</td>\n",
       "    </tr>\n",
       "    <tr>\n",
       "      <th>22</th>\n",
       "      <td>0.119343</td>\n",
       "      <td>0.125926</td>\n",
       "      <td>0.933333</td>\n",
       "    </tr>\n",
       "    <tr>\n",
       "      <th>23</th>\n",
       "      <td>0.115124</td>\n",
       "      <td>0.140741</td>\n",
       "      <td>0.933333</td>\n",
       "    </tr>\n",
       "    <tr>\n",
       "      <th>24</th>\n",
       "      <td>0.113905</td>\n",
       "      <td>0.140741</td>\n",
       "      <td>0.955556</td>\n",
       "    </tr>\n",
       "    <tr>\n",
       "      <th>25</th>\n",
       "      <td>0.091747</td>\n",
       "      <td>0.229630</td>\n",
       "      <td>0.955556</td>\n",
       "    </tr>\n",
       "    <tr>\n",
       "      <th>26</th>\n",
       "      <td>0.091662</td>\n",
       "      <td>0.229630</td>\n",
       "      <td>0.977778</td>\n",
       "    </tr>\n",
       "    <tr>\n",
       "      <th>27</th>\n",
       "      <td>0.077389</td>\n",
       "      <td>0.279012</td>\n",
       "      <td>0.977778</td>\n",
       "    </tr>\n",
       "    <tr>\n",
       "      <th>28</th>\n",
       "      <td>0.077061</td>\n",
       "      <td>0.279012</td>\n",
       "      <td>1.000000</td>\n",
       "    </tr>\n",
       "    <tr>\n",
       "      <th>29</th>\n",
       "      <td>0.005893</td>\n",
       "      <td>1.000000</td>\n",
       "      <td>1.000000</td>\n",
       "    </tr>\n",
       "  </tbody>\n",
       "</table>\n",
       "</div>"
      ],
      "text/plain": [
       "         임계값       FPR       TPR\n",
       "0   1.644297  0.000000  0.000000\n",
       "1   0.644297  0.000000  0.022222\n",
       "2   0.453446  0.000000  0.444444\n",
       "3   0.447451  0.002469  0.444444\n",
       "4   0.327547  0.002469  0.666667\n",
       "5   0.321028  0.007407  0.666667\n",
       "6   0.282455  0.007407  0.755556\n",
       "7   0.240723  0.024691  0.755556\n",
       "8   0.238526  0.024691  0.777778\n",
       "9   0.217295  0.034568  0.777778\n",
       "10  0.213825  0.034568  0.800000\n",
       "11  0.212675  0.037037  0.800000\n",
       "12  0.212369  0.037037  0.822222\n",
       "13  0.200637  0.046914  0.822222\n",
       "14  0.199515  0.046914  0.844444\n",
       "15  0.182625  0.059259  0.844444\n",
       "16  0.178541  0.059259  0.866667\n",
       "17  0.174478  0.061728  0.866667\n",
       "18  0.174033  0.061728  0.888889\n",
       "19  0.166171  0.064198  0.888889\n",
       "20  0.163688  0.064198  0.911111\n",
       "21  0.120363  0.125926  0.911111\n",
       "22  0.119343  0.125926  0.933333\n",
       "23  0.115124  0.140741  0.933333\n",
       "24  0.113905  0.140741  0.955556\n",
       "25  0.091747  0.229630  0.955556\n",
       "26  0.091662  0.229630  0.977778\n",
       "27  0.077389  0.279012  0.977778\n",
       "28  0.077061  0.279012  1.000000\n",
       "29  0.005893  1.000000  1.000000"
      ]
     },
     "execution_count": 55,
     "metadata": {},
     "output_type": "execute_result"
    }
   ],
   "source": [
    "pd.DataFrame({'임계값':thresh2, 'FPR':fprs2, 'TPR':tprs2})"
   ]
  },
  {
   "cell_type": "code",
   "execution_count": 56,
   "metadata": {},
   "outputs": [
    {
     "name": "stdout",
     "output_type": "stream",
     "text": [
      "0.8975308641975308\n"
     ]
    },
    {
     "data": {
      "image/png": "[encoded data removed]",
      "text/plain": [
       "<Figure size 640x480 with 1 Axes>"
      ]
     },
     "metadata": {},
     "output_type": "display_data"
    }
   ],
   "source": [
    "roc_auc_tree = roc_auc_score(y_test, test_proba_tree)\n",
    "print(roc_auc_tree)\n",
    "\n",
    "disp_roc_tree = RocCurveDisplay(fpr = fprs1, tpr=tprs1, roc_auc = roc_auc_tree)\n",
    "disp_roc_tree.plot()\n",
    "plt.show()"
   ]
  },
  {
   "cell_type": "code",
   "execution_count": 57,
   "metadata": {},
   "outputs": [
    {
     "name": "stdout",
     "output_type": "stream",
     "text": [
      "0.9742661179698217\n"
     ]
    },
    {
     "data": {
      "image/png": "[encoded data removed]",
      "text/plain": [
       "<Figure size 640x480 with 1 Axes>"
      ]
     },
     "metadata": {},
     "output_type": "display_data"
    }
   ],
   "source": [
    "roc_auc_rfc = roc_auc_score(y_test, test_proba_rfc)\n",
    "print(roc_auc_rfc)\n",
    "disp_roc_rfc = RocCurveDisplay(fpr = fprs2, tpr = tprs2, roc_auc = roc_auc_rfc)\n",
    "disp_roc_rfc.plot()\n",
    "plt.show()"
   ]
  },
  {
   "cell_type": "code",
   "execution_count": 58,
   "metadata": {},
   "outputs": [
    {
     "data": {
      "image/png": "[encoded data removed]",
      "text/plain": [
       "<Figure size 640x480 with 1 Axes>"
      ]
     },
     "metadata": {},
     "output_type": "display_data"
    }
   ],
   "source": [
    "ax = plt.gca()\n",
    "\n",
    "disp_roc_tree = RocCurveDisplay(fpr=fprs1, tpr=tprs1, roc_auc = roc_auc_tree, estimator_name = 'Decision Tree')\n",
    "disp_roc_rfc = RocCurveDisplay(fpr = fprs2, tpr = tprs2, roc_auc = roc_auc_rfc, estimator_name = 'Random Forest')\n",
    "\n",
    "disp_roc_tree.plot(ax = ax)\n",
    "disp_roc_rfc.plot(ax = ax)\n",
    "\n",
    "plt.title('Test set ROC Curve')\n",
    "plt.legend(loc='upper left', bbox_to_anchor = (1, 1), title = 'Model')\n",
    "plt.show()"
   ]
  },
  {
   "cell_type": "code",
   "execution_count": null,
   "metadata": {},
   "outputs": [],
   "source": []
  }
 ],
 "metadata": {
  "kernelspec": {
   "display_name": "Python 3.9.13 ('base')",
   "language": "python",
   "name": "python3"
  },
  "language_info": {
   "codemirror_mode": {
    "name": "ipython",
    "version": 3
   },
   "file_extension": ".py",
   "mimetype": "text/x-python",
   "name": "python",
   "nbconvert_exporter": "python",
   "pygments_lexer": "ipython3",
   "version": "3.9.13"
  },
  "orig_nbformat": 4,
  "vscode": {
   "interpreter": {
    "hash": "57bc2b6ce032b5f0e93daa91901b7ea38a856826ef43aa9e95b6d3999f5310df"
   }
  }
 },
 "nbformat": 4,
 "nbformat_minor": 2
}
