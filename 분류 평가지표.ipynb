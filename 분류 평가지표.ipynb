{
 "cells": [
  {
   "cell_type": "markdown",
   "metadata": {},
   "source": [
    "# 모델 평가\n",
    "- 모델의 성능을 평가, 평가 결과에 따라 프로세스를 다시 반복"
   ]
  },
  {
   "cell_type": "markdown",
   "metadata": {},
   "source": [
    "## 분류와 회귀의 평가 방법\n",
    "### 분류 평가 지표\n",
    "1. 정확도 (Accuracy)\n",
    "2. 정밀도 (Precision)\n",
    "3. 재현률 (Recall)\n",
    "4. F1점수 (F1 Score)\n",
    "5. PR Curve, AP Score\n",
    "6. ROC, AUC Score\n",
    "\n",
    "### 회귀 평가 방법\n",
    "1. MSE (Mean Squared Error)\n",
    "2. RMSE (Root Mean Squared Error)\n",
    "3. $R^2$ (결정계수)\n",
    "\n",
    "### sckit-learn 평가 함수 모듈\n",
    "- sklearn.metrics 모듈을 통해 제공"
   ]
  },
  {
   "cell_type": "markdown",
   "metadata": {},
   "source": [
    "## 분류(Classification) 평가 지표\n",
    "### 이진 분류(Binary classification)의 양성(Positive)과 음성(Negative)\n",
    "- 양성 : 모델이 찾으려는 (추론하려는) 주 대상\n",
    "- 음성 : 모델이 찾으려는 (추론하려는) 주 대상이 아닌 것\n",
    "\n",
    "### 정확도(Accuracy)\n",
    "- 대표적인 분류의 평가 지표\n",
    "$$\n",
    "\\large{\n",
    "정확도 (Accuracy) = \\cfrac{맞게 예측한 건수} {전체 예측 건수}\n",
    "}\n",
    "$$\n",
    "- 전체 예측 한 것중 맞게 예측한 비율로 평가\n",
    "- `accuracy_score(정답, 모델 예측값)`\n",
    "\n",
    "### Accuracy 평가 지표의 문제\n",
    "- 이진 분류에서 양성에 대한 지표만 확인 할 수 없다.\n",
    "- 불균형 데이터의 경우 정확한 평가지표가 될 수 없다."
   ]
  },
  {
   "cell_type": "markdown",
   "metadata": {},
   "source": [
    "## MNIST Data set 활용"
   ]
  },
  {
   "cell_type": "markdown",
   "metadata": {},
   "source": [
    "### 데이터 셋 로드 및 활용"
   ]
  },
  {
   "cell_type": "code",
   "execution_count": 1,
   "metadata": {},
   "outputs": [],
   "source": [
    "import numpy as np\n",
    "import matplotlib.pyplot as plt\n",
    "from sklearn.datasets import load_digits"
   ]
  },
  {
   "cell_type": "code",
   "execution_count": 2,
   "metadata": {},
   "outputs": [
    {
     "data": {
      "text/plain": [
       "((1797, 64), (1797,))"
      ]
     },
     "execution_count": 2,
     "metadata": {},
     "output_type": "execute_result"
    }
   ],
   "source": [
    "digits = load_digits()\n",
    "X = digits.data\n",
    "y = digits.target\n",
    "\n",
    "X.shape, y.shape"
   ]
  },
  {
   "cell_type": "code",
   "execution_count": 3,
   "metadata": {},
   "outputs": [
    {
     "data": {
      "text/plain": [
       "['pixel_0_0',\n",
       " 'pixel_0_1',\n",
       " 'pixel_0_2',\n",
       " 'pixel_0_3',\n",
       " 'pixel_0_4',\n",
       " 'pixel_0_5',\n",
       " 'pixel_0_6',\n",
       " 'pixel_0_7',\n",
       " 'pixel_1_0',\n",
       " 'pixel_1_1',\n",
       " 'pixel_1_2',\n",
       " 'pixel_1_3',\n",
       " 'pixel_1_4',\n",
       " 'pixel_1_5',\n",
       " 'pixel_1_6',\n",
       " 'pixel_1_7',\n",
       " 'pixel_2_0',\n",
       " 'pixel_2_1',\n",
       " 'pixel_2_2',\n",
       " 'pixel_2_3',\n",
       " 'pixel_2_4',\n",
       " 'pixel_2_5',\n",
       " 'pixel_2_6',\n",
       " 'pixel_2_7',\n",
       " 'pixel_3_0',\n",
       " 'pixel_3_1',\n",
       " 'pixel_3_2',\n",
       " 'pixel_3_3',\n",
       " 'pixel_3_4',\n",
       " 'pixel_3_5',\n",
       " 'pixel_3_6',\n",
       " 'pixel_3_7',\n",
       " 'pixel_4_0',\n",
       " 'pixel_4_1',\n",
       " 'pixel_4_2',\n",
       " 'pixel_4_3',\n",
       " 'pixel_4_4',\n",
       " 'pixel_4_5',\n",
       " 'pixel_4_6',\n",
       " 'pixel_4_7',\n",
       " 'pixel_5_0',\n",
       " 'pixel_5_1',\n",
       " 'pixel_5_2',\n",
       " 'pixel_5_3',\n",
       " 'pixel_5_4',\n",
       " 'pixel_5_5',\n",
       " 'pixel_5_6',\n",
       " 'pixel_5_7',\n",
       " 'pixel_6_0',\n",
       " 'pixel_6_1',\n",
       " 'pixel_6_2',\n",
       " 'pixel_6_3',\n",
       " 'pixel_6_4',\n",
       " 'pixel_6_5',\n",
       " 'pixel_6_6',\n",
       " 'pixel_6_7',\n",
       " 'pixel_7_0',\n",
       " 'pixel_7_1',\n",
       " 'pixel_7_2',\n",
       " 'pixel_7_3',\n",
       " 'pixel_7_4',\n",
       " 'pixel_7_5',\n",
       " 'pixel_7_6',\n",
       " 'pixel_7_7']"
      ]
     },
     "execution_count": 3,
     "metadata": {},
     "output_type": "execute_result"
    }
   ],
   "source": [
    "digits.feature_names"
   ]
  },
  {
   "cell_type": "code",
   "execution_count": 4,
   "metadata": {},
   "outputs": [
    {
     "data": {
      "text/plain": [
       "(array([0, 1, 2, 3, 4, 5, 6, 7, 8, 9]),\n",
       " array([178, 182, 177, 183, 181, 182, 181, 179, 174, 180], dtype=int64))"
      ]
     },
     "execution_count": 4,
     "metadata": {},
     "output_type": "execute_result"
    }
   ],
   "source": [
    "# y 값의 구성 분포\n",
    "np.unique(y, return_counts = True)"
   ]
  },
  {
   "cell_type": "code",
   "execution_count": 5,
   "metadata": {},
   "outputs": [
    {
     "name": "stdout",
     "output_type": "stream",
     "text": [
      "0\n"
     ]
    },
    {
     "data": {
      "text/plain": [
       "array([[ 0.,  0.,  5., 13.,  9.,  1.,  0.,  0.],\n",
       "       [ 0.,  0., 13., 15., 10., 15.,  5.,  0.],\n",
       "       [ 0.,  3., 15.,  2.,  0., 11.,  8.,  0.],\n",
       "       [ 0.,  4., 12.,  0.,  0.,  8.,  8.,  0.],\n",
       "       [ 0.,  5.,  8.,  0.,  0.,  9.,  8.,  0.],\n",
       "       [ 0.,  4., 11.,  0.,  1., 12.,  7.,  0.],\n",
       "       [ 0.,  2., 14.,  5., 10., 12.,  0.,  0.],\n",
       "       [ 0.,  0.,  6., 13., 10.,  0.,  0.,  0.]])"
      ]
     },
     "execution_count": 5,
     "metadata": {},
     "output_type": "execute_result"
    }
   ],
   "source": [
    "print(y[0])\n",
    "X[0].reshape(8, 8)"
   ]
  },
  {
   "cell_type": "code",
   "execution_count": 6,
   "metadata": {},
   "outputs": [
    {
     "data": {
      "image/png": "[encoded data removed]",
      "text/plain": [
       "<Figure size 640x480 with 1 Axes>"
      ]
     },
     "metadata": {},
     "output_type": "display_data"
    }
   ],
   "source": [
    "img_index = 0\n",
    "img = X[img_index].reshape(8, 8)\n",
    "plt.imshow(img, cmap = 'gray')\n",
    "plt.title(y[img_index])\n",
    "plt.axis('off')\n",
    "plt.show()"
   ]
  },
  {
   "cell_type": "markdown",
   "metadata": {},
   "source": [
    "### 불균형 데이터셋으로 만들기\n",
    "- y를 9와 나머지로 변경\n",
    "- Positive(양성 : 1) : 9\n",
    "- Negative(음성 : 0) : 0 ~ 8"
   ]
  },
  {
   "cell_type": "code",
   "execution_count": 7,
   "metadata": {},
   "outputs": [],
   "source": [
    "y = np.where(y == 9, 1, 0) # (조건, True 변환값, False변환값)"
   ]
  },
  {
   "cell_type": "code",
   "execution_count": 8,
   "metadata": {},
   "outputs": [
    {
     "name": "stdout",
     "output_type": "stream",
     "text": [
      "(array([0, 1]), array([1617,  180], dtype=int64))\n"
     ]
    },
    {
     "data": {
      "text/plain": [
       "array([0.89983306, 0.10016694])"
      ]
     },
     "execution_count": 8,
     "metadata": {},
     "output_type": "execute_result"
    }
   ],
   "source": [
    "print(np.unique(y, return_counts = True))\n",
    "np.unique(y, return_counts = True)[1]/y.size"
   ]
  },
  {
   "cell_type": "code",
   "execution_count": 9,
   "metadata": {},
   "outputs": [
    {
     "data": {
      "image/png": "[encoded data removed]",
      "text/plain": [
       "<Figure size 640x480 with 1 Axes>"
      ]
     },
     "metadata": {},
     "output_type": "display_data"
    }
   ],
   "source": [
    "r = np.unique(y, return_counts = True)[1]/y.size\n",
    "plt.bar([0, 1], r)\n",
    "plt.xticks([0, 1], ['Not 9', '9'])\n",
    "plt.show()"
   ]
  },
  {
   "cell_type": "markdown",
   "metadata": {},
   "source": [
    "### 데이터셋 분할\n",
    "- train/test로 분할"
   ]
  },
  {
   "cell_type": "code",
   "execution_count": 10,
   "metadata": {},
   "outputs": [],
   "source": [
    "from sklearn.model_selection import train_test_split\n",
    "\n",
    "X_train, X_test, y_train, y_test = train_test_split(X, y, stratify = y, random_state = 0)"
   ]
  },
  {
   "cell_type": "markdown",
   "metadata": {},
   "source": [
    "### 모델 생성 및 학습\n",
    "#### Dummy Model 정의\n",
    "- dummy model : 진짜 모델이 아닌 모델을 흉내냄\n",
    "- Target Label중 무조건 최빈값으로 예측하는 모델을 정의"
   ]
  },
  {
   "cell_type": "code",
   "execution_count": 11,
   "metadata": {},
   "outputs": [],
   "source": [
    "from sklearn.dummy import DummyClassifier\n",
    "from sklearn.metrics import accuracy_score"
   ]
  },
  {
   "cell_type": "code",
   "execution_count": 12,
   "metadata": {},
   "outputs": [
    {
     "name": "stdout",
     "output_type": "stream",
     "text": [
      "train 정확도: 0.8997772828507795\n",
      "test 정확도: 0.9\n"
     ]
    }
   ],
   "source": [
    "dummy_model = DummyClassifier(strategy = 'most_frequent') # y의 최빈값\n",
    "dummy_model.fit(X_train, y_train)\n",
    "\n",
    "# 정확도 검증\n",
    "pred_train = dummy_model.predict(X_train)\n",
    "pred_test = dummy_model.predict(X_test)\n",
    "\n",
    "print('train 정확도:', accuracy_score(y_train, pred_train))\n",
    "print('test 정확도:', accuracy_score(y_test, pred_test))\n"
   ]
  },
  {
   "cell_type": "code",
   "execution_count": 15,
   "metadata": {},
   "outputs": [
    {
     "data": {
      "text/plain": [
       "(array([0]), array([0]))"
      ]
     },
     "execution_count": 15,
     "metadata": {},
     "output_type": "execute_result"
    }
   ],
   "source": [
    "np.unique(pred_train), np.unique(pred_test)"
   ]
  },
  {
   "cell_type": "markdown",
   "metadata": {},
   "source": [
    "아무 학습을 하지 않고 단순히 다수 Label을 정답으로 예측 했는데 90% 정확도가 나옴\n",
    "=> 정확도가 90% 이지만 10%의 9는 아예 분류하지 못함\n",
    "따라서 불균형 레이블 데이터 세트의 평가지표로 정확도만 보면 안됨 특히 Positive에 대한 예측이 중요한 경우 accuracy는 알맞은 평가 지표가 아님"
   ]
  },
  {
   "cell_type": "markdown",
   "metadata": {},
   "source": [
    "## 혼동 행렬(Confusion Matrix)\n",
    "- 실제 값과 예측한 값을 표로 만든 지표\n",
    "- 함수 : confusion_matrix(정답, 모델 예측값)\n",
    "![image](https://velog.velcdn.com/images/jjw9599/post/271fc800-bffb-4e8f-83cf-d55d18ede61a/image.png)"
   ]
  },
  {
   "cell_type": "markdown",
   "metadata": {},
   "source": [
    "- **TP(True Positive)** \n",
    "    - 양성으로 예측했는데 맞은 개수\n",
    "- **TN(True Negative)** \n",
    "    - 음성으로 예측했는데 맞은 개수\n",
    "- **FP(False Positive)** \n",
    "    - 양성으로 예측했는데 틀린 개수 \n",
    "    - 음성을 양성으로 예측\n",
    "- **FN(False Negative)** \n",
    "    - 음성으로 예측했는데 틀린 개수 \n",
    "    - 양성을 음성으로 예측\n",
    "\n",
    "- 예)\n",
    "```python\n",
    "[[20, 6],\n",
    " [4,  40]]\n",
    "```"
   ]
  },
  {
   "cell_type": "markdown",
   "metadata": {},
   "source": [
    "## 이진 분류 평가 지표\n",
    "- **Accuracy (정확도)**\n",
    "    - 전체 데이터 중에 맞게 예측한 것의 비율\n",
    "    - Accuracy(정확도)는 이진 분류 뿐만 아니라 모든 분류의 기본 평가 방식"
   ]
  },
  {
   "cell_type": "markdown",
   "metadata": {},
   "source": [
    "### 양성(Positive) 예측력 측정 평가 지표\n",
    "- **Recall / Sensitivity(재현율 / 민감도)**\n",
    "    - 실제 양성인것 중에 양성으로 예측한 것의 비율\n",
    "    - **TPR**(True Positive Rate)라 한다\n",
    "- **Precision(정밀도)**\n",
    "    - 양성으로 예측한 것 중 실제 양성인 비율\n",
    "    - **PPV**(Positive Predictive Value)라 한다\n",
    "- **F1 점수**\n",
    "    - 정밀도와 재현율의 조화 평균 점수\n",
    "    - recall과 precision이 비슷할 수록 높은 값을 가짐. F1 score가 높다는 것은 recall과 precision이 한쪽으로 치우쳐저 있지 않고 둘다 좋다고 판단할 수 있는 근거가 됨\n",
    "\n",
    "### 음성(Negative) 예측력 측정 평가 지표\n",
    "- **Specificity(특이도)**\n",
    "    - 실제 음성인 것들 중 음성으로 맞게 예측한 것의 비율\n",
    "    - **TNR**(True Negative Rate)라 한다\n",
    "- **Fall out(위양성률)**\n",
    "    - 실제 음성인 것들 중 양성으로 잘못 예측한 것의 비율\n",
    "    - `1 - 특이도`\n",
    "    - **FPR**(False Positive Rate)라 함\n",
    "    - $Fall Out(FPR) = \\cfrac{FP}{TN+FP}$\n"
   ]
  },
  {
   "cell_type": "markdown",
   "metadata": {},
   "source": [
    "## 각 평가 지표 계산 함수\n",
    "- sklearn.metrics 모듈\n",
    "- **confusion_matrix(y 실제값, y 예측값)**\n",
    "- **ConfusionMatrixDisplay(Confusion matrix 시각화 클래스)**\n",
    "    - PlotConfusionMatrix\n",
    "        - 혼돈 행렬 반환\n",
    "- **recall_score(y 실제값, y 예측값)**\n",
    "    - Recall 점수 반환\n",
    "- **precision_score(y 실제값, y 예측값)**\n",
    "    - Precision 점수 반환\n",
    "- **f1_score(y 실제값, y 예측값)**\n",
    "    - F1 점수 반환\n",
    "- **classification_report(y 실제값, y 예측값)**\n",
    "    - 클래스 별로 recall, precision, f1 점수와 accuracy를 종합해서 보여줌"
   ]
  },
  {
   "cell_type": "markdown",
   "metadata": {},
   "source": [
    "### Dummy 모델 혼동 행렬"
   ]
  },
  {
   "cell_type": "code",
   "execution_count": 16,
   "metadata": {},
   "outputs": [],
   "source": [
    "from sklearn.metrics import confusion_matrix, recall_score, precision_score, f1_score, accuracy_score, ConfusionMatrixDisplay"
   ]
  },
  {
   "cell_type": "code",
   "execution_count": 17,
   "metadata": {},
   "outputs": [
    {
     "name": "stdout",
     "output_type": "stream",
     "text": [
      "0.8997772828507795\n",
      "0.9\n"
     ]
    }
   ],
   "source": [
    "# 정확도\n",
    "print(accuracy_score(y_train, pred_train))\n",
    "print(accuracy_score(y_test, pred_test))"
   ]
  },
  {
   "cell_type": "code",
   "execution_count": 18,
   "metadata": {},
   "outputs": [
    {
     "name": "stdout",
     "output_type": "stream",
     "text": [
      "confusion matrix\n",
      "train\n",
      "[[1212    0]\n",
      " [ 135    0]]\n",
      "test\n",
      "[[405   0]\n",
      " [ 45   0]]\n"
     ]
    }
   ],
   "source": [
    "print('confusion matrix')\n",
    "print('train')\n",
    "print(confusion_matrix(y_train, pred_train))\n",
    "print('test')\n",
    "print(confusion_matrix(y_test, pred_test))"
   ]
  },
  {
   "cell_type": "code",
   "execution_count": 19,
   "metadata": {},
   "outputs": [
    {
     "data": {
      "image/png": "[encoded data removed]",
      "text/plain": [
       "<Figure size 640x480 with 2 Axes>"
      ]
     },
     "metadata": {},
     "output_type": "display_data"
    }
   ],
   "source": [
    "disp = ConfusionMatrixDisplay(confusion_matrix(y_train, pred_train))\n",
    "\n",
    "disp.plot(cmap = 'Blues')\n",
    "plt.show()"
   ]
  },
  {
   "cell_type": "markdown",
   "metadata": {},
   "source": [
    "### Dummy 모델 Accuracy, Recall, Precision, F1-Score"
   ]
  },
  {
   "cell_type": "code",
   "execution_count": 20,
   "metadata": {},
   "outputs": [
    {
     "data": {
      "text/plain": [
       "(0.0, 0.0)"
      ]
     },
     "execution_count": 20,
     "metadata": {},
     "output_type": "execute_result"
    }
   ],
   "source": [
    "recall_score(y_train, pred_train), recall_score(y_test, pred_test)"
   ]
  },
  {
   "cell_type": "code",
   "execution_count": 21,
   "metadata": {},
   "outputs": [
    {
     "name": "stderr",
     "output_type": "stream",
     "text": [
      "c:\\Users\\Administrator\\anaconda3\\lib\\site-packages\\sklearn\\metrics\\_classification.py:1318: UndefinedMetricWarning: Precision is ill-defined and being set to 0.0 due to no predicted samples. Use `zero_division` parameter to control this behavior.\n",
      "  _warn_prf(average, modifier, msg_start, len(result))\n",
      "c:\\Users\\Administrator\\anaconda3\\lib\\site-packages\\sklearn\\metrics\\_classification.py:1318: UndefinedMetricWarning: Precision is ill-defined and being set to 0.0 due to no predicted samples. Use `zero_division` parameter to control this behavior.\n",
      "  _warn_prf(average, modifier, msg_start, len(result))\n"
     ]
    },
    {
     "data": {
      "text/plain": [
       "(0.0, 0.0)"
      ]
     },
     "execution_count": 21,
     "metadata": {},
     "output_type": "execute_result"
    }
   ],
   "source": [
    "precision_score(y_train, pred_train), precision_score(y_test, pred_test)"
   ]
  },
  {
   "cell_type": "code",
   "execution_count": 22,
   "metadata": {},
   "outputs": [
    {
     "data": {
      "text/plain": [
       "(0.0, 0.0)"
      ]
     },
     "execution_count": 22,
     "metadata": {},
     "output_type": "execute_result"
    }
   ],
   "source": [
    "f1_score(y_train, pred_train), f1_score(y_test, pred_test)"
   ]
  },
  {
   "cell_type": "markdown",
   "metadata": {},
   "source": [
    "### classification_report()\n",
    "- Accuracy와 각 class Positive일 때의 recall, precision, f1-score를 한번에 보여줌"
   ]
  },
  {
   "cell_type": "code",
   "execution_count": 23,
   "metadata": {},
   "outputs": [
    {
     "name": "stdout",
     "output_type": "stream",
     "text": [
      "              precision    recall  f1-score   support\n",
      "\n",
      "           0       0.90      1.00      0.95      1212\n",
      "           1       0.00      0.00      0.00       135\n",
      "\n",
      "    accuracy                           0.90      1347\n",
      "   macro avg       0.45      0.50      0.47      1347\n",
      "weighted avg       0.81      0.90      0.85      1347\n",
      "\n"
     ]
    },
    {
     "name": "stderr",
     "output_type": "stream",
     "text": [
      "c:\\Users\\Administrator\\anaconda3\\lib\\site-packages\\sklearn\\metrics\\_classification.py:1318: UndefinedMetricWarning: Precision and F-score are ill-defined and being set to 0.0 in labels with no predicted samples. Use `zero_division` parameter to control this behavior.\n",
      "  _warn_prf(average, modifier, msg_start, len(result))\n",
      "c:\\Users\\Administrator\\anaconda3\\lib\\site-packages\\sklearn\\metrics\\_classification.py:1318: UndefinedMetricWarning: Precision and F-score are ill-defined and being set to 0.0 in labels with no predicted samples. Use `zero_division` parameter to control this behavior.\n",
      "  _warn_prf(average, modifier, msg_start, len(result))\n",
      "c:\\Users\\Administrator\\anaconda3\\lib\\site-packages\\sklearn\\metrics\\_classification.py:1318: UndefinedMetricWarning: Precision and F-score are ill-defined and being set to 0.0 in labels with no predicted samples. Use `zero_division` parameter to control this behavior.\n",
      "  _warn_prf(average, modifier, msg_start, len(result))\n"
     ]
    }
   ],
   "source": [
    "from sklearn.metrics import classification_report\n",
    "\n",
    "report = classification_report(y_train, pred_train)\n",
    "print(report)"
   ]
  },
  {
   "cell_type": "markdown",
   "metadata": {},
   "source": [
    "### 머신러닝 모델을 이용해 학습\n",
    "- DecisionTreeClassifier 사용 (max_depth = 3)\n",
    "- RandomForestClassifier 사용 (n_estimators = 100, max_depth = 3)"
   ]
  },
  {
   "cell_type": "code",
   "execution_count": 24,
   "metadata": {},
   "outputs": [],
   "source": [
    "from sklearn.tree import DecisionTreeClassifier\n",
    "from sklearn.ensemble import RandomForestClassifier"
   ]
  },
  {
   "cell_type": "code",
   "execution_count": 25,
   "metadata": {},
   "outputs": [
    {
     "name": "stdout",
     "output_type": "stream",
     "text": [
      "Writing metrics.py\n"
     ]
    }
   ],
   "source": [
    "%%writefile metrics.py\n",
    "# 평가 지표 저장 모듈\n",
    "__version__ = 1.0\n",
    "\n",
    "import matplotlib.pyplot as plt\n",
    "from sklearn.metrics import confusion_matrix, recall_score, precision_score, f1_score, accuracy_score, ConfusionMatrixDisplay\n",
    "\n",
    "def plot_confusion_matrix(y, pred, title=None):\n",
    "    \"\"\"\n",
    "    Confusion Matrix 시각화 함수\n",
    "    [parameter]\n",
    "        y: ndarray - 정답\n",
    "        pred: ndarray - 모델 예측값\n",
    "        title: str - 그래프 제목\n",
    "    [return]\n",
    "    [exception]\n",
    "    \"\"\"\n",
    "    \n",
    "    cm = confusion_matrix(y, pred)\n",
    "    disp = ConfusionMatrixDisplay(cm)\n",
    "    disp.plot(cmap='Blues')\n",
    "    if title:\n",
    "        plt.title(title)\n",
    "    plt.show()\n",
    "    \n",
    "def print_metrics_classification(y, pred, title = None):\n",
    "    \"\"\"\n",
    "    classification(분류) 결과들을 출력하는 함수\n",
    "    accuracy, recall, precision, f1_score\n",
    "    [parameter]\n",
    "        y: ndarray - 정답\n",
    "        pred: ndarray - 모델 예측값\n",
    "        title: str - 그래프 제목\n",
    "    [return]\n",
    "    [exception]\n",
    "    \"\"\"\n",
    "    if title:\n",
    "        print(title)\n",
    "    print('정확도(accuracy):', accuracy_score(y, pred))\n",
    "    print('재현율/민감도(recall):', recall_score(y, pred))\n",
    "    print('정밀도(precision):', precision_score(y, pred))\n",
    "    print('F1-score:', f1_score(y, pred))"
   ]
  },
  {
   "cell_type": "code",
   "execution_count": 26,
   "metadata": {},
   "outputs": [],
   "source": [
    "from metrics import print_metrics_classification, plot_confusion_matrix"
   ]
  },
  {
   "cell_type": "code",
   "execution_count": 27,
   "metadata": {},
   "outputs": [],
   "source": [
    "# 모델 생성\n",
    "tree = DecisionTreeClassifier(max_depth = 3, random_state = 0)\n",
    "rfc = RandomForestClassifier(n_estimators = 200, max_depth = 3, random_state = 0)\n",
    "\n",
    "# 학습\n",
    "tree.fit(X_train, y_train)\n",
    "rfc.fit(X_train, y_train)\n",
    "\n",
    "# 추론\n",
    "pred_train_tree = tree.predict(X_train)\n",
    "pred_test_tree = tree.predict(X_test)\n",
    "\n",
    "pred_train_rfc = rfc.predict(X_train)\n",
    "pred_test_rfc = rfc.predict(X_test)"
   ]
  },
  {
   "cell_type": "code",
   "execution_count": 28,
   "metadata": {},
   "outputs": [
    {
     "data": {
      "image/png": "[encoded data removed]",
      "text/plain": [
       "<Figure size 640x480 with 2 Axes>"
      ]
     },
     "metadata": {},
     "output_type": "display_data"
    }
   ],
   "source": [
    "## confusion matrix\n",
    "plot_confusion_matrix(y_test, pred_test_tree, 'DecisionTree Test set')"
   ]
  },
  {
   "cell_type": "code",
   "execution_count": 29,
   "metadata": {},
   "outputs": [
    {
     "data": {
      "image/png": "[encoded data removed]",
      "text/plain": [
       "<Figure size 640x480 with 2 Axes>"
      ]
     },
     "metadata": {},
     "output_type": "display_data"
    }
   ],
   "source": [
    "plot_confusion_matrix(y_test, pred_test_rfc, 'RandomForest Test set')"
   ]
  },
  {
   "cell_type": "code",
   "execution_count": 31,
   "metadata": {},
   "outputs": [
    {
     "name": "stdout",
     "output_type": "stream",
     "text": [
      "######## Decision Tree 검증 결과 ########\n",
      "Train set\n",
      "정확도(accuracy): 0.9465478841870824\n",
      "재현율/민감도(recall): 0.8\n",
      "정밀도(precision): 0.7058823529411765\n",
      "F1-score: 0.7500000000000001\n",
      "========================================\n",
      "Test set\n",
      "정확도(accuracy): 0.9511111111111111\n",
      "재현율/민감도(recall): 0.7555555555555555\n",
      "정밀도(precision): 0.7555555555555555\n",
      "F1-score: 0.7555555555555555\n"
     ]
    }
   ],
   "source": [
    "print('######## Decision Tree 검증 결과 ########')\n",
    "print_metrics_classification(y_train, pred_train_tree, title = 'Train set')\n",
    "print('='*40)\n",
    "print_metrics_classification(y_test, pred_test_tree, title = 'Test set')"
   ]
  },
  {
   "cell_type": "code",
   "execution_count": 32,
   "metadata": {},
   "outputs": [
    {
     "name": "stdout",
     "output_type": "stream",
     "text": [
      "######## Random Forest 검증 결과 ########\n",
      "Train set\n",
      "정확도(accuracy): 0.9354120267260579\n",
      "재현율/민감도(recall): 0.35555555555555557\n",
      "정밀도(precision): 1.0\n",
      "F1-score: 0.5245901639344263\n",
      "========================================\n",
      "Test set\n",
      "정확도(accuracy): 0.9333333333333333\n",
      "재현율/민감도(recall): 0.3333333333333333\n",
      "정밀도(precision): 1.0\n",
      "F1-score: 0.5\n"
     ]
    }
   ],
   "source": [
    "print('######## Random Forest 검증 결과 ########')\n",
    "print_metrics_classification(y_train, pred_train_rfc, title = 'Train set')\n",
    "print('='*40)\n",
    "print_metrics_classification(y_test, pred_test_rfc, title = 'Test set')"
   ]
  },
  {
   "cell_type": "markdown",
   "metadata": {},
   "source": [
    "## Recall과 Precision의 관계\n",
    "### Recall이 더 중요한 경우 (정답이 1인 것을 찾는 비율)\n",
    "- 실제 Positive 데이터를 Negative로 잘못 판단하면 업무상 큰 영향이 있는 경우\n",
    "- FN(False Negative)를 낮추는데 초점을 맞춤\n",
    "- 암환자 판정 모델, 보험사기 적발 모델\n",
    "\n",
    "### Precision이 더 중요한 경우 (Positive 예측이 얼마나 맞았는지에 대한 비율)\n",
    "- 실제 Negative 데이터를 Positive로 잘못 판단하면 업무상 큰 영향이 있는 경우\n",
    "- FP(False Positive)를 낮추는데 초점을 맞춘다\n",
    "- 스팸메일 판정\n",
    "![image](https://velog.velcdn.com/images/ppippi/post/97e2bfc0-2438-430b-a4ed-78685d68a81c/image.png)\n",
    "- Positive일 확률이 임계값 이상이면 Positive, 미만이면 Negative로 예측"
   ]
  },
  {
   "cell_type": "code",
   "execution_count": null,
   "metadata": {},
   "outputs": [],
   "source": [
    "\n"
   ]
  }
 ],
 "metadata": {
  "kernelspec": {
   "display_name": "Python 3.9.13 ('base')",
   "language": "python",
   "name": "python3"
  },
  "language_info": {
   "codemirror_mode": {
    "name": "ipython",
    "version": 3
   },
   "file_extension": ".py",
   "mimetype": "text/x-python",
   "name": "python",
   "nbconvert_exporter": "python",
   "pygments_lexer": "ipython3",
   "version": "3.9.13"
  },
  "orig_nbformat": 4,
  "vscode": {
   "interpreter": {
    "hash": "57bc2b6ce032b5f0e93daa91901b7ea38a856826ef43aa9e95b6d3999f5310df"
   }
  }
 },
 "nbformat": 4,
 "nbformat_minor": 2
}
