{
 "cells": [
  {
   "cell_type": "markdown",
   "metadata": {},
   "source": [
    "# 모델 성능 평가를 위한 데이터 셋 분리\n",
    "## 데이터셋(Dataset)\n",
    "- Train 데이터셋 (훈련 / 학습 데이터셋)\n",
    "    - 모델을 학습시킬 때 사용할 데이터셋\n",
    "- Validation 데이터셋 (검증 데이터셋)\n",
    "    - 모델의 성능 중간 검증을 위한 데이터셋\n",
    "- Test 데이터셋 (평가 데이터셋)\n",
    "    - 모델의 성능을 최종적으로 측정하기 위한 데이터셋\n",
    "    - `Test 데이터셋은 마지막에 모델의 성능을 측정하는 용도로 한번만 사용`"
   ]
  },
  {
   "cell_type": "markdown",
   "metadata": {},
   "source": [
    "## Hold Out - Data분리 방식"
   ]
  },
  {
   "cell_type": "markdown",
   "metadata": {},
   "source": []
  }
 ],
 "metadata": {
  "language_info": {
   "name": "python"
  },
  "orig_nbformat": 4
 },
 "nbformat": 4,
 "nbformat_minor": 2
}
