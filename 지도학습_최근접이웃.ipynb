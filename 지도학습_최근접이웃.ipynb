{
 "cells": [
  {
   "cell_type": "markdown",
   "metadata": {},
   "source": [
    "# K-최근접 이웃(K-Nearest Neighbors, KNN)\n",
    "- 분류(Classification)와 회귀(Regression)를 모두 지원\n",
    "- 예측하려는 데이터와 input 데이터들 간 거리를 측정해 가장 가까운 K개의 데이터셋의 레이블을 참조해 분류/예측\n",
    "- 학습시 단순히 input 데이터들을 저장만 하며 예측 시점에 거리를 계산한다\n",
    "    - 학습은 빠르지만 예측시 시간이 많이 걸림"
   ]
  },
  {
   "cell_type": "markdown",
   "metadata": {},
   "source": [
    "## 추론 알고리즘\n",
    "![image](https://devtimes.com/static/0174c9019b26347b9a0a374784b2c2a7/a4f00/knn-1.png)\n",
    "- K-NN에서 **K**는 새로운 데이터 포인트를 분류할때 확인할 데이터 포인트의 개수를 지정하는 **하이퍼파라미터**\n",
    "![image](https://devtimes.com/static/dc087791fd9aa41cd1aaecd3b7dcd036/ca1dc/knn-3.png)\n",
    "- **분류**\n",
    "    - K를 1로 하면 <font color='blue'>파란색</font>, K를 3으로 하면 <font color='orange'>주황색</font> 으로 분류\n",
    "- **회귀**\n",
    "    - K를 1로 하면 <font color='blue'>파란색</font>, K를 3으로 하면 <font color='orange'>주황색</font> data point의 평균값으로 추론\n",
    "- K너무 작으면 Overfitting, K가 너무 크면 Underfitting이 발생할 수 있다\n",
    "    - Overfitting : K값을 더 크게 잡는다\n",
    "    - Underfitting : K값을 더 작게 잡는다"
   ]
  },
  {
   "cell_type": "markdown",
   "metadata": {},
   "source": [
    "## 주요 하이퍼 파라미터\n",
    "- **분류 : sklearn.neighbors.KNeighborsClassifier**\n",
    "- **회귀 : sklearn.neighbors.KNeighborsRegressor**\n",
    "- 이웃 수\n",
    "    - n_neighbors = K\n",
    "    - **K가 작을수록 모델이 복잡해져 과대적합이 일어나고 너무 크면 단순해져 성능이 나빠짐(과소적합)**\n",
    "    - n_neighbors는 Feature수의 제곱근 정도를 지정할 때 성능이 좋은 것으로 알려져 있다\n",
    "- 거리 재는 방법\n",
    "    - p=2: 유클리디안 거리(Euclidean distance - 기본값 - L2 Norm)\n",
    "    - p=1: 맨하탄 거리(Manhattan distance - L1 Norm)\n",
    "\n",
    "> ### 유클리디안 거리(Euclidean_distance)\n",
    "![image](https://velog.velcdn.com/images/uonmf97/post/45e85421-7b73-403c-a621-30069c690597/image.png)\n",
    "$$\n",
    "distance = \\sqrt{(a_1 - b_1)^2 + (a_2-b_2)^2}\\\\\n",
    "n차원 벡터간의 거리 = \\sqrt{(a_1 - b_1)^2 + (a_2-b_2)^2 +...+(a_n-b_n)^2}\n",
    "$$\n",
    "\n",
    "> ### 맨하탄 거리(Manhattan distance)\n",
    "![image](https://img1.daumcdn.net/thumb/R1280x0/?scode=mtistory2&fname=https%3A%2F%2Fblog.kakaocdn.net%2Fdn%2FKv7pM%2FbtqGdtCkDsN%2FHmDZfFbRZ8NmW8cJaPvIPK%2Fimg.png)\n",
    "$$\n",
    "distance = |a_1 - b_1| + |a_2 - b_2| \\\\\n",
    "𝑛차원벡터간의거리= |a_1 - b_1| + |a_2 - b_2| + ... + |a_n - b_n|\n",
    "$$"
   ]
  },
  {
   "cell_type": "markdown",
   "metadata": {},
   "source": [
    "### 정리\n",
    "- K-NN은 이해하기 쉬운 모델이며 튜닝할 하이퍼파라미터의 수가 적어 빠르게 만들 수 있다\n",
    "\n",
    "- K-NN은 서비스할 모델을 구현할때 보다는 **복잡한 알고리즘을 적용해 보기 전에 확인용 또는 base line을 잡기 위한 모델로 사용한다**\n",
    "\n",
    "- 훈련세트가 너무 큰 경우(Feature나 관측치의 개수가 많은 경우) 거리를 계산하는 양이 늘어나 예측이 느려진다\n",
    "    - 추론에 시간이 많이 걸린다\n",
    "\n",
    "- Feature간의 값의 단위가 다르면 작은 단위의 Feature에 영향을 많이 받게 되므로 **전처리로 Feature Scaling 작업**이 필요하다\n",
    "\n",
    "- Feature가 너무 많은 경우와 대부분의 값이 0으로 구성된(희소-sparse) 데이터셋에서 성능이 아주 나쁘다"
   ]
  },
  {
   "cell_type": "code",
   "execution_count": 7,
   "metadata": {},
   "outputs": [],
   "source": [
    "# import warnings filter\n",
    "from warnings import simplefilter\n",
    "# ignore all future warnings\n",
    "simplefilter(action='ignore', category=FutureWarning)"
   ]
  },
  {
   "cell_type": "markdown",
   "metadata": {},
   "source": [
    "## 위스콘신 유방암 데이터를 이용한 암환자 분류\n",
    "### K값 변화에 따른 성능 변화 확인\n",
    "#### 데이터셋 로드, train/test set 분리"
   ]
  },
  {
   "cell_type": "code",
   "execution_count": 8,
   "metadata": {},
   "outputs": [],
   "source": [
    "import numpy as np\n",
    "from sklearn.datasets import load_breast_cancer\n",
    "from sklearn.model_selection import train_test_split\n",
    "\n",
    "X, y = load_breast_cancer(return_X_y = True)\n",
    "X_train, X_test, y_train, y_test = train_test_split(X, y, stratify = y, random_state = 0)"
   ]
  },
  {
   "cell_type": "markdown",
   "metadata": {},
   "source": [
    "#### Feature scaling"
   ]
  },
  {
   "cell_type": "code",
   "execution_count": 9,
   "metadata": {},
   "outputs": [],
   "source": [
    "# KNN은 feature scaling을 해야 정확한 학습이 가능\n",
    "from sklearn.preprocessing import StandardScaler\n",
    "\n",
    "scaler = StandardScaler()\n",
    "X_train_scaled = scaler.fit_transform(X_train)\n",
    "X_test_scaled = scaler.transform(X_test)"
   ]
  },
  {
   "cell_type": "markdown",
   "metadata": {},
   "source": [
    "#### 학습\n",
    "- K값 변화에 따는 accuracy의 변화 확인"
   ]
  },
  {
   "cell_type": "code",
   "execution_count": 11,
   "metadata": {},
   "outputs": [],
   "source": [
    "from sklearn.neighbors import KNeighborsClassifier\n",
    "from sklearn.metrics import accuracy_score\n",
    "\n",
    "train_acc = []\n",
    "test_acc = []\n",
    "\n",
    "k_list = range(1, 11)\n",
    "for k in k_list:\n",
    "    knn = KNeighborsClassifier(n_neighbors=k)\n",
    "    knn.fit(X_train_scaled, y_train)\n",
    "    \n",
    "    train_pred = knn.predict(X_train_scaled)\n",
    "    test_pred = knn.predict(X_test_scaled)\n",
    "    \n",
    "    train_acc.append(accuracy_score(y_train, train_pred))\n",
    "    test_acc.append(accuracy_score(y_test, test_pred))"
   ]
  },
  {
   "cell_type": "code",
   "execution_count": 12,
   "metadata": {},
   "outputs": [
    {
     "data": {
      "text/plain": [
       "[1.0,\n",
       " 0.9835680751173709,\n",
       " 0.9859154929577465,\n",
       " 0.9812206572769953,\n",
       " 0.9788732394366197,\n",
       " 0.9765258215962441,\n",
       " 0.9765258215962441,\n",
       " 0.9788732394366197,\n",
       " 0.9741784037558685,\n",
       " 0.9765258215962441]"
      ]
     },
     "execution_count": 12,
     "metadata": {},
     "output_type": "execute_result"
    }
   ],
   "source": [
    "train_acc"
   ]
  },
  {
   "cell_type": "code",
   "execution_count": 13,
   "metadata": {},
   "outputs": [
    {
     "data": {
      "text/plain": [
       "[0.951048951048951,\n",
       " 0.9300699300699301,\n",
       " 0.951048951048951,\n",
       " 0.965034965034965,\n",
       " 0.951048951048951,\n",
       " 0.951048951048951,\n",
       " 0.958041958041958,\n",
       " 0.951048951048951,\n",
       " 0.951048951048951,\n",
       " 0.951048951048951]"
      ]
     },
     "execution_count": 13,
     "metadata": {},
     "output_type": "execute_result"
    }
   ],
   "source": [
    "test_acc"
   ]
  },
  {
   "cell_type": "code",
   "execution_count": 15,
   "metadata": {},
   "outputs": [
    {
     "data": {
      "text/html": [
       "<div>\n",
       "<style scoped>\n",
       "    .dataframe tbody tr th:only-of-type {\n",
       "        vertical-align: middle;\n",
       "    }\n",
       "\n",
       "    .dataframe tbody tr th {\n",
       "        vertical-align: top;\n",
       "    }\n",
       "\n",
       "    .dataframe thead th {\n",
       "        text-align: right;\n",
       "    }\n",
       "</style>\n",
       "<table border=\"1\" class=\"dataframe\">\n",
       "  <thead>\n",
       "    <tr style=\"text-align: right;\">\n",
       "      <th></th>\n",
       "      <th>train</th>\n",
       "      <th>test</th>\n",
       "    </tr>\n",
       "  </thead>\n",
       "  <tbody>\n",
       "    <tr>\n",
       "      <th>1</th>\n",
       "      <td>1.000000</td>\n",
       "      <td>0.951049</td>\n",
       "    </tr>\n",
       "    <tr>\n",
       "      <th>2</th>\n",
       "      <td>0.983568</td>\n",
       "      <td>0.930070</td>\n",
       "    </tr>\n",
       "    <tr>\n",
       "      <th>3</th>\n",
       "      <td>0.985915</td>\n",
       "      <td>0.951049</td>\n",
       "    </tr>\n",
       "    <tr>\n",
       "      <th>4</th>\n",
       "      <td>0.981221</td>\n",
       "      <td>0.965035</td>\n",
       "    </tr>\n",
       "    <tr>\n",
       "      <th>5</th>\n",
       "      <td>0.978873</td>\n",
       "      <td>0.951049</td>\n",
       "    </tr>\n",
       "    <tr>\n",
       "      <th>6</th>\n",
       "      <td>0.976526</td>\n",
       "      <td>0.951049</td>\n",
       "    </tr>\n",
       "    <tr>\n",
       "      <th>7</th>\n",
       "      <td>0.976526</td>\n",
       "      <td>0.958042</td>\n",
       "    </tr>\n",
       "    <tr>\n",
       "      <th>8</th>\n",
       "      <td>0.978873</td>\n",
       "      <td>0.951049</td>\n",
       "    </tr>\n",
       "    <tr>\n",
       "      <th>9</th>\n",
       "      <td>0.974178</td>\n",
       "      <td>0.951049</td>\n",
       "    </tr>\n",
       "    <tr>\n",
       "      <th>10</th>\n",
       "      <td>0.976526</td>\n",
       "      <td>0.951049</td>\n",
       "    </tr>\n",
       "  </tbody>\n",
       "</table>\n",
       "</div>"
      ],
      "text/plain": [
       "       train      test\n",
       "1   1.000000  0.951049\n",
       "2   0.983568  0.930070\n",
       "3   0.985915  0.951049\n",
       "4   0.981221  0.965035\n",
       "5   0.978873  0.951049\n",
       "6   0.976526  0.951049\n",
       "7   0.976526  0.958042\n",
       "8   0.978873  0.951049\n",
       "9   0.974178  0.951049\n",
       "10  0.976526  0.951049"
      ]
     },
     "execution_count": 15,
     "metadata": {},
     "output_type": "execute_result"
    }
   ],
   "source": [
    "import pandas as pd\n",
    "\n",
    "df = pd.DataFrame({\n",
    "    'train' : train_acc,\n",
    "    'test' : test_acc\n",
    "}, index = k_list)\n",
    "\n",
    "df"
   ]
  },
  {
   "cell_type": "code",
   "execution_count": 19,
   "metadata": {},
   "outputs": [
    {
     "data": {
      "image/png": "[encoded data removed]",
      "text/plain": [
       "<Figure size 640x480 with 1 Axes>"
      ]
     },
     "metadata": {},
     "output_type": "display_data"
    },
    {
     "name": "stdout",
     "output_type": "stream",
     "text": [
      "5.477225575051661\n"
     ]
    }
   ],
   "source": [
    "import matplotlib.pyplot as plt\n",
    "\n",
    "df.plot(xlabel = '모델복잡도-K', ylabel='정확도')\n",
    "plt.show()\n",
    "\n",
    "print(np.sqrt(30))"
   ]
  },
  {
   "cell_type": "markdown",
   "metadata": {},
   "source": [
    "## GridSearch/Pipeline을 이용해 구현\n",
    "- Pipeline을 이용해 전처리기와 모델을 연결\n",
    "- GridSearchCV를 이용해 최적의 하이퍼파라미터를 검색"
   ]
  },
  {
   "cell_type": "markdown",
   "metadata": {},
   "source": [
    "### Pipeline / GridSearchCV 생성 및 학습"
   ]
  },
  {
   "cell_type": "code",
   "execution_count": 22,
   "metadata": {},
   "outputs": [],
   "source": [
    "from sklearn.pipeline import Pipeline\n",
    "from sklearn.model_selection import GridSearchCV\n",
    "\n",
    "steps = [\n",
    "    ('scaler', StandardScaler()),\n",
    "    ('Knn', KNeighborsClassifier())\n",
    "]\n",
    "\n",
    "pipeline = Pipeline(steps, verbose = True)"
   ]
  },
  {
   "cell_type": "code",
   "execution_count": 23,
   "metadata": {},
   "outputs": [
    {
     "name": "stdout",
     "output_type": "stream",
     "text": [
      "[Pipeline] ............ (step 1 of 2) Processing scaler, total=   0.1s\n",
      "[Pipeline] ............... (step 2 of 2) Processing Knn, total=   0.0s\n"
     ]
    },
    {
     "data": {
      "text/plain": [
       "GridSearchCV(cv=4,\n",
       "             estimator=Pipeline(steps=[('scaler', StandardScaler()),\n",
       "                                       ('Knn', KNeighborsClassifier())],\n",
       "                                verbose=True),\n",
       "             n_jobs=-1,\n",
       "             param_grid={'Knn__n_neighbors': range(1, 11), 'Knn__p': [1, 2]},\n",
       "             scoring='accuracy')"
      ]
     },
     "execution_count": 23,
     "metadata": {},
     "output_type": "execute_result"
    }
   ],
   "source": [
    "# GridSearchCV 생성\n",
    "params = {\n",
    "    'Knn__n_neighbors' : range(1, 11),\n",
    "    'Knn__p' : [1, 2]\n",
    "}\n",
    "\n",
    "gs = GridSearchCV(pipeline,\n",
    "                  params, \n",
    "                  scoring = 'accuracy',\n",
    "                  cv = 4,\n",
    "                  n_jobs = -1\n",
    "                  )\n",
    "gs.fit(X_train, y_train)"
   ]
  },
  {
   "cell_type": "markdown",
   "metadata": {},
   "source": [
    "### 결과확인"
   ]
  },
  {
   "cell_type": "code",
   "execution_count": 24,
   "metadata": {},
   "outputs": [
    {
     "name": "stdout",
     "output_type": "stream",
     "text": [
      "best_params: {'Knn__n_neighbors': 6, 'Knn__p': 2}\n",
      "best_score: 0.976569388114971\n"
     ]
    }
   ],
   "source": [
    "print('best_params:', gs.best_params_)\n",
    "print('best_score:', gs.best_score_)"
   ]
  },
  {
   "cell_type": "code",
   "execution_count": 25,
   "metadata": {},
   "outputs": [
    {
     "data": {
      "text/html": [
       "<div>\n",
       "<style scoped>\n",
       "    .dataframe tbody tr th:only-of-type {\n",
       "        vertical-align: middle;\n",
       "    }\n",
       "\n",
       "    .dataframe tbody tr th {\n",
       "        vertical-align: top;\n",
       "    }\n",
       "\n",
       "    .dataframe thead th {\n",
       "        text-align: right;\n",
       "    }\n",
       "</style>\n",
       "<table border=\"1\" class=\"dataframe\">\n",
       "  <thead>\n",
       "    <tr style=\"text-align: right;\">\n",
       "      <th></th>\n",
       "      <th>mean_fit_time</th>\n",
       "      <th>std_fit_time</th>\n",
       "      <th>mean_score_time</th>\n",
       "      <th>std_score_time</th>\n",
       "      <th>param_Knn__n_neighbors</th>\n",
       "      <th>param_Knn__p</th>\n",
       "      <th>params</th>\n",
       "      <th>split0_test_score</th>\n",
       "      <th>split1_test_score</th>\n",
       "      <th>split2_test_score</th>\n",
       "      <th>split3_test_score</th>\n",
       "      <th>mean_test_score</th>\n",
       "      <th>std_test_score</th>\n",
       "      <th>rank_test_score</th>\n",
       "    </tr>\n",
       "  </thead>\n",
       "  <tbody>\n",
       "    <tr>\n",
       "      <th>11</th>\n",
       "      <td>0.002499</td>\n",
       "      <td>5.009176e-04</td>\n",
       "      <td>0.013992</td>\n",
       "      <td>0.003000</td>\n",
       "      <td>6</td>\n",
       "      <td>2</td>\n",
       "      <td>{'Knn__n_neighbors': 6, 'Knn__p': 2}</td>\n",
       "      <td>0.962617</td>\n",
       "      <td>0.971963</td>\n",
       "      <td>1.000000</td>\n",
       "      <td>0.971698</td>\n",
       "      <td>0.976569</td>\n",
       "      <td>0.014041</td>\n",
       "      <td>1</td>\n",
       "    </tr>\n",
       "    <tr>\n",
       "      <th>15</th>\n",
       "      <td>0.002252</td>\n",
       "      <td>4.325358e-04</td>\n",
       "      <td>0.009242</td>\n",
       "      <td>0.002165</td>\n",
       "      <td>8</td>\n",
       "      <td>2</td>\n",
       "      <td>{'Knn__n_neighbors': 8, 'Knn__p': 2}</td>\n",
       "      <td>0.953271</td>\n",
       "      <td>0.971963</td>\n",
       "      <td>1.000000</td>\n",
       "      <td>0.971698</td>\n",
       "      <td>0.974233</td>\n",
       "      <td>0.016695</td>\n",
       "      <td>2</td>\n",
       "    </tr>\n",
       "    <tr>\n",
       "      <th>14</th>\n",
       "      <td>0.002495</td>\n",
       "      <td>4.945974e-04</td>\n",
       "      <td>0.010249</td>\n",
       "      <td>0.002387</td>\n",
       "      <td>8</td>\n",
       "      <td>1</td>\n",
       "      <td>{'Knn__n_neighbors': 8, 'Knn__p': 1}</td>\n",
       "      <td>0.943925</td>\n",
       "      <td>0.971963</td>\n",
       "      <td>0.990566</td>\n",
       "      <td>0.981132</td>\n",
       "      <td>0.971896</td>\n",
       "      <td>0.017437</td>\n",
       "      <td>3</td>\n",
       "    </tr>\n",
       "    <tr>\n",
       "      <th>10</th>\n",
       "      <td>0.002998</td>\n",
       "      <td>5.430242e-07</td>\n",
       "      <td>0.013242</td>\n",
       "      <td>0.000829</td>\n",
       "      <td>6</td>\n",
       "      <td>1</td>\n",
       "      <td>{'Knn__n_neighbors': 6, 'Knn__p': 1}</td>\n",
       "      <td>0.943925</td>\n",
       "      <td>0.971963</td>\n",
       "      <td>0.990566</td>\n",
       "      <td>0.981132</td>\n",
       "      <td>0.971896</td>\n",
       "      <td>0.017437</td>\n",
       "      <td>3</td>\n",
       "    </tr>\n",
       "    <tr>\n",
       "      <th>19</th>\n",
       "      <td>0.010994</td>\n",
       "      <td>7.512020e-03</td>\n",
       "      <td>0.016490</td>\n",
       "      <td>0.006100</td>\n",
       "      <td>10</td>\n",
       "      <td>2</td>\n",
       "      <td>{'Knn__n_neighbors': 10, 'Knn__p': 2}</td>\n",
       "      <td>0.953271</td>\n",
       "      <td>0.971963</td>\n",
       "      <td>1.000000</td>\n",
       "      <td>0.962264</td>\n",
       "      <td>0.971874</td>\n",
       "      <td>0.017532</td>\n",
       "      <td>5</td>\n",
       "    </tr>\n",
       "  </tbody>\n",
       "</table>\n",
       "</div>"
      ],
      "text/plain": [
       "    mean_fit_time  std_fit_time  mean_score_time  std_score_time  \\\n",
       "11       0.002499  5.009176e-04         0.013992        0.003000   \n",
       "15       0.002252  4.325358e-04         0.009242        0.002165   \n",
       "14       0.002495  4.945974e-04         0.010249        0.002387   \n",
       "10       0.002998  5.430242e-07         0.013242        0.000829   \n",
       "19       0.010994  7.512020e-03         0.016490        0.006100   \n",
       "\n",
       "   param_Knn__n_neighbors param_Knn__p                                 params  \\\n",
       "11                      6            2   {'Knn__n_neighbors': 6, 'Knn__p': 2}   \n",
       "15                      8            2   {'Knn__n_neighbors': 8, 'Knn__p': 2}   \n",
       "14                      8            1   {'Knn__n_neighbors': 8, 'Knn__p': 1}   \n",
       "10                      6            1   {'Knn__n_neighbors': 6, 'Knn__p': 1}   \n",
       "19                     10            2  {'Knn__n_neighbors': 10, 'Knn__p': 2}   \n",
       "\n",
       "    split0_test_score  split1_test_score  split2_test_score  \\\n",
       "11           0.962617           0.971963           1.000000   \n",
       "15           0.953271           0.971963           1.000000   \n",
       "14           0.943925           0.971963           0.990566   \n",
       "10           0.943925           0.971963           0.990566   \n",
       "19           0.953271           0.971963           1.000000   \n",
       "\n",
       "    split3_test_score  mean_test_score  std_test_score  rank_test_score  \n",
       "11           0.971698         0.976569        0.014041                1  \n",
       "15           0.971698         0.974233        0.016695                2  \n",
       "14           0.981132         0.971896        0.017437                3  \n",
       "10           0.981132         0.971896        0.017437                3  \n",
       "19           0.962264         0.971874        0.017532                5  "
      ]
     },
     "execution_count": 25,
     "metadata": {},
     "output_type": "execute_result"
    }
   ],
   "source": [
    "result_df = pd.DataFrame(gs.cv_results_).sort_values('rank_test_score')\n",
    "result_df.head()"
   ]
  },
  {
   "cell_type": "markdown",
   "metadata": {},
   "source": [
    "### 최종평가"
   ]
  },
  {
   "cell_type": "code",
   "execution_count": 26,
   "metadata": {},
   "outputs": [
    {
     "data": {
      "text/plain": [
       "0.951048951048951"
      ]
     },
     "execution_count": 26,
     "metadata": {},
     "output_type": "execute_result"
    }
   ],
   "source": [
    "accuracy_score(y_test, gs.predict(X_test))"
   ]
  }
 ],
 "metadata": {
  "kernelspec": {
   "display_name": "Python 3.9.13 ('base')",
   "language": "python",
   "name": "python3"
  },
  "language_info": {
   "codemirror_mode": {
    "name": "ipython",
    "version": 3
   },
   "file_extension": ".py",
   "mimetype": "text/x-python",
   "name": "python",
   "nbconvert_exporter": "python",
   "pygments_lexer": "ipython3",
   "version": "3.9.13"
  },
  "orig_nbformat": 4,
  "vscode": {
   "interpreter": {
    "hash": "57bc2b6ce032b5f0e93daa91901b7ea38a856826ef43aa9e95b6d3999f5310df"
   }
  }
 },
 "nbformat": 4,
 "nbformat_minor": 2
}
