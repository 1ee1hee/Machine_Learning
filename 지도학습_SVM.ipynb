{
 "cells": [
  {
   "cell_type": "markdown",
   "metadata": {},
   "source": [
    "# Support Vector Machine (SVM)\n",
    "- 딥러닝 이전에 분류에서 뛰어난 성능으로 많이 사용되었던 분류 모델\n",
    "- 하나의 분류 그룸을 다른 그룹과 분리하는 최적의 경계를 찾아내는 알고리즘\n",
    "- 중간 크기의 데이터셋과 특성이(Feature) 많은 복잡한 데이터셋에서 성능이 좋은 것으로 알려져있다\n",
    "- 데이터에 비례해서 시간이 걸린다. 데이터가 적당할수록 성능이 좋다\n",
    "\n",
    "## 선형(Linear) SVM\n",
    "**선 (1)과 (2)중 어떤 선이 최적의 분류일까?**\n",
    "<figure>\n",
    "    <img src=\"svm_png/svm_01.png\">\n",
    "</figure>"
   ]
  },
  {
   "cell_type": "markdown",
   "metadata": {},
   "source": [
    "<figure>\n",
    "    <img src=\"svm_png/svm_02.png\">\n",
    "</figure>\n",
    "\n",
    "- (2)가 최적의 분류를 위한 경계선이다.\n",
    "    - 각 클래스의 별로 가장 가까이 있는 데이터간의 거리가 가장 넓다\n",
    "- 넓다는 것은 겹치는 부분이 적어 새로운 데이터를 예측할 때 모호성이 적어 맞을 확률이 높다\n",
    "- **SVM 모델은 두 클래스 간의 거리를 가장 넓게 분리할 수 있는 경계선을 찾는 것을 목표로 한다**"
   ]
  },
  {
   "cell_type": "markdown",
   "metadata": {},
   "source": [
    "## SVM 목표 : support vector간의 최대 margin을 가지는 결정경계를 찾는다\n",
    "- **Support Vector**: 경계를 찾는데 기준이 되는 데이터포인트, 결정 경계에 가장 가까이 있는 vector(데이터 포인트)를 의미\n",
    "- **margin**: 두 support vector간의 너비\n",
    "- margin이 넓은 결정경계를 만드는 함수를 찾는 것\n",
    "<figure>\n",
    "    <img src=\"svm_png/svm_03.png\">\n",
    "</figure>"
   ]
  },
  {
   "cell_type": "markdown",
   "metadata": {},
   "source": [
    "## 규제 - Hard Margin, Soft Margin\n",
    "- SVM은 데이터 포인트들을 잘 분리하면서 Margin의 크기를 최대화하는 것이 목적\n",
    "    - Margin의 최대화에 가장 문제가 되는 것은 이상치(Outlier)\n",
    "    - Train set의 이상치들은 Overfitting에 주 원인이 된다\n",
    "- Margin을 나눌 때 Outlier을 얼마나 무시할 것인지에 따라 Hard margin, soft margin으로 나뉜다\n",
    "\n",
    "- **Hard Margin**\n",
    "    - Outlier들을 무시하고 Support Vector를 찾는다. Margin이 매우 좁아질 수 있다.\n",
    "    - 학습시 overfitting 문제가 발생할 수 있다\n",
    "\n",
    "- **Soft Margin**\n",
    "    - Outlier들이 Margin 안에 어느정도 포함되도록 기준을 잡는다. Margin의 거리가 넓어진다.\n",
    "    - 얼마나 많은 Outlier를 무시할지는 하이퍼하라미터로 설정\n",
    "    - 무시하는 비율이 크면 잘 분리해야 할 것도 이상치로 판단해 underfitting 문제가 발생할 수 있다\n",
    "    \n",
    "![image](https://www.researchgate.net/profile/Cheng-Soon-Ong/publication/23442384/figure/fig8/AS:341086548578318@1458332778867/The-effect-of-the-soft-margin-constant-C-on-the-decision-boundary-We-modified-the-toy.png)"
   ]
  },
  {
   "cell_type": "markdown",
   "metadata": {},
   "source": [
    "## 하이퍼파라미터 C\n",
    "- 이상치를 무시하는 비율을 설정하는 하이퍼파라미터\n",
    "- 노이즈가 있는 데이터나 선형적으로 분리 되지 않는 경우 **하이퍼파라미터인 C값**을 조정해 마진을 변경\n",
    "- 기본값 : 1\n",
    "- C값이 크면 제약조건이 강하다\n",
    "    - 마진폭이 좁아져 마진 오류가 작지만 Overfitting 가능성이 있다\n",
    "- C값이 작으면 제약조건이 약하다\n",
    "    - 마진폭이 넓어져 마진 오류가 크다\n",
    "    - 훈련데이터에서 성능이 떨어지지만 일반화(generalization)되어 테스트 데이터 성능이 올라간다.\n",
    "    - Underfitting 가능성이 있다"
   ]
  },
  {
   "cell_type": "markdown",
   "metadata": {},
   "source": [
    "## Linear SVM에서 C의 변화에 따른 성능 변화 확인\n",
    "- Overfitting : C값을 줄인다\n",
    "- Underfitting : C값을 늘린다"
   ]
  },
  {
   "cell_type": "markdown",
   "metadata": {},
   "source": [
    "### import"
   ]
  },
  {
   "cell_type": "code",
   "execution_count": 1,
   "metadata": {},
   "outputs": [],
   "source": [
    "import numpy as np\n",
    "import pandas as pd\n",
    "\n",
    "from sklearn.datasets import load_breast_cancer\n",
    "from sklearn.model_selection import train_test_split, GridSearchCV\n",
    "from sklearn.preprocessing import StandardScaler\n",
    "from sklearn.svm import SVC, LinearSVC\n",
    "from sklearn.metrics import accuracy_score"
   ]
  },
  {
   "cell_type": "markdown",
   "metadata": {},
   "source": [
    "### 데이터 로딩, train/test set 나누기"
   ]
  },
  {
   "cell_type": "code",
   "execution_count": 2,
   "metadata": {},
   "outputs": [],
   "source": [
    "X, y = load_breast_cancer(return_X_y = True)\n",
    "X_train, X_test, y_train, y_test = train_test_split(X, y, stratify = y, random_state = 0)"
   ]
  },
  {
   "cell_type": "markdown",
   "metadata": {},
   "source": [
    "### Feature Scaling"
   ]
  },
  {
   "cell_type": "code",
   "execution_count": 3,
   "metadata": {},
   "outputs": [],
   "source": [
    "scaler = StandardScaler()\n",
    "X_train_scaled = scaler.fit_transform(X_train)\n",
    "X_test_scaled = scaler.transform(X_test)"
   ]
  },
  {
   "cell_type": "markdown",
   "metadata": {},
   "source": [
    "### 모델생성 및 학습\n",
    "- 규제 파라미터인 C값을 변경하면서 성능 확인"
   ]
  },
  {
   "cell_type": "code",
   "execution_count": 4,
   "metadata": {},
   "outputs": [],
   "source": [
    "c_list = [0.0001, 0.001, 0.01, 0.1, 1, 10, 100]\n",
    "train_acc_list = []\n",
    "test_acc_list = []\n",
    "\n",
    "for c in c_list:\n",
    "    svc = SVC(kernel = 'linear', C = c, random_state = 0)\n",
    "    svc.fit(X_train_scaled, y_train)\n",
    "    \n",
    "    train_pred = svc.predict(X_train_scaled)\n",
    "    test_pred = svc.predict(X_test_scaled)\n",
    "    \n",
    "    train_acc_list.append(accuracy_score(y_train, train_pred))\n",
    "    test_acc_list.append(accuracy_score(y_test, test_pred))"
   ]
  },
  {
   "cell_type": "markdown",
   "metadata": {},
   "source": [
    "###  결과 확인"
   ]
  },
  {
   "cell_type": "code",
   "execution_count": 5,
   "metadata": {},
   "outputs": [
    {
     "data": {
      "text/html": [
       "<div>\n",
       "<style scoped>\n",
       "    .dataframe tbody tr th:only-of-type {\n",
       "        vertical-align: middle;\n",
       "    }\n",
       "\n",
       "    .dataframe tbody tr th {\n",
       "        vertical-align: top;\n",
       "    }\n",
       "\n",
       "    .dataframe thead th {\n",
       "        text-align: right;\n",
       "    }\n",
       "</style>\n",
       "<table border=\"1\" class=\"dataframe\">\n",
       "  <thead>\n",
       "    <tr style=\"text-align: right;\">\n",
       "      <th></th>\n",
       "      <th>train</th>\n",
       "      <th>test</th>\n",
       "    </tr>\n",
       "    <tr>\n",
       "      <th>C</th>\n",
       "      <th></th>\n",
       "      <th></th>\n",
       "    </tr>\n",
       "  </thead>\n",
       "  <tbody>\n",
       "    <tr>\n",
       "      <th>0.0001</th>\n",
       "      <td>0.643192</td>\n",
       "      <td>0.643357</td>\n",
       "    </tr>\n",
       "    <tr>\n",
       "      <th>0.0010</th>\n",
       "      <td>0.936620</td>\n",
       "      <td>0.944056</td>\n",
       "    </tr>\n",
       "    <tr>\n",
       "      <th>0.0100</th>\n",
       "      <td>0.978873</td>\n",
       "      <td>0.965035</td>\n",
       "    </tr>\n",
       "    <tr>\n",
       "      <th>0.1000</th>\n",
       "      <td>0.990610</td>\n",
       "      <td>0.958042</td>\n",
       "    </tr>\n",
       "    <tr>\n",
       "      <th>1.0000</th>\n",
       "      <td>0.990610</td>\n",
       "      <td>0.965035</td>\n",
       "    </tr>\n",
       "    <tr>\n",
       "      <th>10.0000</th>\n",
       "      <td>0.992958</td>\n",
       "      <td>0.958042</td>\n",
       "    </tr>\n",
       "    <tr>\n",
       "      <th>100.0000</th>\n",
       "      <td>1.000000</td>\n",
       "      <td>0.916084</td>\n",
       "    </tr>\n",
       "  </tbody>\n",
       "</table>\n",
       "</div>"
      ],
      "text/plain": [
       "             train      test\n",
       "C                           \n",
       "0.0001    0.643192  0.643357\n",
       "0.0010    0.936620  0.944056\n",
       "0.0100    0.978873  0.965035\n",
       "0.1000    0.990610  0.958042\n",
       "1.0000    0.990610  0.965035\n",
       "10.0000   0.992958  0.958042\n",
       "100.0000  1.000000  0.916084"
      ]
     },
     "execution_count": 5,
     "metadata": {},
     "output_type": "execute_result"
    }
   ],
   "source": [
    "result = pd.DataFrame({\n",
    "    'train' : train_acc_list, \n",
    "    'test' : test_acc_list\n",
    "}, index = c_list)\n",
    "\n",
    "result.rename_axis('C', axis = 0, inplace = True)\n",
    "result"
   ]
  },
  {
   "cell_type": "code",
   "execution_count": 6,
   "metadata": {},
   "outputs": [
    {
     "data": {
      "image/png": "[encoded data removed]",
      "text/plain": [
       "<Figure size 640x480 with 1 Axes>"
      ]
     },
     "metadata": {},
     "output_type": "display_data"
    }
   ],
   "source": [
    "import matplotlib.pyplot as plt\n",
    "result.plot(ylim = (0.94, 1.0))\n",
    "plt.show()"
   ]
  },
  {
   "cell_type": "code",
   "execution_count": 7,
   "metadata": {},
   "outputs": [
    {
     "name": "stdout",
     "output_type": "stream",
     "text": [
      "[0.0001, 0.001, 0.01, 0.1, 1, 10, 100]\n",
      "[-4. -3. -2. -1.  0.  1.  2.]\n"
     ]
    },
    {
     "data": {
      "image/png": "[encoded data removed]",
      "text/plain": [
       "<Figure size 640x480 with 1 Axes>"
      ]
     },
     "metadata": {},
     "output_type": "display_data"
    }
   ],
   "source": [
    "c = np.log10(np.array(c_list))\n",
    "print(c_list)\n",
    "print(c)\n",
    "plt.plot(c, result['train'], label = 'Train set')\n",
    "plt.plot(c, result['test'], label = 'Test set')\n",
    "plt.legend()\n",
    "plt.ylim(0.85, 1.0)\n",
    "plt.show()"
   ]
  },
  {
   "cell_type": "markdown",
   "metadata": {},
   "source": [
    "## Kernel SVM (비선형(Non Linear) SVM)\n",
    "### 비선형데이터 셋에 SVM 적용\n",
    "- 선형으로 분리가 안되는 경우\n",
    "<figure>\n",
    "    <img src=\"svm_png/svm_04.png\">\n",
    "</figure>\n",
    "\n",
    "- 다항식 특성을 추가하여 차원을 늘려 선형 분리가 되도록 변환 \n",
    "\n",
    "[2차원으로 변환 $x_3=x_1^2$ 항 추가]\n",
    "<figure>\n",
    "    <img src=\"svm_png/svm_05.png\">\n",
    "</figure>\n",
    "\n",
    "[원래 공간으로 변환]\n",
    "<figure>\n",
    "    <img src=\"svm_png/svm_06.png\">\n",
    "</figure>"
   ]
  },
  {
   "cell_type": "markdown",
   "metadata": {},
   "source": [
    "### Kernel trick(커널 트릭)\n",
    "- 비선형 데이터셋을 선형으로 분리하기 위해 차원을 변경해야 한다\n",
    "- 이때 사용하는 함수를 **Kernel**, 차원 변경을 **kernel trick**이라 한다\n",
    "    - 대표적인 kernel 함수\n",
    "        - **Radial kernel**\n",
    "        - Polynomial kernel\n",
    "        - Sigmoid kernel\n",
    "\n",
    "- **Non linear SVM 모델의 하이퍼파라미터**\n",
    "    - C\n",
    "        - 오차 허용 기준 관련 규제\n",
    "            - 기본 값은 1이며 클수록 규제를 강하게 하고 작을 수록 규제를 약하게 한다\n",
    "        - 모델이 과대적합(Overfitting)일 경우 값을 감소, 과소적합(Underfitting)일 경우 값을 증가\n",
    "    - gamma\n",
    "        - Kernel 함수 규제 값\n",
    "            - 기본 값은 1이며 클수록 규제를 강하게 하고 작을수록 규제를 약하게 한다\n",
    "        - 모델이 과대적합(Overfitting)일 경우 값을 감소, 과소적합(Underfitting)일 경우 값을 증가"
   ]
  },
  {
   "cell_type": "code",
   "execution_count": 8,
   "metadata": {},
   "outputs": [],
   "source": [
    "gamma_list = [0.0001, 0.001, 0.01, 0.1, 1, 10, 100]\n",
    "train_acc_list = []\n",
    "test_acc_list = []\n",
    "\n",
    "for gamma in gamma_list:\n",
    "    svc = SVC(kernel = 'rbf',\n",
    "              C = 1, \n",
    "              gamma = gamma,\n",
    "              random_state = 0\n",
    "              )\n",
    "    svc.fit(X_train_scaled, y_train)\n",
    "    \n",
    "    train_pred = svc.predict(X_train_scaled)\n",
    "    test_pred = svc.predict(X_test_scaled)\n",
    "    \n",
    "    train_acc_list.append(accuracy_score(y_train, train_pred))\n",
    "    test_acc_list.append(accuracy_score(y_test, test_pred))"
   ]
  },
  {
   "cell_type": "code",
   "execution_count": 9,
   "metadata": {},
   "outputs": [],
   "source": [
    "result2 = pd.DataFrame({\n",
    "    'train' : train_acc_list,\n",
    "    'test' : test_acc_list\n",
    "}, index = gamma_list)\n",
    "result2.rename_axis('gamma', axis = 0, inplace = True)"
   ]
  },
  {
   "cell_type": "code",
   "execution_count": 10,
   "metadata": {},
   "outputs": [
    {
     "data": {
      "text/html": [
       "<div>\n",
       "<style scoped>\n",
       "    .dataframe tbody tr th:only-of-type {\n",
       "        vertical-align: middle;\n",
       "    }\n",
       "\n",
       "    .dataframe tbody tr th {\n",
       "        vertical-align: top;\n",
       "    }\n",
       "\n",
       "    .dataframe thead th {\n",
       "        text-align: right;\n",
       "    }\n",
       "</style>\n",
       "<table border=\"1\" class=\"dataframe\">\n",
       "  <thead>\n",
       "    <tr style=\"text-align: right;\">\n",
       "      <th></th>\n",
       "      <th>train</th>\n",
       "      <th>test</th>\n",
       "    </tr>\n",
       "    <tr>\n",
       "      <th>gamma</th>\n",
       "      <th></th>\n",
       "      <th></th>\n",
       "    </tr>\n",
       "  </thead>\n",
       "  <tbody>\n",
       "    <tr>\n",
       "      <th>0.0001</th>\n",
       "      <td>0.791080</td>\n",
       "      <td>0.797203</td>\n",
       "    </tr>\n",
       "    <tr>\n",
       "      <th>0.0010</th>\n",
       "      <td>0.950704</td>\n",
       "      <td>0.958042</td>\n",
       "    </tr>\n",
       "    <tr>\n",
       "      <th>0.0100</th>\n",
       "      <td>0.985915</td>\n",
       "      <td>0.958042</td>\n",
       "    </tr>\n",
       "    <tr>\n",
       "      <th>0.1000</th>\n",
       "      <td>0.995305</td>\n",
       "      <td>0.923077</td>\n",
       "    </tr>\n",
       "    <tr>\n",
       "      <th>1.0000</th>\n",
       "      <td>1.000000</td>\n",
       "      <td>0.636364</td>\n",
       "    </tr>\n",
       "    <tr>\n",
       "      <th>10.0000</th>\n",
       "      <td>1.000000</td>\n",
       "      <td>0.629371</td>\n",
       "    </tr>\n",
       "    <tr>\n",
       "      <th>100.0000</th>\n",
       "      <td>1.000000</td>\n",
       "      <td>0.629371</td>\n",
       "    </tr>\n",
       "  </tbody>\n",
       "</table>\n",
       "</div>"
      ],
      "text/plain": [
       "             train      test\n",
       "gamma                       \n",
       "0.0001    0.791080  0.797203\n",
       "0.0010    0.950704  0.958042\n",
       "0.0100    0.985915  0.958042\n",
       "0.1000    0.995305  0.923077\n",
       "1.0000    1.000000  0.636364\n",
       "10.0000   1.000000  0.629371\n",
       "100.0000  1.000000  0.629371"
      ]
     },
     "execution_count": 10,
     "metadata": {},
     "output_type": "execute_result"
    }
   ],
   "source": [
    "result2"
   ]
  },
  {
   "cell_type": "code",
   "execution_count": 12,
   "metadata": {},
   "outputs": [
    {
     "data": {
      "image/png": "[encoded data removed]",
      "text/plain": [
       "<Figure size 640x480 with 1 Axes>"
      ]
     },
     "metadata": {},
     "output_type": "display_data"
    }
   ],
   "source": [
    "result2.plot()\n",
    "plt.show()"
   ]
  },
  {
   "cell_type": "markdown",
   "metadata": {},
   "source": [
    "### ROC AUC score, AP score\n",
    "- 모델이 예측한 **양성의 확률** => model.predict_proba(X)"
   ]
  },
  {
   "cell_type": "code",
   "execution_count": 13,
   "metadata": {},
   "outputs": [
    {
     "data": {
      "text/plain": [
       "SVC(gamma=0.001, probability=True, random_state=0)"
      ]
     },
     "execution_count": 13,
     "metadata": {},
     "output_type": "execute_result"
    }
   ],
   "source": [
    "svc = SVC(C = 1.0, gamma = 0.001, random_state = 0, probability = True)\n",
    "\n",
    "svc.fit(X_train_scaled, y_train)"
   ]
  },
  {
   "cell_type": "code",
   "execution_count": 14,
   "metadata": {},
   "outputs": [],
   "source": [
    "test_proba = svc.predict_proba(X_test_scaled)[:, 1]"
   ]
  },
  {
   "cell_type": "code",
   "execution_count": 15,
   "metadata": {},
   "outputs": [
    {
     "name": "stdout",
     "output_type": "stream",
     "text": [
      "roc_auc_score: 0.9842767295597484\n",
      "average_precision_score: 0.9901499415880832\n"
     ]
    }
   ],
   "source": [
    "from sklearn.metrics import roc_auc_score, average_precision_score\n",
    "\n",
    "print('roc_auc_score:', roc_auc_score(y_test, test_proba))\n",
    "print('average_precision_score:', average_precision_score(y_test, test_proba))"
   ]
  },
  {
   "cell_type": "markdown",
   "metadata": {},
   "source": [
    "## GridSearch로 최적의 조합 찾기\n",
    "### GridSearchCV 생성 및 학습\n",
    "- kernel : rbf, linear\n",
    "- C, gamma : 0.0001 ~ 10 => 10의 제곱배\n",
    "- LinearSVC : C\n",
    "- RBF SVC : C, gamma"
   ]
  },
  {
   "cell_type": "code",
   "execution_count": 16,
   "metadata": {},
   "outputs": [],
   "source": [
    "from sklearn.pipeline import Pipeline\n",
    "\n",
    "steps = [\n",
    "    ('scaler', StandardScaler()),\n",
    "    ('svc', SVC(random_state = 0, probability = True))\n",
    "]\n",
    "\n",
    "pipeline = Pipeline(steps, verbose = True)"
   ]
  },
  {
   "cell_type": "code",
   "execution_count": 17,
   "metadata": {},
   "outputs": [
    {
     "name": "stdout",
     "output_type": "stream",
     "text": [
      "[Pipeline] ............ (step 1 of 2) Processing scaler, total=   0.1s\n",
      "[Pipeline] ............... (step 2 of 2) Processing svc, total=   0.1s\n"
     ]
    },
    {
     "data": {
      "text/plain": [
       "GridSearchCV(cv=4,\n",
       "             estimator=Pipeline(steps=[('scaler', StandardScaler()),\n",
       "                                       ('svc',\n",
       "                                        SVC(probability=True, random_state=0))],\n",
       "                                verbose=True),\n",
       "             n_jobs=-1,\n",
       "             param_grid={'svc__C': [0.0001, 0.001, 0.01, 0.1, 1, 10, 20, 30],\n",
       "                         'svc__gamma': [0.0001, 0.001, 0.01, 0.1, 1, 10],\n",
       "                         'svc__kernel': ['linear', 'rbf', 'poly']},\n",
       "             refit='accuracy', scoring=['accuracy', 'roc_auc'])"
      ]
     },
     "execution_count": 17,
     "metadata": {},
     "output_type": "execute_result"
    }
   ],
   "source": [
    "# GridSearchCV\n",
    "params = {\n",
    "    'svc__kernel' : ['linear', 'rbf', 'poly'],\n",
    "    'svc__C' : [0.0001, 0.001, 0.01, 0.1, 1, 10, 20, 30],\n",
    "    'svc__gamma' : [0.0001, 0.001, 0.01, 0.1, 1, 10]\n",
    "}\n",
    "\n",
    "gs = GridSearchCV(pipeline, params, scoring = ['accuracy', 'roc_auc'], refit = 'accuracy', cv = 4, n_jobs = -1)\n",
    "gs.fit(X_train, y_train)"
   ]
  },
  {
   "cell_type": "markdown",
   "metadata": {},
   "source": [
    "### 결과확인"
   ]
  },
  {
   "cell_type": "code",
   "execution_count": 19,
   "metadata": {},
   "outputs": [
    {
     "name": "stdout",
     "output_type": "stream",
     "text": [
      "best_params: {'svc__C': 10, 'svc__gamma': 0.01, 'svc__kernel': 'rbf'}\n",
      "best_score: 0.9812643272791395\n"
     ]
    }
   ],
   "source": [
    "print('best_params:', gs.best_params_)\n",
    "print('best_score:', gs.best_score_)"
   ]
  },
  {
   "cell_type": "code",
   "execution_count": 20,
   "metadata": {},
   "outputs": [
    {
     "data": {
      "text/html": [
       "<div>\n",
       "<style scoped>\n",
       "    .dataframe tbody tr th:only-of-type {\n",
       "        vertical-align: middle;\n",
       "    }\n",
       "\n",
       "    .dataframe tbody tr th {\n",
       "        vertical-align: top;\n",
       "    }\n",
       "\n",
       "    .dataframe thead th {\n",
       "        text-align: right;\n",
       "    }\n",
       "</style>\n",
       "<table border=\"1\" class=\"dataframe\">\n",
       "  <thead>\n",
       "    <tr style=\"text-align: right;\">\n",
       "      <th></th>\n",
       "      <th>mean_fit_time</th>\n",
       "      <th>std_fit_time</th>\n",
       "      <th>mean_score_time</th>\n",
       "      <th>std_score_time</th>\n",
       "      <th>param_svc__C</th>\n",
       "      <th>param_svc__gamma</th>\n",
       "      <th>param_svc__kernel</th>\n",
       "      <th>params</th>\n",
       "      <th>split0_test_accuracy</th>\n",
       "      <th>split1_test_accuracy</th>\n",
       "      <th>...</th>\n",
       "      <th>mean_test_accuracy</th>\n",
       "      <th>std_test_accuracy</th>\n",
       "      <th>rank_test_accuracy</th>\n",
       "      <th>split0_test_roc_auc</th>\n",
       "      <th>split1_test_roc_auc</th>\n",
       "      <th>split2_test_roc_auc</th>\n",
       "      <th>split3_test_roc_auc</th>\n",
       "      <th>mean_test_roc_auc</th>\n",
       "      <th>std_test_roc_auc</th>\n",
       "      <th>rank_test_roc_auc</th>\n",
       "    </tr>\n",
       "  </thead>\n",
       "  <tbody>\n",
       "    <tr>\n",
       "      <th>97</th>\n",
       "      <td>0.067981</td>\n",
       "      <td>0.024388</td>\n",
       "      <td>0.039485</td>\n",
       "      <td>0.038497</td>\n",
       "      <td>10</td>\n",
       "      <td>0.01</td>\n",
       "      <td>rbf</td>\n",
       "      <td>{'svc__C': 10, 'svc__gamma': 0.01, 'svc__kerne...</td>\n",
       "      <td>0.971963</td>\n",
       "      <td>0.971963</td>\n",
       "      <td>...</td>\n",
       "      <td>0.981264</td>\n",
       "      <td>0.009302</td>\n",
       "      <td>1</td>\n",
       "      <td>0.993657</td>\n",
       "      <td>0.987687</td>\n",
       "      <td>1.0</td>\n",
       "      <td>0.999621</td>\n",
       "      <td>0.995241</td>\n",
       "      <td>0.005035</td>\n",
       "      <td>4</td>\n",
       "    </tr>\n",
       "    <tr>\n",
       "      <th>72</th>\n",
       "      <td>0.054217</td>\n",
       "      <td>0.016352</td>\n",
       "      <td>0.007997</td>\n",
       "      <td>0.003314</td>\n",
       "      <td>1</td>\n",
       "      <td>0.0001</td>\n",
       "      <td>linear</td>\n",
       "      <td>{'svc__C': 1, 'svc__gamma': 0.0001, 'svc__kern...</td>\n",
       "      <td>0.981308</td>\n",
       "      <td>0.971963</td>\n",
       "      <td>...</td>\n",
       "      <td>0.981242</td>\n",
       "      <td>0.006578</td>\n",
       "      <td>2</td>\n",
       "      <td>0.986940</td>\n",
       "      <td>0.982463</td>\n",
       "      <td>1.0</td>\n",
       "      <td>0.997348</td>\n",
       "      <td>0.991688</td>\n",
       "      <td>0.007225</td>\n",
       "      <td>33</td>\n",
       "    </tr>\n",
       "    <tr>\n",
       "      <th>75</th>\n",
       "      <td>0.037978</td>\n",
       "      <td>0.007378</td>\n",
       "      <td>0.006248</td>\n",
       "      <td>0.001299</td>\n",
       "      <td>1</td>\n",
       "      <td>0.001</td>\n",
       "      <td>linear</td>\n",
       "      <td>{'svc__C': 1, 'svc__gamma': 0.001, 'svc__kerne...</td>\n",
       "      <td>0.981308</td>\n",
       "      <td>0.971963</td>\n",
       "      <td>...</td>\n",
       "      <td>0.981242</td>\n",
       "      <td>0.006578</td>\n",
       "      <td>2</td>\n",
       "      <td>0.986940</td>\n",
       "      <td>0.982463</td>\n",
       "      <td>1.0</td>\n",
       "      <td>0.997348</td>\n",
       "      <td>0.991688</td>\n",
       "      <td>0.007225</td>\n",
       "      <td>33</td>\n",
       "    </tr>\n",
       "    <tr>\n",
       "      <th>78</th>\n",
       "      <td>0.047241</td>\n",
       "      <td>0.008421</td>\n",
       "      <td>0.007746</td>\n",
       "      <td>0.004322</td>\n",
       "      <td>1</td>\n",
       "      <td>0.01</td>\n",
       "      <td>linear</td>\n",
       "      <td>{'svc__C': 1, 'svc__gamma': 0.01, 'svc__kernel...</td>\n",
       "      <td>0.981308</td>\n",
       "      <td>0.971963</td>\n",
       "      <td>...</td>\n",
       "      <td>0.981242</td>\n",
       "      <td>0.006578</td>\n",
       "      <td>2</td>\n",
       "      <td>0.986940</td>\n",
       "      <td>0.982463</td>\n",
       "      <td>1.0</td>\n",
       "      <td>0.997348</td>\n",
       "      <td>0.991688</td>\n",
       "      <td>0.007225</td>\n",
       "      <td>33</td>\n",
       "    </tr>\n",
       "    <tr>\n",
       "      <th>87</th>\n",
       "      <td>0.046005</td>\n",
       "      <td>0.022757</td>\n",
       "      <td>0.005256</td>\n",
       "      <td>0.000837</td>\n",
       "      <td>1</td>\n",
       "      <td>10</td>\n",
       "      <td>linear</td>\n",
       "      <td>{'svc__C': 1, 'svc__gamma': 10, 'svc__kernel':...</td>\n",
       "      <td>0.981308</td>\n",
       "      <td>0.971963</td>\n",
       "      <td>...</td>\n",
       "      <td>0.981242</td>\n",
       "      <td>0.006578</td>\n",
       "      <td>2</td>\n",
       "      <td>0.986940</td>\n",
       "      <td>0.982463</td>\n",
       "      <td>1.0</td>\n",
       "      <td>0.997348</td>\n",
       "      <td>0.991688</td>\n",
       "      <td>0.007225</td>\n",
       "      <td>33</td>\n",
       "    </tr>\n",
       "  </tbody>\n",
       "</table>\n",
       "<p>5 rows × 22 columns</p>\n",
       "</div>"
      ],
      "text/plain": [
       "    mean_fit_time  std_fit_time  mean_score_time  std_score_time param_svc__C  \\\n",
       "97       0.067981      0.024388         0.039485        0.038497           10   \n",
       "72       0.054217      0.016352         0.007997        0.003314            1   \n",
       "75       0.037978      0.007378         0.006248        0.001299            1   \n",
       "78       0.047241      0.008421         0.007746        0.004322            1   \n",
       "87       0.046005      0.022757         0.005256        0.000837            1   \n",
       "\n",
       "   param_svc__gamma param_svc__kernel  \\\n",
       "97             0.01               rbf   \n",
       "72           0.0001            linear   \n",
       "75            0.001            linear   \n",
       "78             0.01            linear   \n",
       "87               10            linear   \n",
       "\n",
       "                                               params  split0_test_accuracy  \\\n",
       "97  {'svc__C': 10, 'svc__gamma': 0.01, 'svc__kerne...              0.971963   \n",
       "72  {'svc__C': 1, 'svc__gamma': 0.0001, 'svc__kern...              0.981308   \n",
       "75  {'svc__C': 1, 'svc__gamma': 0.001, 'svc__kerne...              0.981308   \n",
       "78  {'svc__C': 1, 'svc__gamma': 0.01, 'svc__kernel...              0.981308   \n",
       "87  {'svc__C': 1, 'svc__gamma': 10, 'svc__kernel':...              0.981308   \n",
       "\n",
       "    split1_test_accuracy  ...  mean_test_accuracy  std_test_accuracy  \\\n",
       "97              0.971963  ...            0.981264           0.009302   \n",
       "72              0.971963  ...            0.981242           0.006578   \n",
       "75              0.971963  ...            0.981242           0.006578   \n",
       "78              0.971963  ...            0.981242           0.006578   \n",
       "87              0.971963  ...            0.981242           0.006578   \n",
       "\n",
       "    rank_test_accuracy  split0_test_roc_auc  split1_test_roc_auc  \\\n",
       "97                   1             0.993657             0.987687   \n",
       "72                   2             0.986940             0.982463   \n",
       "75                   2             0.986940             0.982463   \n",
       "78                   2             0.986940             0.982463   \n",
       "87                   2             0.986940             0.982463   \n",
       "\n",
       "    split2_test_roc_auc  split3_test_roc_auc  mean_test_roc_auc  \\\n",
       "97                  1.0             0.999621           0.995241   \n",
       "72                  1.0             0.997348           0.991688   \n",
       "75                  1.0             0.997348           0.991688   \n",
       "78                  1.0             0.997348           0.991688   \n",
       "87                  1.0             0.997348           0.991688   \n",
       "\n",
       "    std_test_roc_auc  rank_test_roc_auc  \n",
       "97          0.005035                  4  \n",
       "72          0.007225                 33  \n",
       "75          0.007225                 33  \n",
       "78          0.007225                 33  \n",
       "87          0.007225                 33  \n",
       "\n",
       "[5 rows x 22 columns]"
      ]
     },
     "execution_count": 20,
     "metadata": {},
     "output_type": "execute_result"
    }
   ],
   "source": [
    "result = pd.DataFrame(gs.cv_results_)\n",
    "result.sort_values('rank_test_accuracy').head()"
   ]
  },
  {
   "cell_type": "code",
   "execution_count": 21,
   "metadata": {},
   "outputs": [
    {
     "data": {
      "text/html": [
       "<div>\n",
       "<style scoped>\n",
       "    .dataframe tbody tr th:only-of-type {\n",
       "        vertical-align: middle;\n",
       "    }\n",
       "\n",
       "    .dataframe tbody tr th {\n",
       "        vertical-align: top;\n",
       "    }\n",
       "\n",
       "    .dataframe thead th {\n",
       "        text-align: right;\n",
       "    }\n",
       "</style>\n",
       "<table border=\"1\" class=\"dataframe\">\n",
       "  <thead>\n",
       "    <tr style=\"text-align: right;\">\n",
       "      <th></th>\n",
       "      <th>mean_fit_time</th>\n",
       "      <th>std_fit_time</th>\n",
       "      <th>mean_score_time</th>\n",
       "      <th>std_score_time</th>\n",
       "      <th>param_svc__C</th>\n",
       "      <th>param_svc__gamma</th>\n",
       "      <th>param_svc__kernel</th>\n",
       "      <th>params</th>\n",
       "      <th>split0_test_accuracy</th>\n",
       "      <th>split1_test_accuracy</th>\n",
       "      <th>...</th>\n",
       "      <th>mean_test_accuracy</th>\n",
       "      <th>std_test_accuracy</th>\n",
       "      <th>rank_test_accuracy</th>\n",
       "      <th>split0_test_roc_auc</th>\n",
       "      <th>split1_test_roc_auc</th>\n",
       "      <th>split2_test_roc_auc</th>\n",
       "      <th>split3_test_roc_auc</th>\n",
       "      <th>mean_test_roc_auc</th>\n",
       "      <th>std_test_roc_auc</th>\n",
       "      <th>rank_test_roc_auc</th>\n",
       "    </tr>\n",
       "  </thead>\n",
       "  <tbody>\n",
       "    <tr>\n",
       "      <th>65</th>\n",
       "      <td>0.073737</td>\n",
       "      <td>0.007965</td>\n",
       "      <td>0.009243</td>\n",
       "      <td>0.002046</td>\n",
       "      <td>0.1</td>\n",
       "      <td>0.1</td>\n",
       "      <td>poly</td>\n",
       "      <td>{'svc__C': 0.1, 'svc__gamma': 0.1, 'svc__kerne...</td>\n",
       "      <td>0.859813</td>\n",
       "      <td>0.943925</td>\n",
       "      <td>...</td>\n",
       "      <td>0.922633</td>\n",
       "      <td>0.036270</td>\n",
       "      <td>79</td>\n",
       "      <td>0.998507</td>\n",
       "      <td>0.988433</td>\n",
       "      <td>1.0</td>\n",
       "      <td>0.998864</td>\n",
       "      <td>0.996451</td>\n",
       "      <td>0.004662</td>\n",
       "      <td>1</td>\n",
       "    </tr>\n",
       "    <tr>\n",
       "      <th>14</th>\n",
       "      <td>0.032480</td>\n",
       "      <td>0.015329</td>\n",
       "      <td>0.030233</td>\n",
       "      <td>0.023292</td>\n",
       "      <td>0.0001</td>\n",
       "      <td>1</td>\n",
       "      <td>poly</td>\n",
       "      <td>{'svc__C': 0.0001, 'svc__gamma': 1, 'svc__kern...</td>\n",
       "      <td>0.859813</td>\n",
       "      <td>0.943925</td>\n",
       "      <td>...</td>\n",
       "      <td>0.922633</td>\n",
       "      <td>0.036270</td>\n",
       "      <td>79</td>\n",
       "      <td>0.998134</td>\n",
       "      <td>0.988433</td>\n",
       "      <td>1.0</td>\n",
       "      <td>0.998864</td>\n",
       "      <td>0.996358</td>\n",
       "      <td>0.004623</td>\n",
       "      <td>2</td>\n",
       "    </tr>\n",
       "    <tr>\n",
       "      <th>94</th>\n",
       "      <td>0.059593</td>\n",
       "      <td>0.019020</td>\n",
       "      <td>0.042476</td>\n",
       "      <td>0.026010</td>\n",
       "      <td>10</td>\n",
       "      <td>0.001</td>\n",
       "      <td>rbf</td>\n",
       "      <td>{'svc__C': 10, 'svc__gamma': 0.001, 'svc__kern...</td>\n",
       "      <td>0.953271</td>\n",
       "      <td>0.962617</td>\n",
       "      <td>...</td>\n",
       "      <td>0.971896</td>\n",
       "      <td>0.014721</td>\n",
       "      <td>16</td>\n",
       "      <td>0.997015</td>\n",
       "      <td>0.985448</td>\n",
       "      <td>1.0</td>\n",
       "      <td>1.000000</td>\n",
       "      <td>0.995616</td>\n",
       "      <td>0.005996</td>\n",
       "      <td>3</td>\n",
       "    </tr>\n",
       "    <tr>\n",
       "      <th>97</th>\n",
       "      <td>0.067981</td>\n",
       "      <td>0.024388</td>\n",
       "      <td>0.039485</td>\n",
       "      <td>0.038497</td>\n",
       "      <td>10</td>\n",
       "      <td>0.01</td>\n",
       "      <td>rbf</td>\n",
       "      <td>{'svc__C': 10, 'svc__gamma': 0.01, 'svc__kerne...</td>\n",
       "      <td>0.971963</td>\n",
       "      <td>0.971963</td>\n",
       "      <td>...</td>\n",
       "      <td>0.981264</td>\n",
       "      <td>0.009302</td>\n",
       "      <td>1</td>\n",
       "      <td>0.993657</td>\n",
       "      <td>0.987687</td>\n",
       "      <td>1.0</td>\n",
       "      <td>0.999621</td>\n",
       "      <td>0.995241</td>\n",
       "      <td>0.005035</td>\n",
       "      <td>4</td>\n",
       "    </tr>\n",
       "    <tr>\n",
       "      <th>79</th>\n",
       "      <td>0.038478</td>\n",
       "      <td>0.013712</td>\n",
       "      <td>0.014992</td>\n",
       "      <td>0.004687</td>\n",
       "      <td>1</td>\n",
       "      <td>0.01</td>\n",
       "      <td>rbf</td>\n",
       "      <td>{'svc__C': 1, 'svc__gamma': 0.01, 'svc__kernel...</td>\n",
       "      <td>0.934579</td>\n",
       "      <td>0.962617</td>\n",
       "      <td>...</td>\n",
       "      <td>0.964865</td>\n",
       "      <td>0.020184</td>\n",
       "      <td>20</td>\n",
       "      <td>0.994030</td>\n",
       "      <td>0.986194</td>\n",
       "      <td>1.0</td>\n",
       "      <td>0.998864</td>\n",
       "      <td>0.994772</td>\n",
       "      <td>0.005436</td>\n",
       "      <td>5</td>\n",
       "    </tr>\n",
       "  </tbody>\n",
       "</table>\n",
       "<p>5 rows × 22 columns</p>\n",
       "</div>"
      ],
      "text/plain": [
       "    mean_fit_time  std_fit_time  mean_score_time  std_score_time param_svc__C  \\\n",
       "65       0.073737      0.007965         0.009243        0.002046          0.1   \n",
       "14       0.032480      0.015329         0.030233        0.023292       0.0001   \n",
       "94       0.059593      0.019020         0.042476        0.026010           10   \n",
       "97       0.067981      0.024388         0.039485        0.038497           10   \n",
       "79       0.038478      0.013712         0.014992        0.004687            1   \n",
       "\n",
       "   param_svc__gamma param_svc__kernel  \\\n",
       "65              0.1              poly   \n",
       "14                1              poly   \n",
       "94            0.001               rbf   \n",
       "97             0.01               rbf   \n",
       "79             0.01               rbf   \n",
       "\n",
       "                                               params  split0_test_accuracy  \\\n",
       "65  {'svc__C': 0.1, 'svc__gamma': 0.1, 'svc__kerne...              0.859813   \n",
       "14  {'svc__C': 0.0001, 'svc__gamma': 1, 'svc__kern...              0.859813   \n",
       "94  {'svc__C': 10, 'svc__gamma': 0.001, 'svc__kern...              0.953271   \n",
       "97  {'svc__C': 10, 'svc__gamma': 0.01, 'svc__kerne...              0.971963   \n",
       "79  {'svc__C': 1, 'svc__gamma': 0.01, 'svc__kernel...              0.934579   \n",
       "\n",
       "    split1_test_accuracy  ...  mean_test_accuracy  std_test_accuracy  \\\n",
       "65              0.943925  ...            0.922633           0.036270   \n",
       "14              0.943925  ...            0.922633           0.036270   \n",
       "94              0.962617  ...            0.971896           0.014721   \n",
       "97              0.971963  ...            0.981264           0.009302   \n",
       "79              0.962617  ...            0.964865           0.020184   \n",
       "\n",
       "    rank_test_accuracy  split0_test_roc_auc  split1_test_roc_auc  \\\n",
       "65                  79             0.998507             0.988433   \n",
       "14                  79             0.998134             0.988433   \n",
       "94                  16             0.997015             0.985448   \n",
       "97                   1             0.993657             0.987687   \n",
       "79                  20             0.994030             0.986194   \n",
       "\n",
       "    split2_test_roc_auc  split3_test_roc_auc  mean_test_roc_auc  \\\n",
       "65                  1.0             0.998864           0.996451   \n",
       "14                  1.0             0.998864           0.996358   \n",
       "94                  1.0             1.000000           0.995616   \n",
       "97                  1.0             0.999621           0.995241   \n",
       "79                  1.0             0.998864           0.994772   \n",
       "\n",
       "    std_test_roc_auc  rank_test_roc_auc  \n",
       "65          0.004662                  1  \n",
       "14          0.004623                  2  \n",
       "94          0.005996                  3  \n",
       "97          0.005035                  4  \n",
       "79          0.005436                  5  \n",
       "\n",
       "[5 rows x 22 columns]"
      ]
     },
     "execution_count": 21,
     "metadata": {},
     "output_type": "execute_result"
    }
   ],
   "source": [
    "result.sort_values('rank_test_roc_auc').head()"
   ]
  },
  {
   "cell_type": "markdown",
   "metadata": {},
   "source": [
    "### 최종 테스트"
   ]
  },
  {
   "cell_type": "code",
   "execution_count": 22,
   "metadata": {},
   "outputs": [],
   "source": [
    "best_svc = gs.best_estimator_\n",
    "test_pred = best_svc.predict(X_test)\n",
    "test_proba = best_svc.predict_proba(X_test)"
   ]
  },
  {
   "cell_type": "code",
   "execution_count": 24,
   "metadata": {},
   "outputs": [
    {
     "name": "stdout",
     "output_type": "stream",
     "text": [
      "accuracy_score: 0.972027972027972\n",
      "roc_auc_score: 0.9953878406708596\n"
     ]
    }
   ],
   "source": [
    "print('accuracy_score:', accuracy_score(y_test, test_pred))\n",
    "print('roc_auc_score:', roc_auc_score(y_test, test_proba[:, 1]))"
   ]
  }
 ],
 "metadata": {
  "kernelspec": {
   "display_name": "Python 3.9.13 ('base')",
   "language": "python",
   "name": "python3"
  },
  "language_info": {
   "codemirror_mode": {
    "name": "ipython",
    "version": 3
   },
   "file_extension": ".py",
   "mimetype": "text/x-python",
   "name": "python",
   "nbconvert_exporter": "python",
   "pygments_lexer": "ipython3",
   "version": "3.9.13"
  },
  "orig_nbformat": 4,
  "vscode": {
   "interpreter": {
    "hash": "57bc2b6ce032b5f0e93daa91901b7ea38a856826ef43aa9e95b6d3999f5310df"
   }
  }
 },
 "nbformat": 4,
 "nbformat_minor": 2
}
