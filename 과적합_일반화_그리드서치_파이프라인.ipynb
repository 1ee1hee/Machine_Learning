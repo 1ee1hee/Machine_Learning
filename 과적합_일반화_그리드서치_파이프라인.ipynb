{
 "cells": [
  {
   "cell_type": "markdown",
   "metadata": {},
   "source": [
    "# 과적합과 일반화\n",
    "- **Generalize(일반화)**\n",
    "    - 모델이 새로운 데이터셋에 대하여 정확히 예측하면 일반화 되었다고 한다\n",
    "        - 모집단 전체에 대한 데이터의 일반적인 특성을 잘 찾은 모델의 상태를 일반화라고 한다\n",
    "    - 모델이 훈련 데이터로 평가한 결과와 테스트 데이터로 평가한 결과의 차이가 거의 없고 좋은 평가지표를 보여준다\n",
    "\n",
    "- **Overfitting(과대적합)**\n",
    "    - 모델이 훈련 데이터에 대한 예측성능은 너무 좋지만 일반성이 떨어져 새로운 데이터에 대해선 성능이 좋지 않은 것을 Overfitting이라 한다.\n",
    "    - 모델이 훈련 데이터 세트의 특징에 너무 맞춰 학습되어 일반적으로 나타나지 않을 특징까지 학습해 새로운 데이터셋에 대한 예측 성능이 떨어진다\n",
    "\n",
    "- **Underfitting(과소적합)**\n",
    "    - 모델이 훈련 데이터와 테스트 데이터셋 모두에서 성능이 안좋은 것\n",
    "    - 모델이 너무 간단해 훈련 데이터에 대해 충분히 학습하지 못해 데이터셋의 패턴들을 다 찾지 못해 발생\n",
    "\n",
    "![image](https://velog.velcdn.com/images/ppippi/post/a79fad17-6d14-4fcd-b4ee-caa0d55a197b/image.png)"
   ]
  },
  {
   "cell_type": "markdown",
   "metadata": {},
   "source": [
    "## Overfitting(과대적합)의 원인\n",
    "- 학습 데이터 양에 비해 모델이 너무 복잡한 경우 발생\n",
    "    - 데이터의 양을 늘린다\n",
    "        - 시간과 돈이 들기 때문에 현실적으로 어렵다\n",
    "    - 모델을 좀 더 단순하게 만든다\n",
    "        - 사용한 모델보다 좀 더 단순한 모델을 사용한다\n",
    "        - 모든 모델은 모델의 복잡도를 변경할 수 있는 **규제와 관련된 하이퍼파라미터**를 제공하는데 이것을 조절한다\n",
    "\n",
    "## Underfitting(과소적합)의 원인\n",
    "- 데이터양에 비해 모델이 너무 단순한 경우 발생\n",
    "    - 좀 더 복잡한 모델을 사용한다\n",
    "    - 모델이 제공하는 규제 하이퍼파라미터를 조절한다\n",
    "\n",
    "> - 복잡한 모델, 단순한 모델\n",
    ">   - 이상치 같은 목잡한 값들에 반응하는(패턴을 찾는) 모델\n",
    ">   - 이상치에 약한 모델"
   ]
  },
  {
   "cell_type": "markdown",
   "metadata": {},
   "source": [
    "## 규제 하이퍼파라미터란?\n",
    "- 모델의 복잡도를 규제하는 하이퍼파라미터로 Overfitting이나 Underfitting인 경우 이값을 조정하여 모델이 일반화 되도록 도와준다\n",
    "- 이 규제 하이퍼파라밈터들은 모든 머신러닝 모델마다 있다\n",
    "\n",
    "> #### 하이퍼파라미터란\n",
    "> - **하이퍼파라미터(Hyper Parameter)**\n",
    ">   - 모델의 성능에 영향을 끼치는 파라미터 값으로 모델 생성시 사람이 직접 지정하는 값\n",
    "> - **하이퍼파라미터 튜닝(Hyper Parameter Tunning)**\n",
    ">   - 모델의 성능을 가장 높일 수 있는 하이퍼파라미터를 찾는 작업\n",
    "> - **파라미터(Parameter)**\n",
    ">   - 머신러닝에서 파라미터는 모델이 데이터 학습을 통해 직접 찾아야 하는 값을 말한다"
   ]
  },
  {
   "cell_type": "markdown",
   "metadata": {},
   "source": [
    "### 위스콘신 유방암 데이터셋 모델링\n",
    "#### 데이터 로딩 및 train/test set 분리"
   ]
  },
  {
   "cell_type": "code",
   "execution_count": 1,
   "metadata": {},
   "outputs": [],
   "source": [
    "from sklearn.datasets import load_breast_cancer\n",
    "from sklearn.model_selection import train_test_split\n",
    "\n",
    "data = load_breast_cancer()\n",
    "X, y = data.data, data.target\n",
    "\n",
    "X_train, X_test, y_train, y_test = train_test_split(X, y, stratify = y, random_state = 0)"
   ]
  },
  {
   "cell_type": "markdown",
   "metadata": {},
   "source": [
    "#### 모델 생성, 학습, 추론\n",
    "- DecisionTreeClassifier"
   ]
  },
  {
   "cell_type": "code",
   "execution_count": 4,
   "metadata": {},
   "outputs": [],
   "source": [
    "from sklearn.tree import DecisionTreeClassifier\n",
    "from sklearn.metrics import accuracy_score\n",
    "\n",
    "def tree_modeling(X, y, max_depth = None):\n",
    "    tree = DecisionTreeClassifier(max_depth = max_depth, random_state = 0)\n",
    "    tree.fit(X, y)\n",
    "    \n",
    "    return tree\n",
    "\n",
    "def tree_accuracy(X, y, model, title):\n",
    "    print(title, accuracy_score(y, model.predict(X)))"
   ]
  },
  {
   "cell_type": "code",
   "execution_count": 5,
   "metadata": {},
   "outputs": [
    {
     "name": "stdout",
     "output_type": "stream",
     "text": [
      "max_depth = 1\n",
      "train set 0.9295774647887324\n",
      "test_set 0.8881118881118881\n"
     ]
    }
   ],
   "source": [
    "print(\"max_depth = 1\")\n",
    "tree = tree_modeling(X_train, y_train, 1)\n",
    "tree_accuracy(X_train, y_train, tree, 'train set')\n",
    "tree_accuracy(X_test, y_test, tree, 'test_set')"
   ]
  },
  {
   "cell_type": "code",
   "execution_count": 8,
   "metadata": {},
   "outputs": [
    {
     "name": "stdout",
     "output_type": "stream",
     "text": [
      "max_depth = 2\n",
      "train set 0.931924882629108\n",
      "test set 0.8881118881118881\n"
     ]
    }
   ],
   "source": [
    "print(\"max_depth = 2\")\n",
    "tree2 = tree_modeling(X_train, y_train, 2)\n",
    "tree_accuracy(X_train, y_train, tree2, 'train set')\n",
    "tree_accuracy(X_test, y_test, tree2, 'test set')"
   ]
  },
  {
   "cell_type": "code",
   "execution_count": 9,
   "metadata": {},
   "outputs": [
    {
     "name": "stdout",
     "output_type": "stream",
     "text": [
      "max_depth = 3\n",
      "train set 0.9765258215962441\n",
      "test set 0.916083916083916\n"
     ]
    }
   ],
   "source": [
    "print(\"max_depth = 3\")\n",
    "tree3 = tree_modeling(X_train, y_train, 3)\n",
    "tree_accuracy(X_train, y_train, tree3, 'train set')\n",
    "tree_accuracy(X_test, y_test, tree3, 'test set')"
   ]
  },
  {
   "cell_type": "code",
   "execution_count": 10,
   "metadata": {},
   "outputs": [
    {
     "name": "stdout",
     "output_type": "stream",
     "text": [
      "max_depth = 5\n",
      "train set 1.0\n",
      "test set 0.9020979020979021\n"
     ]
    }
   ],
   "source": [
    "print(\"max_depth = 5\")\n",
    "tree5 = tree_modeling(X_train, y_train, 5)\n",
    "tree_accuracy(X_train, y_train, tree5, 'train set')\n",
    "tree_accuracy(X_test, y_test, tree5, 'test set')"
   ]
  },
  {
   "cell_type": "markdown",
   "metadata": {},
   "source": [
    "#### 트리 구조 시각화 - graphviz 이용"
   ]
  },
  {
   "cell_type": "code",
   "execution_count": 11,
   "metadata": {},
   "outputs": [
    {
     "data": {
      "image/svg+xml": "<?xml version=\"1.0\" encoding=\"UTF-8\" standalone=\"no\"?>\n<!DOCTYPE svg PUBLIC \"-//W3C//DTD SVG 1.1//EN\"\n \"http://www.w3.org/Graphics/SVG/1.1/DTD/svg11.dtd\">\n<!-- Generated by graphviz version 7.1.0 (20230121.1956)\n -->\n<!-- Title: Tree Pages: 1 -->\n<svg width=\"270pt\" height=\"195pt\"\n viewBox=\"0.00 0.00 270.00 195.00\" xmlns=\"http://www.w3.org/2000/svg\" xmlns:xlink=\"http://www.w3.org/1999/xlink\">\n<g id=\"graph0\" class=\"graph\" transform=\"scale(1 1) rotate(0) translate(4 191)\">\n<title>Tree</title>\n<polygon fill=\"white\" stroke=\"none\" points=\"-4,4 -4,-191 266,-191 266,4 -4,4\"/>\n<!-- 0 -->\n<g id=\"node1\" class=\"node\">\n<title>0</title>\n<path fill=\"#afd7f4\" stroke=\"black\" d=\"M207,-187C207,-187 55,-187 55,-187 49,-187 43,-181 43,-175 43,-175 43,-116 43,-116 43,-110 49,-104 55,-104 55,-104 207,-104 207,-104 213,-104 219,-110 219,-116 219,-116 219,-175 219,-175 219,-181 213,-187 207,-187\"/>\n<text text-anchor=\"middle\" x=\"131\" y=\"-171.8\" font-family=\"Helvetica,sans-Serif\" font-size=\"14.00\">worst perimeter &lt;= 106.1</text>\n<text text-anchor=\"middle\" x=\"131\" y=\"-156.8\" font-family=\"Helvetica,sans-Serif\" font-size=\"14.00\">gini = 0.468</text>\n<text text-anchor=\"middle\" x=\"131\" y=\"-141.8\" font-family=\"Helvetica,sans-Serif\" font-size=\"14.00\">samples = 426</text>\n<text text-anchor=\"middle\" x=\"131\" y=\"-126.8\" font-family=\"Helvetica,sans-Serif\" font-size=\"14.00\">value = [159, 267]</text>\n<text text-anchor=\"middle\" x=\"131\" y=\"-111.8\" font-family=\"Helvetica,sans-Serif\" font-size=\"14.00\">class = 양성</text>\n</g>\n<!-- 1 -->\n<g id=\"node2\" class=\"node\">\n<title>1</title>\n<path fill=\"#42a1e6\" stroke=\"black\" d=\"M110,-68C110,-68 12,-68 12,-68 6,-68 0,-62 0,-56 0,-56 0,-12 0,-12 0,-6 6,0 12,0 12,0 110,0 110,0 116,0 122,-6 122,-12 122,-12 122,-56 122,-56 122,-62 116,-68 110,-68\"/>\n<text text-anchor=\"middle\" x=\"61\" y=\"-52.8\" font-family=\"Helvetica,sans-Serif\" font-size=\"14.00\">gini = 0.081</text>\n<text text-anchor=\"middle\" x=\"61\" y=\"-37.8\" font-family=\"Helvetica,sans-Serif\" font-size=\"14.00\">samples = 259</text>\n<text text-anchor=\"middle\" x=\"61\" y=\"-22.8\" font-family=\"Helvetica,sans-Serif\" font-size=\"14.00\">value = [11, 248]</text>\n<text text-anchor=\"middle\" x=\"61\" y=\"-7.8\" font-family=\"Helvetica,sans-Serif\" font-size=\"14.00\">class = 양성</text>\n</g>\n<!-- 0&#45;&gt;1 -->\n<g id=\"edge1\" class=\"edge\">\n<title>0&#45;&gt;1</title>\n<path fill=\"none\" stroke=\"black\" d=\"M104.93,-103.73C99.51,-95.24 93.78,-86.28 88.32,-77.73\"/>\n<polygon fill=\"black\" stroke=\"black\" points=\"91.44,-76.12 83.1,-69.57 85.54,-79.89 91.44,-76.12\"/>\n<text text-anchor=\"middle\" x=\"76.91\" y=\"-89.02\" font-family=\"Helvetica,sans-Serif\" font-size=\"14.00\">True</text>\n</g>\n<!-- 2 -->\n<g id=\"node3\" class=\"node\">\n<title>2</title>\n<path fill=\"#e89152\" stroke=\"black\" d=\"M250,-68C250,-68 152,-68 152,-68 146,-68 140,-62 140,-56 140,-56 140,-12 140,-12 140,-6 146,0 152,0 152,0 250,0 250,0 256,0 262,-6 262,-12 262,-12 262,-56 262,-56 262,-62 256,-68 250,-68\"/>\n<text text-anchor=\"middle\" x=\"201\" y=\"-52.8\" font-family=\"Helvetica,sans-Serif\" font-size=\"14.00\">gini = 0.202</text>\n<text text-anchor=\"middle\" x=\"201\" y=\"-37.8\" font-family=\"Helvetica,sans-Serif\" font-size=\"14.00\">samples = 167</text>\n<text text-anchor=\"middle\" x=\"201\" y=\"-22.8\" font-family=\"Helvetica,sans-Serif\" font-size=\"14.00\">value = [148, 19]</text>\n<text text-anchor=\"middle\" x=\"201\" y=\"-7.8\" font-family=\"Helvetica,sans-Serif\" font-size=\"14.00\">class = 악성</text>\n</g>\n<!-- 0&#45;&gt;2 -->\n<g id=\"edge2\" class=\"edge\">\n<title>0&#45;&gt;2</title>\n<path fill=\"none\" stroke=\"black\" d=\"M157.07,-103.73C162.49,-95.24 168.22,-86.28 173.68,-77.73\"/>\n<polygon fill=\"black\" stroke=\"black\" points=\"176.46,-79.89 178.9,-69.57 170.56,-76.12 176.46,-79.89\"/>\n<text text-anchor=\"middle\" x=\"185.09\" y=\"-89.02\" font-family=\"Helvetica,sans-Serif\" font-size=\"14.00\">False</text>\n</g>\n</g>\n</svg>\n",
      "text/plain": [
       "<graphviz.sources.Source at 0x24233c8bf40>"
      ]
     },
     "execution_count": 11,
     "metadata": {},
     "output_type": "execute_result"
    }
   ],
   "source": [
    "from sklearn.tree import export_graphviz\n",
    "from graphviz import Source\n",
    "\n",
    "graph = Source(export_graphviz(tree,\n",
    "                               feature_names = data.feature_names,\n",
    "                               class_names = ['악성', '양성'],\n",
    "                               rounded = True,\n",
    "                               filled = True # 함수 클래스를 색으로 확인 할 수 있도록 색을 채움\n",
    "                               ))\n",
    "\n",
    "graph"
   ]
  },
  {
   "cell_type": "code",
   "execution_count": null,
   "metadata": {},
   "outputs": [],
   "source": [
    "\"\"\"# 현재 노드를 분리하기 위한 질문\n",
    "worst perimeter <= 106.1\n",
    "---------------------------\n",
    "# 현재 노드의 상태\n",
    "gini = 0.468          # 지니계수 - 불순도. 0(불순도가 가장 낮다) ~ 0.5(불순도가 가장 높다)\n",
    "samples = 426         # 데이터 개수\n",
    "value = [159, 267]    # 클래스별 데이터 개수\n",
    "class = 양성          # 다수 클래스의 클래스 이름\n",
    "\"\"\""
   ]
  },
  {
   "cell_type": "code",
   "execution_count": 12,
   "metadata": {},
   "outputs": [
    {
     "data": {
      "image/svg+xml": "<?xml version=\"1.0\" encoding=\"UTF-8\" standalone=\"no\"?>\n<!DOCTYPE svg PUBLIC \"-//W3C//DTD SVG 1.1//EN\"\n \"http://www.w3.org/Graphics/SVG/1.1/DTD/svg11.dtd\">\n<!-- Generated by graphviz version 7.1.0 (20230121.1956)\n -->\n<!-- Title: Tree Pages: 1 -->\n<svg width=\"1809pt\" height=\"671pt\"\n viewBox=\"0.00 0.00 1809.00 671.00\" xmlns=\"http://www.w3.org/2000/svg\" xmlns:xlink=\"http://www.w3.org/1999/xlink\">\n<g id=\"graph0\" class=\"graph\" transform=\"scale(1 1) rotate(0) translate(4 667)\">\n<title>Tree</title>\n<polygon fill=\"white\" stroke=\"none\" points=\"-4,4 -4,-667 1805,-667 1805,4 -4,4\"/>\n<!-- 0 -->\n<g id=\"node1\" class=\"node\">\n<title>0</title>\n<path fill=\"#afd7f4\" stroke=\"black\" d=\"M890.5,-663C890.5,-663 738.5,-663 738.5,-663 732.5,-663 726.5,-657 726.5,-651 726.5,-651 726.5,-592 726.5,-592 726.5,-586 732.5,-580 738.5,-580 738.5,-580 890.5,-580 890.5,-580 896.5,-580 902.5,-586 902.5,-592 902.5,-592 902.5,-651 902.5,-651 902.5,-657 896.5,-663 890.5,-663\"/>\n<text text-anchor=\"middle\" x=\"814.5\" y=\"-647.8\" font-family=\"Helvetica,sans-Serif\" font-size=\"14.00\">worst perimeter &lt;= 106.1</text>\n<text text-anchor=\"middle\" x=\"814.5\" y=\"-632.8\" font-family=\"Helvetica,sans-Serif\" font-size=\"14.00\">gini = 0.468</text>\n<text text-anchor=\"middle\" x=\"814.5\" y=\"-617.8\" font-family=\"Helvetica,sans-Serif\" font-size=\"14.00\">samples = 426</text>\n<text text-anchor=\"middle\" x=\"814.5\" y=\"-602.8\" font-family=\"Helvetica,sans-Serif\" font-size=\"14.00\">value = [159, 267]</text>\n<text text-anchor=\"middle\" x=\"814.5\" y=\"-587.8\" font-family=\"Helvetica,sans-Serif\" font-size=\"14.00\">class = 양성</text>\n</g>\n<!-- 1 -->\n<g id=\"node2\" class=\"node\">\n<title>1</title>\n<path fill=\"#42a1e6\" stroke=\"black\" d=\"M561.5,-544C561.5,-544 375.5,-544 375.5,-544 369.5,-544 363.5,-538 363.5,-532 363.5,-532 363.5,-473 363.5,-473 363.5,-467 369.5,-461 375.5,-461 375.5,-461 561.5,-461 561.5,-461 567.5,-461 573.5,-467 573.5,-473 573.5,-473 573.5,-532 573.5,-532 573.5,-538 567.5,-544 561.5,-544\"/>\n<text text-anchor=\"middle\" x=\"468.5\" y=\"-528.8\" font-family=\"Helvetica,sans-Serif\" font-size=\"14.00\">worst concave points &lt;= 0.134</text>\n<text text-anchor=\"middle\" x=\"468.5\" y=\"-513.8\" font-family=\"Helvetica,sans-Serif\" font-size=\"14.00\">gini = 0.081</text>\n<text text-anchor=\"middle\" x=\"468.5\" y=\"-498.8\" font-family=\"Helvetica,sans-Serif\" font-size=\"14.00\">samples = 259</text>\n<text text-anchor=\"middle\" x=\"468.5\" y=\"-483.8\" font-family=\"Helvetica,sans-Serif\" font-size=\"14.00\">value = [11, 248]</text>\n<text text-anchor=\"middle\" x=\"468.5\" y=\"-468.8\" font-family=\"Helvetica,sans-Serif\" font-size=\"14.00\">class = 양성</text>\n</g>\n<!-- 0&#45;&gt;1 -->\n<g id=\"edge1\" class=\"edge\">\n<title>0&#45;&gt;1</title>\n<path fill=\"none\" stroke=\"black\" d=\"M726.29,-590.67C683.2,-576.1 630.78,-558.38 584.49,-542.72\"/>\n<polygon fill=\"black\" stroke=\"black\" points=\"585.82,-539.48 575.23,-539.59 583.58,-546.11 585.82,-539.48\"/>\n<text text-anchor=\"middle\" x=\"584.88\" y=\"-557.81\" font-family=\"Helvetica,sans-Serif\" font-size=\"14.00\">True</text>\n</g>\n<!-- 14 -->\n<g id=\"node15\" class=\"node\">\n<title>14</title>\n<path fill=\"#e89152\" stroke=\"black\" d=\"M1247.5,-544C1247.5,-544 1061.5,-544 1061.5,-544 1055.5,-544 1049.5,-538 1049.5,-532 1049.5,-532 1049.5,-473 1049.5,-473 1049.5,-467 1055.5,-461 1061.5,-461 1061.5,-461 1247.5,-461 1247.5,-461 1253.5,-461 1259.5,-467 1259.5,-473 1259.5,-473 1259.5,-532 1259.5,-532 1259.5,-538 1253.5,-544 1247.5,-544\"/>\n<text text-anchor=\"middle\" x=\"1154.5\" y=\"-528.8\" font-family=\"Helvetica,sans-Serif\" font-size=\"14.00\">worst concave points &lt;= 0.142</text>\n<text text-anchor=\"middle\" x=\"1154.5\" y=\"-513.8\" font-family=\"Helvetica,sans-Serif\" font-size=\"14.00\">gini = 0.202</text>\n<text text-anchor=\"middle\" x=\"1154.5\" y=\"-498.8\" font-family=\"Helvetica,sans-Serif\" font-size=\"14.00\">samples = 167</text>\n<text text-anchor=\"middle\" x=\"1154.5\" y=\"-483.8\" font-family=\"Helvetica,sans-Serif\" font-size=\"14.00\">value = [148, 19]</text>\n<text text-anchor=\"middle\" x=\"1154.5\" y=\"-468.8\" font-family=\"Helvetica,sans-Serif\" font-size=\"14.00\">class = 악성</text>\n</g>\n<!-- 0&#45;&gt;14 -->\n<g id=\"edge14\" class=\"edge\">\n<title>0&#45;&gt;14</title>\n<path fill=\"none\" stroke=\"black\" d=\"M902.94,-590.07C944.3,-575.83 994.09,-558.7 1038.42,-543.45\"/>\n<polygon fill=\"black\" stroke=\"black\" points=\"1039.52,-546.77 1047.84,-540.2 1037.24,-540.15 1039.52,-546.77\"/>\n<text text-anchor=\"middle\" x=\"1038.3\" y=\"-558.48\" font-family=\"Helvetica,sans-Serif\" font-size=\"14.00\">False</text>\n</g>\n<!-- 2 -->\n<g id=\"node3\" class=\"node\">\n<title>2</title>\n<path fill=\"#3a9de5\" stroke=\"black\" d=\"M243,-425C243,-425 120,-425 120,-425 114,-425 108,-419 108,-413 108,-413 108,-354 108,-354 108,-348 114,-342 120,-342 120,-342 243,-342 243,-342 249,-342 255,-348 255,-354 255,-354 255,-413 255,-413 255,-419 249,-425 243,-425\"/>\n<text text-anchor=\"middle\" x=\"181.5\" y=\"-409.8\" font-family=\"Helvetica,sans-Serif\" font-size=\"14.00\">area error &lt;= 48.975</text>\n<text text-anchor=\"middle\" x=\"181.5\" y=\"-394.8\" font-family=\"Helvetica,sans-Serif\" font-size=\"14.00\">gini = 0.008</text>\n<text text-anchor=\"middle\" x=\"181.5\" y=\"-379.8\" font-family=\"Helvetica,sans-Serif\" font-size=\"14.00\">samples = 240</text>\n<text text-anchor=\"middle\" x=\"181.5\" y=\"-364.8\" font-family=\"Helvetica,sans-Serif\" font-size=\"14.00\">value = [1, 239]</text>\n<text text-anchor=\"middle\" x=\"181.5\" y=\"-349.8\" font-family=\"Helvetica,sans-Serif\" font-size=\"14.00\">class = 양성</text>\n</g>\n<!-- 1&#45;&gt;2 -->\n<g id=\"edge2\" class=\"edge\">\n<title>1&#45;&gt;2</title>\n<path fill=\"none\" stroke=\"black\" d=\"M368.12,-460.58C334.57,-446.9 297.56,-431.81 265.4,-418.7\"/>\n<polygon fill=\"black\" stroke=\"black\" points=\"267.12,-415.63 256.54,-415.09 264.48,-422.11 267.12,-415.63\"/>\n</g>\n<!-- 5 -->\n<g id=\"node6\" class=\"node\">\n<title>5</title>\n<path fill=\"#fcf2eb\" stroke=\"black\" d=\"M531,-425C531,-425 406,-425 406,-425 400,-425 394,-419 394,-413 394,-413 394,-354 394,-354 394,-348 400,-342 406,-342 406,-342 531,-342 531,-342 537,-342 543,-348 543,-354 543,-354 543,-413 543,-413 543,-419 537,-425 531,-425\"/>\n<text text-anchor=\"middle\" x=\"468.5\" y=\"-409.8\" font-family=\"Helvetica,sans-Serif\" font-size=\"14.00\">worst texture &lt;= 26.0</text>\n<text text-anchor=\"middle\" x=\"468.5\" y=\"-394.8\" font-family=\"Helvetica,sans-Serif\" font-size=\"14.00\">gini = 0.499</text>\n<text text-anchor=\"middle\" x=\"468.5\" y=\"-379.8\" font-family=\"Helvetica,sans-Serif\" font-size=\"14.00\">samples = 19</text>\n<text text-anchor=\"middle\" x=\"468.5\" y=\"-364.8\" font-family=\"Helvetica,sans-Serif\" font-size=\"14.00\">value = [10, 9]</text>\n<text text-anchor=\"middle\" x=\"468.5\" y=\"-349.8\" font-family=\"Helvetica,sans-Serif\" font-size=\"14.00\">class = 악성</text>\n</g>\n<!-- 1&#45;&gt;5 -->\n<g id=\"edge5\" class=\"edge\">\n<title>1&#45;&gt;5</title>\n<path fill=\"none\" stroke=\"black\" d=\"M468.5,-460.58C468.5,-452.79 468.5,-444.53 468.5,-436.45\"/>\n<polygon fill=\"black\" stroke=\"black\" points=\"472,-436.71 468.5,-426.71 465,-436.71 472,-436.71\"/>\n</g>\n<!-- 3 -->\n<g id=\"node4\" class=\"node\">\n<title>3</title>\n<path fill=\"#399de5\" stroke=\"black\" d=\"M101,-298.5C101,-298.5 12,-298.5 12,-298.5 6,-298.5 0,-292.5 0,-286.5 0,-286.5 0,-242.5 0,-242.5 0,-236.5 6,-230.5 12,-230.5 12,-230.5 101,-230.5 101,-230.5 107,-230.5 113,-236.5 113,-242.5 113,-242.5 113,-286.5 113,-286.5 113,-292.5 107,-298.5 101,-298.5\"/>\n<text text-anchor=\"middle\" x=\"56.5\" y=\"-283.3\" font-family=\"Helvetica,sans-Serif\" font-size=\"14.00\">gini = 0.0</text>\n<text text-anchor=\"middle\" x=\"56.5\" y=\"-268.3\" font-family=\"Helvetica,sans-Serif\" font-size=\"14.00\">samples = 239</text>\n<text text-anchor=\"middle\" x=\"56.5\" y=\"-253.3\" font-family=\"Helvetica,sans-Serif\" font-size=\"14.00\">value = [0, 239]</text>\n<text text-anchor=\"middle\" x=\"56.5\" y=\"-238.3\" font-family=\"Helvetica,sans-Serif\" font-size=\"14.00\">class = 양성</text>\n</g>\n<!-- 2&#45;&gt;3 -->\n<g id=\"edge3\" class=\"edge\">\n<title>2&#45;&gt;3</title>\n<path fill=\"none\" stroke=\"black\" d=\"M137.78,-341.58C125.65,-330.23 112.49,-317.9 100.35,-306.55\"/>\n<polygon fill=\"black\" stroke=\"black\" points=\"102.94,-304.17 93.25,-299.9 98.16,-309.28 102.94,-304.17\"/>\n</g>\n<!-- 4 -->\n<g id=\"node5\" class=\"node\">\n<title>4</title>\n<path fill=\"#e58139\" stroke=\"black\" d=\"M219.5,-298.5C219.5,-298.5 143.5,-298.5 143.5,-298.5 137.5,-298.5 131.5,-292.5 131.5,-286.5 131.5,-286.5 131.5,-242.5 131.5,-242.5 131.5,-236.5 137.5,-230.5 143.5,-230.5 143.5,-230.5 219.5,-230.5 219.5,-230.5 225.5,-230.5 231.5,-236.5 231.5,-242.5 231.5,-242.5 231.5,-286.5 231.5,-286.5 231.5,-292.5 225.5,-298.5 219.5,-298.5\"/>\n<text text-anchor=\"middle\" x=\"181.5\" y=\"-283.3\" font-family=\"Helvetica,sans-Serif\" font-size=\"14.00\">gini = 0.0</text>\n<text text-anchor=\"middle\" x=\"181.5\" y=\"-268.3\" font-family=\"Helvetica,sans-Serif\" font-size=\"14.00\">samples = 1</text>\n<text text-anchor=\"middle\" x=\"181.5\" y=\"-253.3\" font-family=\"Helvetica,sans-Serif\" font-size=\"14.00\">value = [1, 0]</text>\n<text text-anchor=\"middle\" x=\"181.5\" y=\"-238.3\" font-family=\"Helvetica,sans-Serif\" font-size=\"14.00\">class = 악성</text>\n</g>\n<!-- 2&#45;&gt;4 -->\n<g id=\"edge4\" class=\"edge\">\n<title>2&#45;&gt;4</title>\n<path fill=\"none\" stroke=\"black\" d=\"M181.5,-341.58C181.5,-331.43 181.5,-320.5 181.5,-310.18\"/>\n<polygon fill=\"black\" stroke=\"black\" points=\"185,-310.37 181.5,-300.37 178,-310.37 185,-310.37\"/>\n</g>\n<!-- 6 -->\n<g id=\"node7\" class=\"node\">\n<title>6</title>\n<path fill=\"#52a9e8\" stroke=\"black\" d=\"M459.5,-306C459.5,-306 261.5,-306 261.5,-306 255.5,-306 249.5,-300 249.5,-294 249.5,-294 249.5,-235 249.5,-235 249.5,-229 255.5,-223 261.5,-223 261.5,-223 459.5,-223 459.5,-223 465.5,-223 471.5,-229 471.5,-235 471.5,-235 471.5,-294 471.5,-294 471.5,-300 465.5,-306 459.5,-306\"/>\n<text text-anchor=\"middle\" x=\"360.5\" y=\"-290.8\" font-family=\"Helvetica,sans-Serif\" font-size=\"14.00\">worst fractal dimension &lt;= 0.122</text>\n<text text-anchor=\"middle\" x=\"360.5\" y=\"-275.8\" font-family=\"Helvetica,sans-Serif\" font-size=\"14.00\">gini = 0.198</text>\n<text text-anchor=\"middle\" x=\"360.5\" y=\"-260.8\" font-family=\"Helvetica,sans-Serif\" font-size=\"14.00\">samples = 9</text>\n<text text-anchor=\"middle\" x=\"360.5\" y=\"-245.8\" font-family=\"Helvetica,sans-Serif\" font-size=\"14.00\">value = [1, 8]</text>\n<text text-anchor=\"middle\" x=\"360.5\" y=\"-230.8\" font-family=\"Helvetica,sans-Serif\" font-size=\"14.00\">class = 양성</text>\n</g>\n<!-- 5&#45;&gt;6 -->\n<g id=\"edge6\" class=\"edge\">\n<title>5&#45;&gt;6</title>\n<path fill=\"none\" stroke=\"black\" d=\"M430.73,-341.58C422.62,-332.8 413.98,-323.44 405.63,-314.39\"/>\n<polygon fill=\"black\" stroke=\"black\" points=\"408.45,-312.29 399.1,-307.31 403.31,-317.03 408.45,-312.29\"/>\n</g>\n<!-- 9 -->\n<g id=\"node10\" class=\"node\">\n<title>9</title>\n<path fill=\"#e88f4f\" stroke=\"black\" d=\"M651,-306C651,-306 502,-306 502,-306 496,-306 490,-300 490,-294 490,-294 490,-235 490,-235 490,-229 496,-223 502,-223 502,-223 651,-223 651,-223 657,-223 663,-229 663,-235 663,-235 663,-294 663,-294 663,-300 657,-306 651,-306\"/>\n<text text-anchor=\"middle\" x=\"576.5\" y=\"-290.8\" font-family=\"Helvetica,sans-Serif\" font-size=\"14.00\">worst concavity &lt;= 0.358</text>\n<text text-anchor=\"middle\" x=\"576.5\" y=\"-275.8\" font-family=\"Helvetica,sans-Serif\" font-size=\"14.00\">gini = 0.18</text>\n<text text-anchor=\"middle\" x=\"576.5\" y=\"-260.8\" font-family=\"Helvetica,sans-Serif\" font-size=\"14.00\">samples = 10</text>\n<text text-anchor=\"middle\" x=\"576.5\" y=\"-245.8\" font-family=\"Helvetica,sans-Serif\" font-size=\"14.00\">value = [9, 1]</text>\n<text text-anchor=\"middle\" x=\"576.5\" y=\"-230.8\" font-family=\"Helvetica,sans-Serif\" font-size=\"14.00\">class = 악성</text>\n</g>\n<!-- 5&#45;&gt;9 -->\n<g id=\"edge9\" class=\"edge\">\n<title>5&#45;&gt;9</title>\n<path fill=\"none\" stroke=\"black\" d=\"M506.27,-341.58C514.38,-332.8 523.02,-323.44 531.37,-314.39\"/>\n<polygon fill=\"black\" stroke=\"black\" points=\"533.69,-317.03 537.9,-307.31 528.55,-312.29 533.69,-317.03\"/>\n</g>\n<!-- 7 -->\n<g id=\"node8\" class=\"node\">\n<title>7</title>\n<path fill=\"#399de5\" stroke=\"black\" d=\"M280.5,-179.5C280.5,-179.5 204.5,-179.5 204.5,-179.5 198.5,-179.5 192.5,-173.5 192.5,-167.5 192.5,-167.5 192.5,-123.5 192.5,-123.5 192.5,-117.5 198.5,-111.5 204.5,-111.5 204.5,-111.5 280.5,-111.5 280.5,-111.5 286.5,-111.5 292.5,-117.5 292.5,-123.5 292.5,-123.5 292.5,-167.5 292.5,-167.5 292.5,-173.5 286.5,-179.5 280.5,-179.5\"/>\n<text text-anchor=\"middle\" x=\"242.5\" y=\"-164.3\" font-family=\"Helvetica,sans-Serif\" font-size=\"14.00\">gini = 0.0</text>\n<text text-anchor=\"middle\" x=\"242.5\" y=\"-149.3\" font-family=\"Helvetica,sans-Serif\" font-size=\"14.00\">samples = 8</text>\n<text text-anchor=\"middle\" x=\"242.5\" y=\"-134.3\" font-family=\"Helvetica,sans-Serif\" font-size=\"14.00\">value = [0, 8]</text>\n<text text-anchor=\"middle\" x=\"242.5\" y=\"-119.3\" font-family=\"Helvetica,sans-Serif\" font-size=\"14.00\">class = 양성</text>\n</g>\n<!-- 6&#45;&gt;7 -->\n<g id=\"edge7\" class=\"edge\">\n<title>6&#45;&gt;7</title>\n<path fill=\"none\" stroke=\"black\" d=\"M319.23,-222.58C307.89,-211.34 295.59,-199.14 284.23,-187.87\"/>\n<polygon fill=\"black\" stroke=\"black\" points=\"286.79,-185.48 277.22,-180.93 281.86,-190.45 286.79,-185.48\"/>\n</g>\n<!-- 8 -->\n<g id=\"node9\" class=\"node\">\n<title>8</title>\n<path fill=\"#e58139\" stroke=\"black\" d=\"M398.5,-179.5C398.5,-179.5 322.5,-179.5 322.5,-179.5 316.5,-179.5 310.5,-173.5 310.5,-167.5 310.5,-167.5 310.5,-123.5 310.5,-123.5 310.5,-117.5 316.5,-111.5 322.5,-111.5 322.5,-111.5 398.5,-111.5 398.5,-111.5 404.5,-111.5 410.5,-117.5 410.5,-123.5 410.5,-123.5 410.5,-167.5 410.5,-167.5 410.5,-173.5 404.5,-179.5 398.5,-179.5\"/>\n<text text-anchor=\"middle\" x=\"360.5\" y=\"-164.3\" font-family=\"Helvetica,sans-Serif\" font-size=\"14.00\">gini = 0.0</text>\n<text text-anchor=\"middle\" x=\"360.5\" y=\"-149.3\" font-family=\"Helvetica,sans-Serif\" font-size=\"14.00\">samples = 1</text>\n<text text-anchor=\"middle\" x=\"360.5\" y=\"-134.3\" font-family=\"Helvetica,sans-Serif\" font-size=\"14.00\">value = [1, 0]</text>\n<text text-anchor=\"middle\" x=\"360.5\" y=\"-119.3\" font-family=\"Helvetica,sans-Serif\" font-size=\"14.00\">class = 악성</text>\n</g>\n<!-- 6&#45;&gt;8 -->\n<g id=\"edge8\" class=\"edge\">\n<title>6&#45;&gt;8</title>\n<path fill=\"none\" stroke=\"black\" d=\"M360.5,-222.58C360.5,-212.43 360.5,-201.5 360.5,-191.18\"/>\n<polygon fill=\"black\" stroke=\"black\" points=\"364,-191.37 360.5,-181.37 357,-191.37 364,-191.37\"/>\n</g>\n<!-- 10 -->\n<g id=\"node11\" class=\"node\">\n<title>10</title>\n<path fill=\"#ffffff\" stroke=\"black\" d=\"M610,-187C610,-187 441,-187 441,-187 435,-187 429,-181 429,-175 429,-175 429,-116 429,-116 429,-110 435,-104 441,-104 441,-104 610,-104 610,-104 616,-104 622,-110 622,-116 622,-116 622,-175 622,-175 622,-181 616,-187 610,-187\"/>\n<text text-anchor=\"middle\" x=\"525.5\" y=\"-171.8\" font-family=\"Helvetica,sans-Serif\" font-size=\"14.00\">worst smoothness &lt;= 0.137</text>\n<text text-anchor=\"middle\" x=\"525.5\" y=\"-156.8\" font-family=\"Helvetica,sans-Serif\" font-size=\"14.00\">gini = 0.5</text>\n<text text-anchor=\"middle\" x=\"525.5\" y=\"-141.8\" font-family=\"Helvetica,sans-Serif\" font-size=\"14.00\">samples = 2</text>\n<text text-anchor=\"middle\" x=\"525.5\" y=\"-126.8\" font-family=\"Helvetica,sans-Serif\" font-size=\"14.00\">value = [1, 1]</text>\n<text text-anchor=\"middle\" x=\"525.5\" y=\"-111.8\" font-family=\"Helvetica,sans-Serif\" font-size=\"14.00\">class = 악성</text>\n</g>\n<!-- 9&#45;&gt;10 -->\n<g id=\"edge10\" class=\"edge\">\n<title>9&#45;&gt;10</title>\n<path fill=\"none\" stroke=\"black\" d=\"M558.66,-222.58C555.15,-214.52 551.42,-205.96 547.78,-197.61\"/>\n<polygon fill=\"black\" stroke=\"black\" points=\"551.05,-196.36 543.85,-188.59 544.63,-199.15 551.05,-196.36\"/>\n</g>\n<!-- 13 -->\n<g id=\"node14\" class=\"node\">\n<title>13</title>\n<path fill=\"#e58139\" stroke=\"black\" d=\"M728.5,-179.5C728.5,-179.5 652.5,-179.5 652.5,-179.5 646.5,-179.5 640.5,-173.5 640.5,-167.5 640.5,-167.5 640.5,-123.5 640.5,-123.5 640.5,-117.5 646.5,-111.5 652.5,-111.5 652.5,-111.5 728.5,-111.5 728.5,-111.5 734.5,-111.5 740.5,-117.5 740.5,-123.5 740.5,-123.5 740.5,-167.5 740.5,-167.5 740.5,-173.5 734.5,-179.5 728.5,-179.5\"/>\n<text text-anchor=\"middle\" x=\"690.5\" y=\"-164.3\" font-family=\"Helvetica,sans-Serif\" font-size=\"14.00\">gini = 0.0</text>\n<text text-anchor=\"middle\" x=\"690.5\" y=\"-149.3\" font-family=\"Helvetica,sans-Serif\" font-size=\"14.00\">samples = 8</text>\n<text text-anchor=\"middle\" x=\"690.5\" y=\"-134.3\" font-family=\"Helvetica,sans-Serif\" font-size=\"14.00\">value = [8, 0]</text>\n<text text-anchor=\"middle\" x=\"690.5\" y=\"-119.3\" font-family=\"Helvetica,sans-Serif\" font-size=\"14.00\">class = 악성</text>\n</g>\n<!-- 9&#45;&gt;13 -->\n<g id=\"edge13\" class=\"edge\">\n<title>9&#45;&gt;13</title>\n<path fill=\"none\" stroke=\"black\" d=\"M616.37,-222.58C627.33,-211.34 639.21,-199.14 650.19,-187.87\"/>\n<polygon fill=\"black\" stroke=\"black\" points=\"652.47,-190.55 656.94,-180.95 647.45,-185.66 652.47,-190.55\"/>\n</g>\n<!-- 11 -->\n<g id=\"node12\" class=\"node\">\n<title>11</title>\n<path fill=\"#e58139\" stroke=\"black\" d=\"M489.5,-68C489.5,-68 413.5,-68 413.5,-68 407.5,-68 401.5,-62 401.5,-56 401.5,-56 401.5,-12 401.5,-12 401.5,-6 407.5,0 413.5,0 413.5,0 489.5,0 489.5,0 495.5,0 501.5,-6 501.5,-12 501.5,-12 501.5,-56 501.5,-56 501.5,-62 495.5,-68 489.5,-68\"/>\n<text text-anchor=\"middle\" x=\"451.5\" y=\"-52.8\" font-family=\"Helvetica,sans-Serif\" font-size=\"14.00\">gini = 0.0</text>\n<text text-anchor=\"middle\" x=\"451.5\" y=\"-37.8\" font-family=\"Helvetica,sans-Serif\" font-size=\"14.00\">samples = 1</text>\n<text text-anchor=\"middle\" x=\"451.5\" y=\"-22.8\" font-family=\"Helvetica,sans-Serif\" font-size=\"14.00\">value = [1, 0]</text>\n<text text-anchor=\"middle\" x=\"451.5\" y=\"-7.8\" font-family=\"Helvetica,sans-Serif\" font-size=\"14.00\">class = 악성</text>\n</g>\n<!-- 10&#45;&gt;11 -->\n<g id=\"edge11\" class=\"edge\">\n<title>10&#45;&gt;11</title>\n<path fill=\"none\" stroke=\"black\" d=\"M497.95,-103.73C492.21,-95.24 486.16,-86.28 480.38,-77.73\"/>\n<polygon fill=\"black\" stroke=\"black\" points=\"483.35,-75.88 474.85,-69.55 477.55,-79.8 483.35,-75.88\"/>\n</g>\n<!-- 12 -->\n<g id=\"node13\" class=\"node\">\n<title>12</title>\n<path fill=\"#399de5\" stroke=\"black\" d=\"M607.5,-68C607.5,-68 531.5,-68 531.5,-68 525.5,-68 519.5,-62 519.5,-56 519.5,-56 519.5,-12 519.5,-12 519.5,-6 525.5,0 531.5,0 531.5,0 607.5,0 607.5,0 613.5,0 619.5,-6 619.5,-12 619.5,-12 619.5,-56 619.5,-56 619.5,-62 613.5,-68 607.5,-68\"/>\n<text text-anchor=\"middle\" x=\"569.5\" y=\"-52.8\" font-family=\"Helvetica,sans-Serif\" font-size=\"14.00\">gini = 0.0</text>\n<text text-anchor=\"middle\" x=\"569.5\" y=\"-37.8\" font-family=\"Helvetica,sans-Serif\" font-size=\"14.00\">samples = 1</text>\n<text text-anchor=\"middle\" x=\"569.5\" y=\"-22.8\" font-family=\"Helvetica,sans-Serif\" font-size=\"14.00\">value = [0, 1]</text>\n<text text-anchor=\"middle\" x=\"569.5\" y=\"-7.8\" font-family=\"Helvetica,sans-Serif\" font-size=\"14.00\">class = 양성</text>\n</g>\n<!-- 10&#45;&gt;12 -->\n<g id=\"edge12\" class=\"edge\">\n<title>10&#45;&gt;12</title>\n<path fill=\"none\" stroke=\"black\" d=\"M541.88,-103.73C545.15,-95.61 548.58,-87.05 551.89,-78.84\"/>\n<polygon fill=\"black\" stroke=\"black\" points=\"555.07,-80.29 555.56,-69.7 548.58,-77.68 555.07,-80.29\"/>\n</g>\n<!-- 15 -->\n<g id=\"node16\" class=\"node\">\n<title>15</title>\n<path fill=\"#fbece1\" stroke=\"black\" d=\"M1223,-425C1223,-425 1086,-425 1086,-425 1080,-425 1074,-419 1074,-413 1074,-413 1074,-354 1074,-354 1074,-348 1080,-342 1086,-342 1086,-342 1223,-342 1223,-342 1229,-342 1235,-348 1235,-354 1235,-354 1235,-413 1235,-413 1235,-419 1229,-425 1223,-425\"/>\n<text text-anchor=\"middle\" x=\"1154.5\" y=\"-409.8\" font-family=\"Helvetica,sans-Serif\" font-size=\"14.00\">worst radius &lt;= 17.615</text>\n<text text-anchor=\"middle\" x=\"1154.5\" y=\"-394.8\" font-family=\"Helvetica,sans-Serif\" font-size=\"14.00\">gini = 0.497</text>\n<text text-anchor=\"middle\" x=\"1154.5\" y=\"-379.8\" font-family=\"Helvetica,sans-Serif\" font-size=\"14.00\">samples = 37</text>\n<text text-anchor=\"middle\" x=\"1154.5\" y=\"-364.8\" font-family=\"Helvetica,sans-Serif\" font-size=\"14.00\">value = [20, 17]</text>\n<text text-anchor=\"middle\" x=\"1154.5\" y=\"-349.8\" font-family=\"Helvetica,sans-Serif\" font-size=\"14.00\">class = 악성</text>\n</g>\n<!-- 14&#45;&gt;15 -->\n<g id=\"edge15\" class=\"edge\">\n<title>14&#45;&gt;15</title>\n<path fill=\"none\" stroke=\"black\" d=\"M1154.5,-460.58C1154.5,-452.79 1154.5,-444.53 1154.5,-436.45\"/>\n<polygon fill=\"black\" stroke=\"black\" points=\"1158,-436.71 1154.5,-426.71 1151,-436.71 1158,-436.71\"/>\n</g>\n<!-- 28 -->\n<g id=\"node29\" class=\"node\">\n<title>28</title>\n<path fill=\"#e5833c\" stroke=\"black\" d=\"M1492,-425C1492,-425 1367,-425 1367,-425 1361,-425 1355,-419 1355,-413 1355,-413 1355,-354 1355,-354 1355,-348 1361,-342 1367,-342 1367,-342 1492,-342 1492,-342 1498,-342 1504,-348 1504,-354 1504,-354 1504,-413 1504,-413 1504,-419 1498,-425 1492,-425\"/>\n<text text-anchor=\"middle\" x=\"1429.5\" y=\"-409.8\" font-family=\"Helvetica,sans-Serif\" font-size=\"14.00\">radius error &lt;= 0.188</text>\n<text text-anchor=\"middle\" x=\"1429.5\" y=\"-394.8\" font-family=\"Helvetica,sans-Serif\" font-size=\"14.00\">gini = 0.03</text>\n<text text-anchor=\"middle\" x=\"1429.5\" y=\"-379.8\" font-family=\"Helvetica,sans-Serif\" font-size=\"14.00\">samples = 130</text>\n<text text-anchor=\"middle\" x=\"1429.5\" y=\"-364.8\" font-family=\"Helvetica,sans-Serif\" font-size=\"14.00\">value = [128, 2]</text>\n<text text-anchor=\"middle\" x=\"1429.5\" y=\"-349.8\" font-family=\"Helvetica,sans-Serif\" font-size=\"14.00\">class = 악성</text>\n</g>\n<!-- 14&#45;&gt;28 -->\n<g id=\"edge28\" class=\"edge\">\n<title>14&#45;&gt;28</title>\n<path fill=\"none\" stroke=\"black\" d=\"M1250.68,-460.58C1281.16,-447.61 1314.63,-433.37 1344.29,-420.75\"/>\n<polygon fill=\"black\" stroke=\"black\" points=\"1345.38,-424.09 1353.21,-416.96 1342.64,-417.65 1345.38,-424.09\"/>\n</g>\n<!-- 16 -->\n<g id=\"node17\" class=\"node\">\n<title>16</title>\n<path fill=\"#7bbeee\" stroke=\"black\" d=\"M1125,-306C1125,-306 982,-306 982,-306 976,-306 970,-300 970,-294 970,-294 970,-235 970,-235 970,-229 976,-223 982,-223 982,-223 1125,-223 1125,-223 1131,-223 1137,-229 1137,-235 1137,-235 1137,-294 1137,-294 1137,-300 1131,-306 1125,-306\"/>\n<text text-anchor=\"middle\" x=\"1053.5\" y=\"-290.8\" font-family=\"Helvetica,sans-Serif\" font-size=\"14.00\">mean texture &lt;= 20.795</text>\n<text text-anchor=\"middle\" x=\"1053.5\" y=\"-275.8\" font-family=\"Helvetica,sans-Serif\" font-size=\"14.00\">gini = 0.375</text>\n<text text-anchor=\"middle\" x=\"1053.5\" y=\"-260.8\" font-family=\"Helvetica,sans-Serif\" font-size=\"14.00\">samples = 20</text>\n<text text-anchor=\"middle\" x=\"1053.5\" y=\"-245.8\" font-family=\"Helvetica,sans-Serif\" font-size=\"14.00\">value = [5, 15]</text>\n<text text-anchor=\"middle\" x=\"1053.5\" y=\"-230.8\" font-family=\"Helvetica,sans-Serif\" font-size=\"14.00\">class = 양성</text>\n</g>\n<!-- 15&#45;&gt;16 -->\n<g id=\"edge16\" class=\"edge\">\n<title>15&#45;&gt;16</title>\n<path fill=\"none\" stroke=\"black\" d=\"M1119.18,-341.58C1111.67,-332.89 1103.68,-323.63 1095.95,-314.67\"/>\n<polygon fill=\"black\" stroke=\"black\" points=\"1098.81,-312.63 1089.62,-307.35 1093.51,-317.2 1098.81,-312.63\"/>\n</g>\n<!-- 23 -->\n<g id=\"node24\" class=\"node\">\n<title>23</title>\n<path fill=\"#e89253\" stroke=\"black\" d=\"M1335.5,-306C1335.5,-306 1181.5,-306 1181.5,-306 1175.5,-306 1169.5,-300 1169.5,-294 1169.5,-294 1169.5,-235 1169.5,-235 1169.5,-229 1175.5,-223 1181.5,-223 1181.5,-223 1335.5,-223 1335.5,-223 1341.5,-223 1347.5,-229 1347.5,-235 1347.5,-235 1347.5,-294 1347.5,-294 1347.5,-300 1341.5,-306 1335.5,-306\"/>\n<text text-anchor=\"middle\" x=\"1258.5\" y=\"-290.8\" font-family=\"Helvetica,sans-Serif\" font-size=\"14.00\">mean symmetry &lt;= 0.151</text>\n<text text-anchor=\"middle\" x=\"1258.5\" y=\"-275.8\" font-family=\"Helvetica,sans-Serif\" font-size=\"14.00\">gini = 0.208</text>\n<text text-anchor=\"middle\" x=\"1258.5\" y=\"-260.8\" font-family=\"Helvetica,sans-Serif\" font-size=\"14.00\">samples = 17</text>\n<text text-anchor=\"middle\" x=\"1258.5\" y=\"-245.8\" font-family=\"Helvetica,sans-Serif\" font-size=\"14.00\">value = [15, 2]</text>\n<text text-anchor=\"middle\" x=\"1258.5\" y=\"-230.8\" font-family=\"Helvetica,sans-Serif\" font-size=\"14.00\">class = 악성</text>\n</g>\n<!-- 15&#45;&gt;23 -->\n<g id=\"edge23\" class=\"edge\">\n<title>15&#45;&gt;23</title>\n<path fill=\"none\" stroke=\"black\" d=\"M1190.87,-341.58C1198.6,-332.89 1206.83,-323.63 1214.79,-314.67\"/>\n<polygon fill=\"black\" stroke=\"black\" points=\"1217.29,-317.13 1221.32,-307.33 1212.06,-312.48 1217.29,-317.13\"/>\n</g>\n<!-- 17 -->\n<g id=\"node18\" class=\"node\">\n<title>17</title>\n<path fill=\"#48a5e7\" stroke=\"black\" d=\"M940,-187C940,-187 771,-187 771,-187 765,-187 759,-181 759,-175 759,-175 759,-116 759,-116 759,-110 765,-104 771,-104 771,-104 940,-104 940,-104 946,-104 952,-110 952,-116 952,-116 952,-175 952,-175 952,-181 946,-187 940,-187\"/>\n<text text-anchor=\"middle\" x=\"855.5\" y=\"-171.8\" font-family=\"Helvetica,sans-Serif\" font-size=\"14.00\">worst smoothness &lt;= 0.138</text>\n<text text-anchor=\"middle\" x=\"855.5\" y=\"-156.8\" font-family=\"Helvetica,sans-Serif\" font-size=\"14.00\">gini = 0.133</text>\n<text text-anchor=\"middle\" x=\"855.5\" y=\"-141.8\" font-family=\"Helvetica,sans-Serif\" font-size=\"14.00\">samples = 14</text>\n<text text-anchor=\"middle\" x=\"855.5\" y=\"-126.8\" font-family=\"Helvetica,sans-Serif\" font-size=\"14.00\">value = [1, 13]</text>\n<text text-anchor=\"middle\" x=\"855.5\" y=\"-111.8\" font-family=\"Helvetica,sans-Serif\" font-size=\"14.00\">class = 양성</text>\n</g>\n<!-- 16&#45;&gt;17 -->\n<g id=\"edge17\" class=\"edge\">\n<title>16&#45;&gt;17</title>\n<path fill=\"none\" stroke=\"black\" d=\"M984.25,-222.58C968.12,-213.05 950.83,-202.83 934.33,-193.08\"/>\n<polygon fill=\"black\" stroke=\"black\" points=\"936.4,-190.24 926.01,-188.17 932.84,-196.27 936.4,-190.24\"/>\n</g>\n<!-- 20 -->\n<g id=\"node21\" class=\"node\">\n<title>20</title>\n<path fill=\"#f2c09c\" stroke=\"black\" d=\"M1125,-187C1125,-187 982,-187 982,-187 976,-187 970,-181 970,-175 970,-175 970,-116 970,-116 970,-110 976,-104 982,-104 982,-104 1125,-104 1125,-104 1131,-104 1137,-110 1137,-116 1137,-116 1137,-175 1137,-175 1137,-181 1131,-187 1125,-187\"/>\n<text text-anchor=\"middle\" x=\"1053.5\" y=\"-171.8\" font-family=\"Helvetica,sans-Serif\" font-size=\"14.00\">mean texture &lt;= 24.985</text>\n<text text-anchor=\"middle\" x=\"1053.5\" y=\"-156.8\" font-family=\"Helvetica,sans-Serif\" font-size=\"14.00\">gini = 0.444</text>\n<text text-anchor=\"middle\" x=\"1053.5\" y=\"-141.8\" font-family=\"Helvetica,sans-Serif\" font-size=\"14.00\">samples = 6</text>\n<text text-anchor=\"middle\" x=\"1053.5\" y=\"-126.8\" font-family=\"Helvetica,sans-Serif\" font-size=\"14.00\">value = [4, 2]</text>\n<text text-anchor=\"middle\" x=\"1053.5\" y=\"-111.8\" font-family=\"Helvetica,sans-Serif\" font-size=\"14.00\">class = 악성</text>\n</g>\n<!-- 16&#45;&gt;20 -->\n<g id=\"edge20\" class=\"edge\">\n<title>16&#45;&gt;20</title>\n<path fill=\"none\" stroke=\"black\" d=\"M1053.5,-222.58C1053.5,-214.79 1053.5,-206.53 1053.5,-198.45\"/>\n<polygon fill=\"black\" stroke=\"black\" points=\"1057,-198.71 1053.5,-188.71 1050,-198.71 1057,-198.71\"/>\n</g>\n<!-- 18 -->\n<g id=\"node19\" class=\"node\">\n<title>18</title>\n<path fill=\"#399de5\" stroke=\"black\" d=\"M786,-68C786,-68 705,-68 705,-68 699,-68 693,-62 693,-56 693,-56 693,-12 693,-12 693,-6 699,0 705,0 705,0 786,0 786,0 792,0 798,-6 798,-12 798,-12 798,-56 798,-56 798,-62 792,-68 786,-68\"/>\n<text text-anchor=\"middle\" x=\"745.5\" y=\"-52.8\" font-family=\"Helvetica,sans-Serif\" font-size=\"14.00\">gini = 0.0</text>\n<text text-anchor=\"middle\" x=\"745.5\" y=\"-37.8\" font-family=\"Helvetica,sans-Serif\" font-size=\"14.00\">samples = 13</text>\n<text text-anchor=\"middle\" x=\"745.5\" y=\"-22.8\" font-family=\"Helvetica,sans-Serif\" font-size=\"14.00\">value = [0, 13]</text>\n<text text-anchor=\"middle\" x=\"745.5\" y=\"-7.8\" font-family=\"Helvetica,sans-Serif\" font-size=\"14.00\">class = 양성</text>\n</g>\n<!-- 17&#45;&gt;18 -->\n<g id=\"edge18\" class=\"edge\">\n<title>17&#45;&gt;18</title>\n<path fill=\"none\" stroke=\"black\" d=\"M814.54,-103.73C805.56,-94.79 796.05,-85.32 787.04,-76.36\"/>\n<polygon fill=\"black\" stroke=\"black\" points=\"789.58,-73.94 780.02,-69.37 784.64,-78.9 789.58,-73.94\"/>\n</g>\n<!-- 19 -->\n<g id=\"node20\" class=\"node\">\n<title>19</title>\n<path fill=\"#e58139\" stroke=\"black\" d=\"M904.5,-68C904.5,-68 828.5,-68 828.5,-68 822.5,-68 816.5,-62 816.5,-56 816.5,-56 816.5,-12 816.5,-12 816.5,-6 822.5,0 828.5,0 828.5,0 904.5,0 904.5,0 910.5,0 916.5,-6 916.5,-12 916.5,-12 916.5,-56 916.5,-56 916.5,-62 910.5,-68 904.5,-68\"/>\n<text text-anchor=\"middle\" x=\"866.5\" y=\"-52.8\" font-family=\"Helvetica,sans-Serif\" font-size=\"14.00\">gini = 0.0</text>\n<text text-anchor=\"middle\" x=\"866.5\" y=\"-37.8\" font-family=\"Helvetica,sans-Serif\" font-size=\"14.00\">samples = 1</text>\n<text text-anchor=\"middle\" x=\"866.5\" y=\"-22.8\" font-family=\"Helvetica,sans-Serif\" font-size=\"14.00\">value = [1, 0]</text>\n<text text-anchor=\"middle\" x=\"866.5\" y=\"-7.8\" font-family=\"Helvetica,sans-Serif\" font-size=\"14.00\">class = 악성</text>\n</g>\n<!-- 17&#45;&gt;19 -->\n<g id=\"edge19\" class=\"edge\">\n<title>17&#45;&gt;19</title>\n<path fill=\"none\" stroke=\"black\" d=\"M859.6,-103.73C860.38,-95.88 861.21,-87.63 862.01,-79.67\"/>\n<polygon fill=\"black\" stroke=\"black\" points=\"865.49,-80.11 863,-69.81 858.52,-79.41 865.49,-80.11\"/>\n</g>\n<!-- 21 -->\n<g id=\"node22\" class=\"node\">\n<title>21</title>\n<path fill=\"#e58139\" stroke=\"black\" d=\"M1033.5,-68C1033.5,-68 957.5,-68 957.5,-68 951.5,-68 945.5,-62 945.5,-56 945.5,-56 945.5,-12 945.5,-12 945.5,-6 951.5,0 957.5,0 957.5,0 1033.5,0 1033.5,0 1039.5,0 1045.5,-6 1045.5,-12 1045.5,-12 1045.5,-56 1045.5,-56 1045.5,-62 1039.5,-68 1033.5,-68\"/>\n<text text-anchor=\"middle\" x=\"995.5\" y=\"-52.8\" font-family=\"Helvetica,sans-Serif\" font-size=\"14.00\">gini = 0.0</text>\n<text text-anchor=\"middle\" x=\"995.5\" y=\"-37.8\" font-family=\"Helvetica,sans-Serif\" font-size=\"14.00\">samples = 4</text>\n<text text-anchor=\"middle\" x=\"995.5\" y=\"-22.8\" font-family=\"Helvetica,sans-Serif\" font-size=\"14.00\">value = [4, 0]</text>\n<text text-anchor=\"middle\" x=\"995.5\" y=\"-7.8\" font-family=\"Helvetica,sans-Serif\" font-size=\"14.00\">class = 악성</text>\n</g>\n<!-- 20&#45;&gt;21 -->\n<g id=\"edge21\" class=\"edge\">\n<title>20&#45;&gt;21</title>\n<path fill=\"none\" stroke=\"black\" d=\"M1031.9,-103.73C1027.51,-95.43 1022.87,-86.67 1018.43,-78.28\"/>\n<polygon fill=\"black\" stroke=\"black\" points=\"1021.62,-76.84 1013.85,-69.64 1015.43,-80.11 1021.62,-76.84\"/>\n</g>\n<!-- 22 -->\n<g id=\"node23\" class=\"node\">\n<title>22</title>\n<path fill=\"#399de5\" stroke=\"black\" d=\"M1151.5,-68C1151.5,-68 1075.5,-68 1075.5,-68 1069.5,-68 1063.5,-62 1063.5,-56 1063.5,-56 1063.5,-12 1063.5,-12 1063.5,-6 1069.5,0 1075.5,0 1075.5,0 1151.5,0 1151.5,0 1157.5,0 1163.5,-6 1163.5,-12 1163.5,-12 1163.5,-56 1163.5,-56 1163.5,-62 1157.5,-68 1151.5,-68\"/>\n<text text-anchor=\"middle\" x=\"1113.5\" y=\"-52.8\" font-family=\"Helvetica,sans-Serif\" font-size=\"14.00\">gini = 0.0</text>\n<text text-anchor=\"middle\" x=\"1113.5\" y=\"-37.8\" font-family=\"Helvetica,sans-Serif\" font-size=\"14.00\">samples = 2</text>\n<text text-anchor=\"middle\" x=\"1113.5\" y=\"-22.8\" font-family=\"Helvetica,sans-Serif\" font-size=\"14.00\">value = [0, 2]</text>\n<text text-anchor=\"middle\" x=\"1113.5\" y=\"-7.8\" font-family=\"Helvetica,sans-Serif\" font-size=\"14.00\">class = 양성</text>\n</g>\n<!-- 20&#45;&gt;22 -->\n<g id=\"edge22\" class=\"edge\">\n<title>20&#45;&gt;22</title>\n<path fill=\"none\" stroke=\"black\" d=\"M1075.84,-103.73C1080.39,-95.43 1085.19,-86.67 1089.78,-78.28\"/>\n<polygon fill=\"black\" stroke=\"black\" points=\"1092.79,-80.08 1094.53,-69.63 1086.65,-76.71 1092.79,-80.08\"/>\n</g>\n<!-- 24 -->\n<g id=\"node25\" class=\"node\">\n<title>24</title>\n<path fill=\"#9ccef2\" stroke=\"black\" d=\"M1349.5,-187C1349.5,-187 1167.5,-187 1167.5,-187 1161.5,-187 1155.5,-181 1155.5,-175 1155.5,-175 1155.5,-116 1155.5,-116 1155.5,-110 1161.5,-104 1167.5,-104 1167.5,-104 1349.5,-104 1349.5,-104 1355.5,-104 1361.5,-110 1361.5,-116 1361.5,-116 1361.5,-175 1361.5,-175 1361.5,-181 1355.5,-187 1349.5,-187\"/>\n<text text-anchor=\"middle\" x=\"1258.5\" y=\"-171.8\" font-family=\"Helvetica,sans-Serif\" font-size=\"14.00\">concave points error &lt;= 0.025</text>\n<text text-anchor=\"middle\" x=\"1258.5\" y=\"-156.8\" font-family=\"Helvetica,sans-Serif\" font-size=\"14.00\">gini = 0.444</text>\n<text text-anchor=\"middle\" x=\"1258.5\" y=\"-141.8\" font-family=\"Helvetica,sans-Serif\" font-size=\"14.00\">samples = 3</text>\n<text text-anchor=\"middle\" x=\"1258.5\" y=\"-126.8\" font-family=\"Helvetica,sans-Serif\" font-size=\"14.00\">value = [1, 2]</text>\n<text text-anchor=\"middle\" x=\"1258.5\" y=\"-111.8\" font-family=\"Helvetica,sans-Serif\" font-size=\"14.00\">class = 양성</text>\n</g>\n<!-- 23&#45;&gt;24 -->\n<g id=\"edge24\" class=\"edge\">\n<title>23&#45;&gt;24</title>\n<path fill=\"none\" stroke=\"black\" d=\"M1258.5,-222.58C1258.5,-214.79 1258.5,-206.53 1258.5,-198.45\"/>\n<polygon fill=\"black\" stroke=\"black\" points=\"1262,-198.71 1258.5,-188.71 1255,-198.71 1262,-198.71\"/>\n</g>\n<!-- 27 -->\n<g id=\"node28\" class=\"node\">\n<title>27</title>\n<path fill=\"#e58139\" stroke=\"black\" d=\"M1473,-179.5C1473,-179.5 1392,-179.5 1392,-179.5 1386,-179.5 1380,-173.5 1380,-167.5 1380,-167.5 1380,-123.5 1380,-123.5 1380,-117.5 1386,-111.5 1392,-111.5 1392,-111.5 1473,-111.5 1473,-111.5 1479,-111.5 1485,-117.5 1485,-123.5 1485,-123.5 1485,-167.5 1485,-167.5 1485,-173.5 1479,-179.5 1473,-179.5\"/>\n<text text-anchor=\"middle\" x=\"1432.5\" y=\"-164.3\" font-family=\"Helvetica,sans-Serif\" font-size=\"14.00\">gini = 0.0</text>\n<text text-anchor=\"middle\" x=\"1432.5\" y=\"-149.3\" font-family=\"Helvetica,sans-Serif\" font-size=\"14.00\">samples = 14</text>\n<text text-anchor=\"middle\" x=\"1432.5\" y=\"-134.3\" font-family=\"Helvetica,sans-Serif\" font-size=\"14.00\">value = [14, 0]</text>\n<text text-anchor=\"middle\" x=\"1432.5\" y=\"-119.3\" font-family=\"Helvetica,sans-Serif\" font-size=\"14.00\">class = 악성</text>\n</g>\n<!-- 23&#45;&gt;27 -->\n<g id=\"edge27\" class=\"edge\">\n<title>23&#45;&gt;27</title>\n<path fill=\"none\" stroke=\"black\" d=\"M1319.36,-222.58C1336.89,-210.79 1355.98,-197.95 1373.4,-186.24\"/>\n<polygon fill=\"black\" stroke=\"black\" points=\"1375.28,-189.19 1381.63,-180.71 1371.38,-183.38 1375.28,-189.19\"/>\n</g>\n<!-- 25 -->\n<g id=\"node26\" class=\"node\">\n<title>25</title>\n<path fill=\"#399de5\" stroke=\"black\" d=\"M1280.5,-68C1280.5,-68 1204.5,-68 1204.5,-68 1198.5,-68 1192.5,-62 1192.5,-56 1192.5,-56 1192.5,-12 1192.5,-12 1192.5,-6 1198.5,0 1204.5,0 1204.5,0 1280.5,0 1280.5,0 1286.5,0 1292.5,-6 1292.5,-12 1292.5,-12 1292.5,-56 1292.5,-56 1292.5,-62 1286.5,-68 1280.5,-68\"/>\n<text text-anchor=\"middle\" x=\"1242.5\" y=\"-52.8\" font-family=\"Helvetica,sans-Serif\" font-size=\"14.00\">gini = 0.0</text>\n<text text-anchor=\"middle\" x=\"1242.5\" y=\"-37.8\" font-family=\"Helvetica,sans-Serif\" font-size=\"14.00\">samples = 2</text>\n<text text-anchor=\"middle\" x=\"1242.5\" y=\"-22.8\" font-family=\"Helvetica,sans-Serif\" font-size=\"14.00\">value = [0, 2]</text>\n<text text-anchor=\"middle\" x=\"1242.5\" y=\"-7.8\" font-family=\"Helvetica,sans-Serif\" font-size=\"14.00\">class = 양성</text>\n</g>\n<!-- 24&#45;&gt;25 -->\n<g id=\"edge25\" class=\"edge\">\n<title>24&#45;&gt;25</title>\n<path fill=\"none\" stroke=\"black\" d=\"M1252.54,-103.73C1251.4,-95.88 1250.19,-87.63 1249.03,-79.67\"/>\n<polygon fill=\"black\" stroke=\"black\" points=\"1252.49,-79.19 1247.58,-69.8 1245.57,-80.2 1252.49,-79.19\"/>\n</g>\n<!-- 26 -->\n<g id=\"node27\" class=\"node\">\n<title>26</title>\n<path fill=\"#e58139\" stroke=\"black\" d=\"M1398.5,-68C1398.5,-68 1322.5,-68 1322.5,-68 1316.5,-68 1310.5,-62 1310.5,-56 1310.5,-56 1310.5,-12 1310.5,-12 1310.5,-6 1316.5,0 1322.5,0 1322.5,0 1398.5,0 1398.5,0 1404.5,0 1410.5,-6 1410.5,-12 1410.5,-12 1410.5,-56 1410.5,-56 1410.5,-62 1404.5,-68 1398.5,-68\"/>\n<text text-anchor=\"middle\" x=\"1360.5\" y=\"-52.8\" font-family=\"Helvetica,sans-Serif\" font-size=\"14.00\">gini = 0.0</text>\n<text text-anchor=\"middle\" x=\"1360.5\" y=\"-37.8\" font-family=\"Helvetica,sans-Serif\" font-size=\"14.00\">samples = 1</text>\n<text text-anchor=\"middle\" x=\"1360.5\" y=\"-22.8\" font-family=\"Helvetica,sans-Serif\" font-size=\"14.00\">value = [1, 0]</text>\n<text text-anchor=\"middle\" x=\"1360.5\" y=\"-7.8\" font-family=\"Helvetica,sans-Serif\" font-size=\"14.00\">class = 악성</text>\n</g>\n<!-- 24&#45;&gt;26 -->\n<g id=\"edge26\" class=\"edge\">\n<title>24&#45;&gt;26</title>\n<path fill=\"none\" stroke=\"black\" d=\"M1296.48,-103.73C1304.72,-94.88 1313.45,-85.51 1321.72,-76.63\"/>\n<polygon fill=\"black\" stroke=\"black\" points=\"1324.19,-79.11 1328.45,-69.41 1319.07,-74.34 1324.19,-79.11\"/>\n</g>\n<!-- 29 -->\n<g id=\"node30\" class=\"node\">\n<title>29</title>\n<path fill=\"#399de5\" stroke=\"black\" d=\"M1467.5,-298.5C1467.5,-298.5 1391.5,-298.5 1391.5,-298.5 1385.5,-298.5 1379.5,-292.5 1379.5,-286.5 1379.5,-286.5 1379.5,-242.5 1379.5,-242.5 1379.5,-236.5 1385.5,-230.5 1391.5,-230.5 1391.5,-230.5 1467.5,-230.5 1467.5,-230.5 1473.5,-230.5 1479.5,-236.5 1479.5,-242.5 1479.5,-242.5 1479.5,-286.5 1479.5,-286.5 1479.5,-292.5 1473.5,-298.5 1467.5,-298.5\"/>\n<text text-anchor=\"middle\" x=\"1429.5\" y=\"-283.3\" font-family=\"Helvetica,sans-Serif\" font-size=\"14.00\">gini = 0.0</text>\n<text text-anchor=\"middle\" x=\"1429.5\" y=\"-268.3\" font-family=\"Helvetica,sans-Serif\" font-size=\"14.00\">samples = 1</text>\n<text text-anchor=\"middle\" x=\"1429.5\" y=\"-253.3\" font-family=\"Helvetica,sans-Serif\" font-size=\"14.00\">value = [0, 1]</text>\n<text text-anchor=\"middle\" x=\"1429.5\" y=\"-238.3\" font-family=\"Helvetica,sans-Serif\" font-size=\"14.00\">class = 양성</text>\n</g>\n<!-- 28&#45;&gt;29 -->\n<g id=\"edge29\" class=\"edge\">\n<title>28&#45;&gt;29</title>\n<path fill=\"none\" stroke=\"black\" d=\"M1429.5,-341.58C1429.5,-331.43 1429.5,-320.5 1429.5,-310.18\"/>\n<polygon fill=\"black\" stroke=\"black\" points=\"1433,-310.37 1429.5,-300.37 1426,-310.37 1433,-310.37\"/>\n</g>\n<!-- 30 -->\n<g id=\"node31\" class=\"node\">\n<title>30</title>\n<path fill=\"#e5823b\" stroke=\"black\" d=\"M1649,-306C1649,-306 1524,-306 1524,-306 1518,-306 1512,-300 1512,-294 1512,-294 1512,-235 1512,-235 1512,-229 1518,-223 1524,-223 1524,-223 1649,-223 1649,-223 1655,-223 1661,-229 1661,-235 1661,-235 1661,-294 1661,-294 1661,-300 1655,-306 1649,-306\"/>\n<text text-anchor=\"middle\" x=\"1586.5\" y=\"-290.8\" font-family=\"Helvetica,sans-Serif\" font-size=\"14.00\">radius error &lt;= 0.241</text>\n<text text-anchor=\"middle\" x=\"1586.5\" y=\"-275.8\" font-family=\"Helvetica,sans-Serif\" font-size=\"14.00\">gini = 0.015</text>\n<text text-anchor=\"middle\" x=\"1586.5\" y=\"-260.8\" font-family=\"Helvetica,sans-Serif\" font-size=\"14.00\">samples = 129</text>\n<text text-anchor=\"middle\" x=\"1586.5\" y=\"-245.8\" font-family=\"Helvetica,sans-Serif\" font-size=\"14.00\">value = [128, 1]</text>\n<text text-anchor=\"middle\" x=\"1586.5\" y=\"-230.8\" font-family=\"Helvetica,sans-Serif\" font-size=\"14.00\">class = 악성</text>\n</g>\n<!-- 28&#45;&gt;30 -->\n<g id=\"edge30\" class=\"edge\">\n<title>28&#45;&gt;30</title>\n<path fill=\"none\" stroke=\"black\" d=\"M1484.41,-341.58C1496.72,-332.41 1509.88,-322.6 1522.53,-313.17\"/>\n<polygon fill=\"black\" stroke=\"black\" points=\"1524.48,-316.08 1530.41,-307.3 1520.3,-310.47 1524.48,-316.08\"/>\n</g>\n<!-- 31 -->\n<g id=\"node32\" class=\"node\">\n<title>31</title>\n<path fill=\"#eeab7b\" stroke=\"black\" d=\"M1657.5,-187C1657.5,-187 1515.5,-187 1515.5,-187 1509.5,-187 1503.5,-181 1503.5,-175 1503.5,-175 1503.5,-116 1503.5,-116 1503.5,-110 1509.5,-104 1515.5,-104 1515.5,-104 1657.5,-104 1657.5,-104 1663.5,-104 1669.5,-110 1669.5,-116 1669.5,-116 1669.5,-175 1669.5,-175 1669.5,-181 1663.5,-187 1657.5,-187\"/>\n<text text-anchor=\"middle\" x=\"1586.5\" y=\"-171.8\" font-family=\"Helvetica,sans-Serif\" font-size=\"14.00\">worst texture &lt;= 22.935</text>\n<text text-anchor=\"middle\" x=\"1586.5\" y=\"-156.8\" font-family=\"Helvetica,sans-Serif\" font-size=\"14.00\">gini = 0.375</text>\n<text text-anchor=\"middle\" x=\"1586.5\" y=\"-141.8\" font-family=\"Helvetica,sans-Serif\" font-size=\"14.00\">samples = 4</text>\n<text text-anchor=\"middle\" x=\"1586.5\" y=\"-126.8\" font-family=\"Helvetica,sans-Serif\" font-size=\"14.00\">value = [3, 1]</text>\n<text text-anchor=\"middle\" x=\"1586.5\" y=\"-111.8\" font-family=\"Helvetica,sans-Serif\" font-size=\"14.00\">class = 악성</text>\n</g>\n<!-- 30&#45;&gt;31 -->\n<g id=\"edge31\" class=\"edge\">\n<title>30&#45;&gt;31</title>\n<path fill=\"none\" stroke=\"black\" d=\"M1586.5,-222.58C1586.5,-214.79 1586.5,-206.53 1586.5,-198.45\"/>\n<polygon fill=\"black\" stroke=\"black\" points=\"1590,-198.71 1586.5,-188.71 1583,-198.71 1590,-198.71\"/>\n</g>\n<!-- 34 -->\n<g id=\"node35\" class=\"node\">\n<title>34</title>\n<path fill=\"#e58139\" stroke=\"black\" d=\"M1789,-179.5C1789,-179.5 1700,-179.5 1700,-179.5 1694,-179.5 1688,-173.5 1688,-167.5 1688,-167.5 1688,-123.5 1688,-123.5 1688,-117.5 1694,-111.5 1700,-111.5 1700,-111.5 1789,-111.5 1789,-111.5 1795,-111.5 1801,-117.5 1801,-123.5 1801,-123.5 1801,-167.5 1801,-167.5 1801,-173.5 1795,-179.5 1789,-179.5\"/>\n<text text-anchor=\"middle\" x=\"1744.5\" y=\"-164.3\" font-family=\"Helvetica,sans-Serif\" font-size=\"14.00\">gini = 0.0</text>\n<text text-anchor=\"middle\" x=\"1744.5\" y=\"-149.3\" font-family=\"Helvetica,sans-Serif\" font-size=\"14.00\">samples = 125</text>\n<text text-anchor=\"middle\" x=\"1744.5\" y=\"-134.3\" font-family=\"Helvetica,sans-Serif\" font-size=\"14.00\">value = [125, 0]</text>\n<text text-anchor=\"middle\" x=\"1744.5\" y=\"-119.3\" font-family=\"Helvetica,sans-Serif\" font-size=\"14.00\">class = 악성</text>\n</g>\n<!-- 30&#45;&gt;34 -->\n<g id=\"edge34\" class=\"edge\">\n<title>30&#45;&gt;34</title>\n<path fill=\"none\" stroke=\"black\" d=\"M1641.76,-222.58C1657.53,-210.9 1674.69,-198.19 1690.39,-186.57\"/>\n<polygon fill=\"black\" stroke=\"black\" points=\"1692.28,-189.53 1698.23,-180.76 1688.11,-183.9 1692.28,-189.53\"/>\n</g>\n<!-- 32 -->\n<g id=\"node33\" class=\"node\">\n<title>32</title>\n<path fill=\"#399de5\" stroke=\"black\" d=\"M1522.5,-68C1522.5,-68 1446.5,-68 1446.5,-68 1440.5,-68 1434.5,-62 1434.5,-56 1434.5,-56 1434.5,-12 1434.5,-12 1434.5,-6 1440.5,0 1446.5,0 1446.5,0 1522.5,0 1522.5,0 1528.5,0 1534.5,-6 1534.5,-12 1534.5,-12 1534.5,-56 1534.5,-56 1534.5,-62 1528.5,-68 1522.5,-68\"/>\n<text text-anchor=\"middle\" x=\"1484.5\" y=\"-52.8\" font-family=\"Helvetica,sans-Serif\" font-size=\"14.00\">gini = 0.0</text>\n<text text-anchor=\"middle\" x=\"1484.5\" y=\"-37.8\" font-family=\"Helvetica,sans-Serif\" font-size=\"14.00\">samples = 1</text>\n<text text-anchor=\"middle\" x=\"1484.5\" y=\"-22.8\" font-family=\"Helvetica,sans-Serif\" font-size=\"14.00\">value = [0, 1]</text>\n<text text-anchor=\"middle\" x=\"1484.5\" y=\"-7.8\" font-family=\"Helvetica,sans-Serif\" font-size=\"14.00\">class = 양성</text>\n</g>\n<!-- 31&#45;&gt;32 -->\n<g id=\"edge32\" class=\"edge\">\n<title>31&#45;&gt;32</title>\n<path fill=\"none\" stroke=\"black\" d=\"M1548.52,-103.73C1540.28,-94.88 1531.55,-85.51 1523.28,-76.63\"/>\n<polygon fill=\"black\" stroke=\"black\" points=\"1525.93,-74.34 1516.55,-69.41 1520.81,-79.11 1525.93,-74.34\"/>\n</g>\n<!-- 33 -->\n<g id=\"node34\" class=\"node\">\n<title>33</title>\n<path fill=\"#e58139\" stroke=\"black\" d=\"M1640.5,-68C1640.5,-68 1564.5,-68 1564.5,-68 1558.5,-68 1552.5,-62 1552.5,-56 1552.5,-56 1552.5,-12 1552.5,-12 1552.5,-6 1558.5,0 1564.5,0 1564.5,0 1640.5,0 1640.5,0 1646.5,0 1652.5,-6 1652.5,-12 1652.5,-12 1652.5,-56 1652.5,-56 1652.5,-62 1646.5,-68 1640.5,-68\"/>\n<text text-anchor=\"middle\" x=\"1602.5\" y=\"-52.8\" font-family=\"Helvetica,sans-Serif\" font-size=\"14.00\">gini = 0.0</text>\n<text text-anchor=\"middle\" x=\"1602.5\" y=\"-37.8\" font-family=\"Helvetica,sans-Serif\" font-size=\"14.00\">samples = 3</text>\n<text text-anchor=\"middle\" x=\"1602.5\" y=\"-22.8\" font-family=\"Helvetica,sans-Serif\" font-size=\"14.00\">value = [3, 0]</text>\n<text text-anchor=\"middle\" x=\"1602.5\" y=\"-7.8\" font-family=\"Helvetica,sans-Serif\" font-size=\"14.00\">class = 악성</text>\n</g>\n<!-- 31&#45;&gt;33 -->\n<g id=\"edge33\" class=\"edge\">\n<title>31&#45;&gt;33</title>\n<path fill=\"none\" stroke=\"black\" d=\"M1592.46,-103.73C1593.6,-95.88 1594.81,-87.63 1595.97,-79.67\"/>\n<polygon fill=\"black\" stroke=\"black\" points=\"1599.43,-80.2 1597.42,-69.8 1592.51,-79.19 1599.43,-80.2\"/>\n</g>\n</g>\n</svg>\n",
      "text/plain": [
       "<graphviz.sources.Source at 0x24233caeaf0>"
      ]
     },
     "execution_count": 12,
     "metadata": {},
     "output_type": "execute_result"
    }
   ],
   "source": [
    "graph = Source(export_graphviz(tree5,\n",
    "                               feature_names = data.feature_names,\n",
    "                               class_names = ['악성', '양성'],\n",
    "                               rounded = True, \n",
    "                               filled = True\n",
    "                               ))\n",
    "graph"
   ]
  },
  {
   "cell_type": "code",
   "execution_count": 14,
   "metadata": {},
   "outputs": [
    {
     "data": {
      "text/plain": [
       "array([0.04247104, 0.95752896])"
      ]
     },
     "execution_count": 14,
     "metadata": {},
     "output_type": "execute_result"
    }
   ],
   "source": [
    "import numpy as np\n",
    "\n",
    "a = np.array([11, 248])\n",
    "a / a.sum()"
   ]
  },
  {
   "cell_type": "markdown",
   "metadata": {},
   "source": [
    "## DecisionTree 복잡도 제어(규제 파라미터)\n",
    "- DecisionTree 모델을 복잡하게 하는 것은 노드가 너무 많이 만들어 지는 것이다\n",
    "    - 노드가 많이 만들어 질수록 훈련 데이터셋에 Overfitting 된다\n",
    "- 적절한 시점에 트리 생성을 중단해야 한다\n",
    "\n",
    "- 모델의 복잡도 관련 주요 하이퍼파라미터\n",
    "    - **max_depth** : 트리의 최대 깊이\n",
    "    - **max_leaf_nodes** : 리프노드 개수\n",
    "    - **min_samples_leaf** : 리프노드가 되기 위한 최소 샘플 수"
   ]
  },
  {
   "cell_type": "markdown",
   "metadata": {},
   "source": [
    "## 최적의 하이퍼파라미터 찾기\n",
    "### 최적의 max_depth 찾기"
   ]
  },
  {
   "cell_type": "code",
   "execution_count": 15,
   "metadata": {},
   "outputs": [],
   "source": [
    "max_depth_candidate = [1, 2, 3, 4, 5, None]\n",
    "train_acc_list = []\n",
    "test_acc_list = []\n",
    "\n",
    "for depth in max_depth_candidate:\n",
    "    tree = DecisionTreeClassifier(max_depth = depth, random_state = 0)\n",
    "    tree.fit(X_train, y_train)\n",
    "    \n",
    "    train_pred = tree.predict(X_train)\n",
    "    test_pred = tree.predict(X_test)\n",
    "    \n",
    "    train_acc_list.append(accuracy_score(y_train, train_pred))\n",
    "    test_acc_list.append(accuracy_score(y_test, test_pred))"
   ]
  },
  {
   "cell_type": "markdown",
   "metadata": {},
   "source": [
    "### 결과 확인"
   ]
  },
  {
   "cell_type": "code",
   "execution_count": 17,
   "metadata": {},
   "outputs": [
    {
     "data": {
      "text/html": [
       "<div>\n",
       "<style scoped>\n",
       "    .dataframe tbody tr th:only-of-type {\n",
       "        vertical-align: middle;\n",
       "    }\n",
       "\n",
       "    .dataframe tbody tr th {\n",
       "        vertical-align: top;\n",
       "    }\n",
       "\n",
       "    .dataframe thead th {\n",
       "        text-align: right;\n",
       "    }\n",
       "</style>\n",
       "<table border=\"1\" class=\"dataframe\">\n",
       "  <thead>\n",
       "    <tr style=\"text-align: right;\">\n",
       "      <th></th>\n",
       "      <th>max_depth</th>\n",
       "      <th>train</th>\n",
       "      <th>test</th>\n",
       "    </tr>\n",
       "  </thead>\n",
       "  <tbody>\n",
       "    <tr>\n",
       "      <th>0</th>\n",
       "      <td>1.0</td>\n",
       "      <td>0.929577</td>\n",
       "      <td>0.888112</td>\n",
       "    </tr>\n",
       "    <tr>\n",
       "      <th>1</th>\n",
       "      <td>2.0</td>\n",
       "      <td>0.931925</td>\n",
       "      <td>0.888112</td>\n",
       "    </tr>\n",
       "    <tr>\n",
       "      <th>2</th>\n",
       "      <td>3.0</td>\n",
       "      <td>0.976526</td>\n",
       "      <td>0.916084</td>\n",
       "    </tr>\n",
       "    <tr>\n",
       "      <th>3</th>\n",
       "      <td>4.0</td>\n",
       "      <td>0.985915</td>\n",
       "      <td>0.909091</td>\n",
       "    </tr>\n",
       "    <tr>\n",
       "      <th>4</th>\n",
       "      <td>5.0</td>\n",
       "      <td>1.000000</td>\n",
       "      <td>0.902098</td>\n",
       "    </tr>\n",
       "    <tr>\n",
       "      <th>5</th>\n",
       "      <td>NaN</td>\n",
       "      <td>1.000000</td>\n",
       "      <td>0.902098</td>\n",
       "    </tr>\n",
       "  </tbody>\n",
       "</table>\n",
       "</div>"
      ],
      "text/plain": [
       "   max_depth     train      test\n",
       "0        1.0  0.929577  0.888112\n",
       "1        2.0  0.931925  0.888112\n",
       "2        3.0  0.976526  0.916084\n",
       "3        4.0  0.985915  0.909091\n",
       "4        5.0  1.000000  0.902098\n",
       "5        NaN  1.000000  0.902098"
      ]
     },
     "execution_count": 17,
     "metadata": {},
     "output_type": "execute_result"
    }
   ],
   "source": [
    "import pandas as pd\n",
    "\n",
    "result_df = pd.DataFrame({\n",
    "    'max_depth' : max_depth_candidate, \n",
    "    'train' : train_acc_list, \n",
    "    'test' : test_acc_list\n",
    "})\n",
    "\n",
    "result_df"
   ]
  },
  {
   "cell_type": "code",
   "execution_count": 18,
   "metadata": {},
   "outputs": [
    {
     "data": {
      "image/png": "[encoded data removed]",
      "text/plain": [
       "<Figure size 640x480 with 1 Axes>"
      ]
     },
     "metadata": {},
     "output_type": "display_data"
    }
   ],
   "source": [
    "import matplotlib.pyplot as plt\n",
    "result_df.set_index('max_depth').plot()\n",
    "plt.show()"
   ]
  },
  {
   "cell_type": "code",
   "execution_count": null,
   "metadata": {},
   "outputs": [],
   "source": []
  }
 ],
 "metadata": {
  "kernelspec": {
   "display_name": "Python 3.9.13 ('base')",
   "language": "python",
   "name": "python3"
  },
  "language_info": {
   "codemirror_mode": {
    "name": "ipython",
    "version": 3
   },
   "file_extension": ".py",
   "mimetype": "text/x-python",
   "name": "python",
   "nbconvert_exporter": "python",
   "pygments_lexer": "ipython3",
   "version": "3.9.13"
  },
  "orig_nbformat": 4,
  "vscode": {
   "interpreter": {
    "hash": "57bc2b6ce032b5f0e93daa91901b7ea38a856826ef43aa9e95b6d3999f5310df"
   }
  }
 },
 "nbformat": 4,
 "nbformat_minor": 2
}
