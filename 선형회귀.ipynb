{
 "cells": [
  {
   "cell_type": "markdown",
   "metadata": {},
   "source": [
    "# 선형회귀\n",
    "## 선형회귀 개요\n",
    "- 선형 회귀는 종속 변수 y와 한 개 이상의 독립 변수 X와의 선형 상관 관계를 모델링하는 회귀분석 기법"
   ]
  },
  {
   "cell_type": "markdown",
   "metadata": {},
   "source": [
    "## 선형회귀 모델\n",
    "- 각 Feature들에 가중치(Weight)를 곱하고 편향(bias)를 더해 예측 결과를 출력\n",
    "- Weight와 bias가 학습 대상 Parameter가 된다\n",
    "\n",
    "$$\n",
    "\\hat{y_i} = w_1 x_{i1} + w_2 x_{i2}... + w_{p} x_{ip} + b\n",
    "\\\\\n",
    "\\hat{y_i} = \\mathbf{w}^{T} \\cdot \\mathbf{X} \n",
    "$$\n",
    "\n",
    "- $\\hat{y_i}$: 예측값\n",
    "- $x$: 특성(feature-컬럼)\n",
    "- $w$: 가중치(weight), 회귀계수(regression coefficient). 특성이 $\\hat{y_i}$ 에 얼마나 영향을 주는지 정도\n",
    "- $b$: 절편\n",
    "- $p$: p 번째 특성(feature)/p번째 가중치\n",
    "- $i$: i번째 관측치(sample)\n"
   ]
  },
  {
   "cell_type": "markdown",
   "metadata": {},
   "source": [
    "## Boston Dataset을 이용한 실습"
   ]
  },
  {
   "cell_type": "markdown",
   "metadata": {},
   "source": [
    "### Boston DataSet\n",
    "보스톤의 지역별 집값 데이터셋\n",
    "\n",
    " - CRIM\t: 지역별 범죄 발생률\n",
    " - ZN\t: 25,000 평방피트를 초과하는 거주지역의 비율\n",
    " - INDUS: 비상업지역 토지의 비율\n",
    " - CHAS\t: 찰스강에 대한 더미변수(강의 경계에 위치한 경우는 1, 아니면 0)\n",
    " - NOX\t: 일산화질소 농도\n",
    " - RM\t: 주택 1가구당 평균 방의 개수\n",
    " - AGE\t: 1940년 이전에 건축된 소유주택의 비율\n",
    " - DIS\t: 5개의 보스턴 고용센터까지의 접근성 지수\n",
    " - RAD\t: 고속도로까지의 접근성 지수\n",
    " - TAX\t: 10,000 달러 당 재산세율\n",
    " - PTRATIO : 지역별 교사 한명당 학생 비율\n",
    " - B\t: 지역의 흑인 거주 비율\n",
    " - LSTAT: 하위계층의 비율(%)\n",
    " \n",
    " - MEDV\t: Target.  지역의 주택가격 중앙값 (단위: $1,000)"
   ]
  },
  {
   "cell_type": "code",
   "execution_count": 78,
   "metadata": {},
   "outputs": [],
   "source": [
    "import warnings\n",
    "warnings.filterwarnings(action='ignore')"
   ]
  },
  {
   "cell_type": "markdown",
   "metadata": {},
   "source": [
    "### Boston housing dataset loading"
   ]
  },
  {
   "cell_type": "code",
   "execution_count": 1,
   "metadata": {},
   "outputs": [],
   "source": [
    "import pandas as pd\n",
    "import numpy as np\n",
    "\n",
    "data_url = \"http://lib.stat.cmu.edu/datasets/boston\"\n",
    "raw_df = pd.read_csv(data_url, sep = \"\\s+\", skiprows = 22, header = None)\n",
    "X = np.hstack([raw_df.values[::2, :], raw_df.values[1::2, :2]])\n",
    "y = raw_df.values[1::2, 2]"
   ]
  },
  {
   "cell_type": "code",
   "execution_count": 2,
   "metadata": {},
   "outputs": [
    {
     "data": {
      "text/plain": [
       "((506, 13), (506,))"
      ]
     },
     "execution_count": 2,
     "metadata": {},
     "output_type": "execute_result"
    }
   ],
   "source": [
    "X.shape, y.shape"
   ]
  },
  {
   "cell_type": "code",
   "execution_count": 3,
   "metadata": {},
   "outputs": [
    {
     "data": {
      "text/html": [
       "<div>\n",
       "<style scoped>\n",
       "    .dataframe tbody tr th:only-of-type {\n",
       "        vertical-align: middle;\n",
       "    }\n",
       "\n",
       "    .dataframe tbody tr th {\n",
       "        vertical-align: top;\n",
       "    }\n",
       "\n",
       "    .dataframe thead th {\n",
       "        text-align: right;\n",
       "    }\n",
       "</style>\n",
       "<table border=\"1\" class=\"dataframe\">\n",
       "  <thead>\n",
       "    <tr style=\"text-align: right;\">\n",
       "      <th></th>\n",
       "      <th>CRIM</th>\n",
       "      <th>ZN</th>\n",
       "      <th>INDUS</th>\n",
       "      <th>CHAS</th>\n",
       "      <th>NOX</th>\n",
       "      <th>RM</th>\n",
       "      <th>AGE</th>\n",
       "      <th>DIS</th>\n",
       "      <th>RAD</th>\n",
       "      <th>TAX</th>\n",
       "      <th>PTRATIO</th>\n",
       "      <th>B</th>\n",
       "      <th>LSTAT</th>\n",
       "      <th>MEDV</th>\n",
       "    </tr>\n",
       "  </thead>\n",
       "  <tbody>\n",
       "    <tr>\n",
       "      <th>0</th>\n",
       "      <td>0.00632</td>\n",
       "      <td>18.0</td>\n",
       "      <td>2.31</td>\n",
       "      <td>0.0</td>\n",
       "      <td>0.538</td>\n",
       "      <td>6.575</td>\n",
       "      <td>65.2</td>\n",
       "      <td>4.0900</td>\n",
       "      <td>1.0</td>\n",
       "      <td>296.0</td>\n",
       "      <td>15.3</td>\n",
       "      <td>396.90</td>\n",
       "      <td>4.98</td>\n",
       "      <td>24.0</td>\n",
       "    </tr>\n",
       "    <tr>\n",
       "      <th>1</th>\n",
       "      <td>0.02731</td>\n",
       "      <td>0.0</td>\n",
       "      <td>7.07</td>\n",
       "      <td>0.0</td>\n",
       "      <td>0.469</td>\n",
       "      <td>6.421</td>\n",
       "      <td>78.9</td>\n",
       "      <td>4.9671</td>\n",
       "      <td>2.0</td>\n",
       "      <td>242.0</td>\n",
       "      <td>17.8</td>\n",
       "      <td>396.90</td>\n",
       "      <td>9.14</td>\n",
       "      <td>21.6</td>\n",
       "    </tr>\n",
       "    <tr>\n",
       "      <th>2</th>\n",
       "      <td>0.02729</td>\n",
       "      <td>0.0</td>\n",
       "      <td>7.07</td>\n",
       "      <td>0.0</td>\n",
       "      <td>0.469</td>\n",
       "      <td>7.185</td>\n",
       "      <td>61.1</td>\n",
       "      <td>4.9671</td>\n",
       "      <td>2.0</td>\n",
       "      <td>242.0</td>\n",
       "      <td>17.8</td>\n",
       "      <td>392.83</td>\n",
       "      <td>4.03</td>\n",
       "      <td>34.7</td>\n",
       "    </tr>\n",
       "    <tr>\n",
       "      <th>3</th>\n",
       "      <td>0.03237</td>\n",
       "      <td>0.0</td>\n",
       "      <td>2.18</td>\n",
       "      <td>0.0</td>\n",
       "      <td>0.458</td>\n",
       "      <td>6.998</td>\n",
       "      <td>45.8</td>\n",
       "      <td>6.0622</td>\n",
       "      <td>3.0</td>\n",
       "      <td>222.0</td>\n",
       "      <td>18.7</td>\n",
       "      <td>394.63</td>\n",
       "      <td>2.94</td>\n",
       "      <td>33.4</td>\n",
       "    </tr>\n",
       "    <tr>\n",
       "      <th>4</th>\n",
       "      <td>0.06905</td>\n",
       "      <td>0.0</td>\n",
       "      <td>2.18</td>\n",
       "      <td>0.0</td>\n",
       "      <td>0.458</td>\n",
       "      <td>7.147</td>\n",
       "      <td>54.2</td>\n",
       "      <td>6.0622</td>\n",
       "      <td>3.0</td>\n",
       "      <td>222.0</td>\n",
       "      <td>18.7</td>\n",
       "      <td>396.90</td>\n",
       "      <td>5.33</td>\n",
       "      <td>36.2</td>\n",
       "    </tr>\n",
       "  </tbody>\n",
       "</table>\n",
       "</div>"
      ],
      "text/plain": [
       "      CRIM    ZN  INDUS  CHAS    NOX     RM   AGE     DIS  RAD    TAX  \\\n",
       "0  0.00632  18.0   2.31   0.0  0.538  6.575  65.2  4.0900  1.0  296.0   \n",
       "1  0.02731   0.0   7.07   0.0  0.469  6.421  78.9  4.9671  2.0  242.0   \n",
       "2  0.02729   0.0   7.07   0.0  0.469  7.185  61.1  4.9671  2.0  242.0   \n",
       "3  0.03237   0.0   2.18   0.0  0.458  6.998  45.8  6.0622  3.0  222.0   \n",
       "4  0.06905   0.0   2.18   0.0  0.458  7.147  54.2  6.0622  3.0  222.0   \n",
       "\n",
       "   PTRATIO       B  LSTAT  MEDV  \n",
       "0     15.3  396.90   4.98  24.0  \n",
       "1     17.8  396.90   9.14  21.6  \n",
       "2     17.8  392.83   4.03  34.7  \n",
       "3     18.7  394.63   2.94  33.4  \n",
       "4     18.7  396.90   5.33  36.2  "
      ]
     },
     "execution_count": 3,
     "metadata": {},
     "output_type": "execute_result"
    }
   ],
   "source": [
    "# dataframe으로 만들기\n",
    "cols = [\"CRIM\",\"ZN\",\"INDUS\",\"CHAS\",\"NOX\",\"RM\",\"AGE\",\"DIS\",\"RAD\",\"TAX\",\"PTRATIO\",\"B\",\"LSTAT\"]\n",
    "df = pd.DataFrame(X, columns=cols)\n",
    "df['MEDV'] = y\n",
    "df.head()"
   ]
  },
  {
   "cell_type": "code",
   "execution_count": 4,
   "metadata": {},
   "outputs": [
    {
     "name": "stdout",
     "output_type": "stream",
     "text": [
      "<class 'pandas.core.frame.DataFrame'>\n",
      "RangeIndex: 506 entries, 0 to 505\n",
      "Data columns (total 14 columns):\n",
      " #   Column   Non-Null Count  Dtype  \n",
      "---  ------   --------------  -----  \n",
      " 0   CRIM     506 non-null    float64\n",
      " 1   ZN       506 non-null    float64\n",
      " 2   INDUS    506 non-null    float64\n",
      " 3   CHAS     506 non-null    float64\n",
      " 4   NOX      506 non-null    float64\n",
      " 5   RM       506 non-null    float64\n",
      " 6   AGE      506 non-null    float64\n",
      " 7   DIS      506 non-null    float64\n",
      " 8   RAD      506 non-null    float64\n",
      " 9   TAX      506 non-null    float64\n",
      " 10  PTRATIO  506 non-null    float64\n",
      " 11  B        506 non-null    float64\n",
      " 12  LSTAT    506 non-null    float64\n",
      " 13  MEDV     506 non-null    float64\n",
      "dtypes: float64(14)\n",
      "memory usage: 55.5 KB\n"
     ]
    }
   ],
   "source": [
    "df.info()"
   ]
  },
  {
   "cell_type": "code",
   "execution_count": 5,
   "metadata": {},
   "outputs": [
    {
     "data": {
      "text/plain": [
       "0.0    471\n",
       "1.0     35\n",
       "Name: CHAS, dtype: int64"
      ]
     },
     "execution_count": 5,
     "metadata": {},
     "output_type": "execute_result"
    }
   ],
   "source": [
    "df['CHAS'].value_counts()"
   ]
  },
  {
   "cell_type": "markdown",
   "metadata": {},
   "source": [
    "## LinearRegression\n",
    "- 가장 기본적인 선형 회귀 모델\n",
    "- 각 Feature에 가중합으로 Y값을 추론한다\n",
    "\n",
    "### 데이터 전처리\n",
    "- **선형회귀 모델 사용시 전처리**\n",
    "    - **범주형 Feature**\n",
    "        - One-Hot Encoding\n",
    "    - **연속형 Feature**\n",
    "        - Feature Scaling을 통해 각 컬럼들의 값의 단위를 맞춘다\n",
    "        - StandardScaler를 사용할 때 성능이 더 잘나오는 경향이 있다"
   ]
  },
  {
   "cell_type": "markdown",
   "metadata": {},
   "source": [
    "### train/test set 나누기"
   ]
  },
  {
   "cell_type": "code",
   "execution_count": 6,
   "metadata": {},
   "outputs": [
    {
     "data": {
      "text/plain": [
       "((404, 13), (102, 13))"
      ]
     },
     "execution_count": 6,
     "metadata": {},
     "output_type": "execute_result"
    }
   ],
   "source": [
    "from sklearn.model_selection import train_test_split\n",
    "\n",
    "X_train, X_test, y_train, y_test = train_test_split(X, y, test_size = 0.2, random_state = 0)\n",
    "X_train.shape, X_test.shape"
   ]
  },
  {
   "cell_type": "markdown",
   "metadata": {},
   "source": [
    "### Feature Scaling"
   ]
  },
  {
   "cell_type": "code",
   "execution_count": 7,
   "metadata": {},
   "outputs": [
    {
     "name": "stdout",
     "output_type": "stream",
     "text": [
      "[0. 1.] [0. 1.]\n"
     ]
    }
   ],
   "source": [
    "# CHAS - 범주형 제외하고 feature scaling 처리\n",
    "chas_train, chas_test = X_train[:, 3].reshape(-1, 1), X_test[:, 3].reshape(-1, 1)\n",
    "chas_train.shape\n",
    "print(np.unique(chas_train), np.unique(chas_test))"
   ]
  },
  {
   "cell_type": "code",
   "execution_count": 8,
   "metadata": {},
   "outputs": [
    {
     "data": {
      "text/plain": [
       "((404, 12), (102, 12))"
      ]
     },
     "execution_count": 8,
     "metadata": {},
     "output_type": "execute_result"
    }
   ],
   "source": [
    "# X에서 CHAS 피쳐값 제거\n",
    "X_train = np.delete(X_train, 3, axis = 1)\n",
    "X_test = np.delete(X_test, 3, axis = 1)\n",
    "X_train.shape, X_test.shape"
   ]
  },
  {
   "cell_type": "code",
   "execution_count": 10,
   "metadata": {},
   "outputs": [
    {
     "data": {
      "text/plain": [
       "((404, 13), (102, 13))"
      ]
     },
     "execution_count": 10,
     "metadata": {},
     "output_type": "execute_result"
    }
   ],
   "source": [
    "from sklearn.preprocessing import StandardScaler\n",
    "\n",
    "scaler = StandardScaler()\n",
    "X_train_scaled_tmp = scaler.fit_transform(X_train)\n",
    "X_test_scaled_tmp = scaler.transform(X_test)\n",
    "\n",
    "# CHAS 추가\n",
    "X_train_scaled = np.append(X_train_scaled_tmp, chas_train, axis = 1)\n",
    "X_test_scaled = np.append(X_test_scaled_tmp, chas_test, axis = 1)\n",
    "\n",
    "X_train_scaled.shape, X_test_scaled.shape"
   ]
  },
  {
   "cell_type": "code",
   "execution_count": 11,
   "metadata": {},
   "outputs": [
    {
     "data": {
      "text/plain": [
       "array([-2.33174316e-16, -6.23813432e-17,  2.69916103e-15, -9.89857261e-16,\n",
       "       -1.47571724e-15,  8.65918998e-16,  2.00884414e-16, -1.18716917e-16,\n",
       "        2.91296140e-17,  1.65098958e-14,  7.99759049e-15, -1.85852434e-15,\n",
       "        6.93069307e-02])"
      ]
     },
     "execution_count": 11,
     "metadata": {},
     "output_type": "execute_result"
    }
   ],
   "source": [
    "X_train_scaled.mean(axis = 0)"
   ]
  },
  {
   "cell_type": "code",
   "execution_count": 12,
   "metadata": {},
   "outputs": [
    {
     "data": {
      "text/plain": [
       "array([1.        , 1.        , 1.        , 1.        , 1.        ,\n",
       "       1.        , 1.        , 1.        , 1.        , 1.        ,\n",
       "       1.        , 1.        , 0.25397535])"
      ]
     },
     "execution_count": 12,
     "metadata": {},
     "output_type": "execute_result"
    }
   ],
   "source": [
    "X_train_scaled.std(axis = 0)"
   ]
  },
  {
   "cell_type": "markdown",
   "metadata": {},
   "source": [
    "### 모델 생성, 학습"
   ]
  },
  {
   "cell_type": "code",
   "execution_count": 13,
   "metadata": {},
   "outputs": [
    {
     "data": {
      "text/plain": [
       "LinearRegression()"
      ]
     },
     "execution_count": 13,
     "metadata": {},
     "output_type": "execute_result"
    }
   ],
   "source": [
    "from sklearn.linear_model import LinearRegression\n",
    "\n",
    "lr = LinearRegression()\n",
    "lr.fit(X_train_scaled, y_train)"
   ]
  },
  {
   "cell_type": "code",
   "execution_count": 14,
   "metadata": {},
   "outputs": [
    {
     "name": "stdout",
     "output_type": "stream",
     "text": [
      "[-0.97082019  1.05714873  0.03831099 -1.8551476   2.57321942 -0.08761547\n",
      " -2.88094259  2.11224542 -1.87533131 -2.29276735  0.71817947 -3.59245482\n",
      "  2.34080361]\n",
      "(13,)\n"
     ]
    }
   ],
   "source": [
    "# weight, coef - 가중치\n",
    "print(lr.coef_)\n",
    "print(lr.coef_.shape)"
   ]
  },
  {
   "cell_type": "code",
   "execution_count": 15,
   "metadata": {},
   "outputs": [
    {
     "data": {
      "text/plain": [
       "22.44964727481494"
      ]
     },
     "execution_count": 15,
     "metadata": {},
     "output_type": "execute_result"
    }
   ],
   "source": [
    "# bias - 절편 -> 모든 feature들이 0일 때 y의 값\n",
    "lr.intercept_"
   ]
  },
  {
   "cell_type": "markdown",
   "metadata": {},
   "source": [
    "> #### Coeficient의 부호\n",
    "> - weight\n",
    ">   - 양수: Feature가 1증가할 때 y값도 weight만큼 증가\n",
    ">   - 음수: Feature가 1증가할 때 y값도 weight만큼 감소\n",
    "> - 절대값 기준으로 0에 가까울수록 y값에 영향을 주지않고 클수록(0에 멀어질수록) y값에 영향을 많이 준다"
   ]
  },
  {
   "cell_type": "markdown",
   "metadata": {},
   "source": [
    "### 평가"
   ]
  },
  {
   "cell_type": "code",
   "execution_count": 16,
   "metadata": {},
   "outputs": [
    {
     "name": "stdout",
     "output_type": "stream",
     "text": [
      "Train set\n",
      "MSE:19.326, RMSE: 4.396, MAE: 3.103, r2: 0.773\n",
      "==================================================\n",
      "Test set\n",
      "MSE:33.449, RMSE: 5.784, MAE: 3.843, r2: 0.589\n"
     ]
    }
   ],
   "source": [
    "from metrics import print_metrics_regression as pmr\n",
    "\n",
    "train_pred = lr.predict(X_train_scaled)\n",
    "test_pred = lr.predict(X_test_scaled)\n",
    "pmr(y_train, train_pred, title = 'Train set')\n",
    "print('=' * 50)\n",
    "pmr(y_test, test_pred, title = 'Test set')"
   ]
  },
  {
   "cell_type": "code",
   "execution_count": 17,
   "metadata": {},
   "outputs": [
    {
     "data": {
      "image/png": "[encoded data removed]",
      "text/plain": [
       "<Figure size 2000x700 with 1 Axes>"
      ]
     },
     "metadata": {},
     "output_type": "display_data"
    }
   ],
   "source": [
    "# 정답, 모델 예측값을 비교하는 그래프\n",
    "import matplotlib.pyplot as plt\n",
    "\n",
    "plt.figure(figsize=(20, 7))\n",
    "x = range(len(y_test))\n",
    "plt.plot(x, y_test, marker = 'x', label = '정답')\n",
    "plt.plot(x, test_pred, marker = 'o', label = '예측값')\n",
    "plt.legend()\n",
    "plt.show()"
   ]
  },
  {
   "cell_type": "markdown",
   "metadata": {},
   "source": [
    "## 다항회귀\n",
    "- 전처리 방식 중 하나로 Feature가 너무 적어 y의 값들을 다 설명하지 못해 underfitting이 된 경우 Feature를 늘려줌\n",
    "- 각 Feature들을 거듭제곱한 것과 Feature들 끼리 곱한 새로운 특성들을 추가\n",
    "    - 파라미터 가중치를 기준으로 일차식이 되어 선형모델\n",
    "    - 입력데이터(X)들을 기준으로 N차식이 되어 비선형 데이터를 추론할 수 있는 모델이 된다\n",
    "- `PolynomialFeatures` Transformer를 사용해 변환"
   ]
  },
  {
   "cell_type": "markdown",
   "metadata": {},
   "source": [
    "## 예제\n",
    "### 데이터셋 만들기"
   ]
  },
  {
   "cell_type": "code",
   "execution_count": 24,
   "metadata": {},
   "outputs": [
    {
     "name": "stdout",
     "output_type": "stream",
     "text": [
      "(100, 1) (100,)\n"
     ]
    }
   ],
   "source": [
    "import numpy as np\n",
    "import pandas as pd\n",
    "import matplotlib.pyplot as plt\n",
    "\n",
    "np.random.seed(0)\n",
    "\n",
    "def func(X):\n",
    "    return X**2 + X + 2 + np.random.normal(0, 1, size=(X.size, 1))\n",
    "\n",
    "m = 100\n",
    "X = 6 * np.random.rand(m, 1) - 3\n",
    "y = func(X)\n",
    "y = y.flatten()\n",
    "\n",
    "print(X.shape, y.shape)"
   ]
  },
  {
   "cell_type": "code",
   "execution_count": 26,
   "metadata": {},
   "outputs": [
    {
     "data": {
      "image/png": "[encoded data removed]",
      "text/plain": [
       "<Figure size 640x480 with 1 Axes>"
      ]
     },
     "metadata": {},
     "output_type": "display_data"
    }
   ],
   "source": [
    "plt.scatter(X, y)\n",
    "plt.show()"
   ]
  },
  {
   "cell_type": "markdown",
   "metadata": {},
   "source": [
    "### 모델 생성, 학습"
   ]
  },
  {
   "cell_type": "code",
   "execution_count": 27,
   "metadata": {},
   "outputs": [
    {
     "name": "stdout",
     "output_type": "stream",
     "text": [
      "MSE:7.729, RMSE: 2.780, MAE: 2.322, r2: 0.191\n"
     ]
    }
   ],
   "source": [
    "lr = LinearRegression()\n",
    "lr.fit(X, y)\n",
    "pred = lr.predict(X)\n",
    "pmr(y, pred)"
   ]
  },
  {
   "cell_type": "code",
   "execution_count": 28,
   "metadata": {},
   "outputs": [
    {
     "data": {
      "image/png": "[encoded data removed]",
      "text/plain": [
       "<Figure size 640x480 with 1 Axes>"
      ]
     },
     "metadata": {},
     "output_type": "display_data"
    }
   ],
   "source": [
    "X_new = np.linspace(-3, 3, 100).reshape(-1, 1)\n",
    "pred_new = lr.predict(X_new)\n",
    "plt.scatter(X, y)\n",
    "plt.plot(X_new, pred_new, color = 'red')\n",
    "plt.show()"
   ]
  },
  {
   "cell_type": "markdown",
   "metadata": {},
   "source": [
    "### PolynomialFeatures를 이용해 다항회귀 구현"
   ]
  },
  {
   "cell_type": "code",
   "execution_count": 30,
   "metadata": {},
   "outputs": [
    {
     "name": "stdout",
     "output_type": "stream",
     "text": [
      "(100, 1) (100, 2)\n"
     ]
    }
   ],
   "source": [
    "from sklearn.preprocessing import PolynomialFeatures\n",
    "\n",
    "pn = PolynomialFeatures(degree = 2, # 몇 제곱까지 할지\n",
    "                        include_bias = False # 상수항\n",
    "                        )\n",
    "X_poly = pn.fit_transform(X)\n",
    "print(X.shape, X_poly.shape)"
   ]
  },
  {
   "cell_type": "code",
   "execution_count": 31,
   "metadata": {},
   "outputs": [
    {
     "data": {
      "text/plain": [
       "array([[ 0.29288102,  0.08577929],\n",
       "       [ 1.2911362 ,  1.66703268],\n",
       "       [ 0.61658026,  0.38017121],\n",
       "       [ 0.2692991 ,  0.072522  ],\n",
       "       [-0.4580712 ,  0.20982923]])"
      ]
     },
     "execution_count": 31,
     "metadata": {},
     "output_type": "execute_result"
    }
   ],
   "source": [
    "X_poly[:5]"
   ]
  },
  {
   "cell_type": "code",
   "execution_count": 33,
   "metadata": {},
   "outputs": [
    {
     "data": {
      "text/plain": [
       "array(['x0', 'x0^2'], dtype=object)"
      ]
     },
     "execution_count": 33,
     "metadata": {},
     "output_type": "execute_result"
    }
   ],
   "source": [
    "pn.get_feature_names_out()"
   ]
  },
  {
   "cell_type": "markdown",
   "metadata": {},
   "source": [
    "### LinearRegression 모델을 이용해 평가"
   ]
  },
  {
   "cell_type": "code",
   "execution_count": 34,
   "metadata": {},
   "outputs": [
    {
     "data": {
      "text/plain": [
       "LinearRegression()"
      ]
     },
     "execution_count": 34,
     "metadata": {},
     "output_type": "execute_result"
    }
   ],
   "source": [
    "lr2 = LinearRegression()\n",
    "lr2.fit(X_poly, y)"
   ]
  },
  {
   "cell_type": "code",
   "execution_count": 35,
   "metadata": {},
   "outputs": [
    {
     "name": "stdout",
     "output_type": "stream",
     "text": [
      "변환후\n",
      "MSE:0.974, RMSE: 0.987, MAE: 0.828, r2: 0.898\n",
      "--------------------------------------------------\n",
      "변환전\n",
      "MSE:7.729, RMSE: 2.780, MAE: 2.322, r2: 0.191\n"
     ]
    }
   ],
   "source": [
    "# 평가\n",
    "pred2 = lr2.predict(X_poly)\n",
    "pmr(y, pred2, title = '변환후')\n",
    "print('-'*50)\n",
    "pmr(y, pred, title = '변환전')"
   ]
  },
  {
   "cell_type": "code",
   "execution_count": 36,
   "metadata": {},
   "outputs": [
    {
     "data": {
      "text/plain": [
       "array([0.97906552, 0.94978823])"
      ]
     },
     "execution_count": 36,
     "metadata": {},
     "output_type": "execute_result"
    }
   ],
   "source": [
    "lr2.coef_"
   ]
  },
  {
   "cell_type": "code",
   "execution_count": 37,
   "metadata": {},
   "outputs": [
    {
     "data": {
      "text/plain": [
       "2.340500756262887"
      ]
     },
     "execution_count": 37,
     "metadata": {},
     "output_type": "execute_result"
    }
   ],
   "source": [
    "lr2.intercept_"
   ]
  },
  {
   "cell_type": "markdown",
   "metadata": {},
   "source": [
    "### 시각화"
   ]
  },
  {
   "cell_type": "code",
   "execution_count": 38,
   "metadata": {},
   "outputs": [
    {
     "data": {
      "image/png": "[encoded data removed]",
      "text/plain": [
       "<Figure size 640x480 with 1 Axes>"
      ]
     },
     "metadata": {},
     "output_type": "display_data"
    }
   ],
   "source": [
    "X_new = np.linspace(-4, 4, 100).reshape(-1, 1)\n",
    "X_new_poly = pn.transform(X_new)\n",
    "y_new = lr2.predict(X_new_poly)\n",
    "\n",
    "plt.scatter(X, y)\n",
    "plt.plot(X_new, y_new, color = 'red')\n",
    "plt.show()"
   ]
  },
  {
   "cell_type": "markdown",
   "metadata": {},
   "source": [
    "### degree를 크게\n",
    "- Feature가 너무 많으면 Overfitting 문제가 생긴다"
   ]
  },
  {
   "cell_type": "code",
   "execution_count": 40,
   "metadata": {},
   "outputs": [
    {
     "name": "stdout",
     "output_type": "stream",
     "text": [
      "(100, 1) (100, 35)\n"
     ]
    },
    {
     "data": {
      "text/plain": [
       "array(['x0', 'x0^2', 'x0^3', 'x0^4', 'x0^5', 'x0^6', 'x0^7', 'x0^8',\n",
       "       'x0^9', 'x0^10', 'x0^11', 'x0^12', 'x0^13', 'x0^14', 'x0^15',\n",
       "       'x0^16', 'x0^17', 'x0^18', 'x0^19', 'x0^20', 'x0^21', 'x0^22',\n",
       "       'x0^23', 'x0^24', 'x0^25', 'x0^26', 'x0^27', 'x0^28', 'x0^29',\n",
       "       'x0^30', 'x0^31', 'x0^32', 'x0^33', 'x0^34', 'x0^35'], dtype=object)"
      ]
     },
     "execution_count": 40,
     "metadata": {},
     "output_type": "execute_result"
    }
   ],
   "source": [
    "pn2 = PolynomialFeatures(degree = 35, include_bias = False)\n",
    "X_poly2 = pn2.fit_transform(X)\n",
    "print(X.shape, X_poly2.shape)\n",
    "pn2.get_feature_names_out()"
   ]
  },
  {
   "cell_type": "code",
   "execution_count": 41,
   "metadata": {},
   "outputs": [
    {
     "name": "stdout",
     "output_type": "stream",
     "text": [
      "[ 5.57345938e-03  5.94848595e-03  7.54404455e-04  2.09700288e-02\n",
      "  1.70674935e-02  3.49953009e-02  2.48164361e-02  4.86055803e-02\n",
      "  3.53326916e-02  5.56055874e-02  4.22424604e-02  4.29751264e-02\n",
      "  3.51378634e-02  2.79943848e-03  5.15174742e-03 -3.97286586e-02\n",
      " -3.11664892e-02 -2.04135348e-02 -1.93835812e-02  4.57107664e-02\n",
      "  3.79240274e-02 -2.62879446e-02 -2.10181341e-02  8.07936752e-03\n",
      "  6.29389879e-03 -1.52289480e-03 -1.16018567e-03  1.82254170e-04\n",
      "  1.36025917e-04 -1.35659291e-05 -9.92940759e-06  5.74728849e-07\n",
      "  4.12811555e-07 -1.06126954e-08 -7.48394340e-09]\n",
      "2.8675275477238564\n"
     ]
    }
   ],
   "source": [
    "lr3 = LinearRegression()\n",
    "lr3.fit(X_poly2, y)\n",
    "print(lr3.coef_)\n",
    "print(lr3.intercept_)"
   ]
  },
  {
   "cell_type": "code",
   "execution_count": 42,
   "metadata": {},
   "outputs": [
    {
     "name": "stdout",
     "output_type": "stream",
     "text": [
      "MSE:1.063, RMSE: 1.031, MAE: 0.793, r2: 0.889\n"
     ]
    }
   ],
   "source": [
    "pred3 = lr3.predict(X_poly2)\n",
    "pmr(y, pred3)"
   ]
  },
  {
   "cell_type": "code",
   "execution_count": 44,
   "metadata": {},
   "outputs": [
    {
     "data": {
      "image/png": "[encoded data removed]",
      "text/plain": [
       "<Figure size 640x480 with 1 Axes>"
      ]
     },
     "metadata": {},
     "output_type": "display_data"
    }
   ],
   "source": [
    "X_new = np.linspace(-4, 4, 100).reshape(-1, 1)\n",
    "X_new_poly = pn2.transform(X_new)\n",
    "y_new = lr3.predict(X_new_poly)\n",
    "\n",
    "plt.scatter(X, y)\n",
    "plt.plot(X_new, y_new, color = 'red')\n",
    "plt.ylim(0, 15)\n",
    "plt.show()"
   ]
  },
  {
   "cell_type": "markdown",
   "metadata": {},
   "source": [
    "## PolynomialFeatures 예제"
   ]
  },
  {
   "cell_type": "code",
   "execution_count": 45,
   "metadata": {},
   "outputs": [
    {
     "name": "stdout",
     "output_type": "stream",
     "text": [
      "(4, 3)\n"
     ]
    },
    {
     "data": {
      "text/plain": [
       "array([[ 0,  1,  2],\n",
       "       [ 3,  4,  5],\n",
       "       [ 6,  7,  8],\n",
       "       [ 9, 10, 11]])"
      ]
     },
     "execution_count": 45,
     "metadata": {},
     "output_type": "execute_result"
    }
   ],
   "source": [
    "import numpy as np\n",
    "\n",
    "data = np.arange(12).reshape(4, 3)\n",
    "print(data.shape)\n",
    "data"
   ]
  },
  {
   "cell_type": "code",
   "execution_count": 46,
   "metadata": {},
   "outputs": [
    {
     "data": {
      "text/plain": [
       "(4, 10)"
      ]
     },
     "execution_count": 46,
     "metadata": {},
     "output_type": "execute_result"
    }
   ],
   "source": [
    "from sklearn.preprocessing import PolynomialFeatures\n",
    "\n",
    "pn = PolynomialFeatures(degree = 2)\n",
    "data_poly2 = pn.fit_transform(data)\n",
    "data_poly2.shape"
   ]
  },
  {
   "cell_type": "code",
   "execution_count": 47,
   "metadata": {},
   "outputs": [
    {
     "data": {
      "text/plain": [
       "array(['1', 'x0', 'x1', 'x2', 'x0^2', 'x0 x1', 'x0 x2', 'x1^2', 'x1 x2',\n",
       "       'x2^2'], dtype=object)"
      ]
     },
     "execution_count": 47,
     "metadata": {},
     "output_type": "execute_result"
    }
   ],
   "source": [
    "pn.get_feature_names_out()"
   ]
  },
  {
   "cell_type": "code",
   "execution_count": 48,
   "metadata": {},
   "outputs": [
    {
     "data": {
      "text/plain": [
       "(4, 20)"
      ]
     },
     "execution_count": 48,
     "metadata": {},
     "output_type": "execute_result"
    }
   ],
   "source": [
    "pn2 = PolynomialFeatures(degree = 3)\n",
    "data_poly3 = pn2.fit_transform(data)\n",
    "data_poly3.shape"
   ]
  },
  {
   "cell_type": "code",
   "execution_count": 50,
   "metadata": {},
   "outputs": [
    {
     "data": {
      "text/plain": [
       "array(['1', 'x0', 'x1', 'x2', 'x0^2', 'x0 x1', 'x0 x2', 'x1^2', 'x1 x2',\n",
       "       'x2^2', 'x0^3', 'x0^2 x1', 'x0^2 x2', 'x0 x1^2', 'x0 x1 x2',\n",
       "       'x0 x2^2', 'x1^3', 'x1^2 x2', 'x1 x2^2', 'x2^3'], dtype=object)"
      ]
     },
     "execution_count": 50,
     "metadata": {},
     "output_type": "execute_result"
    }
   ],
   "source": [
    "pn2.get_feature_names_out()"
   ]
  },
  {
   "cell_type": "markdown",
   "metadata": {},
   "source": [
    "### PolynomialFeatures를 Boston Dataset에 적용"
   ]
  },
  {
   "cell_type": "code",
   "execution_count": 52,
   "metadata": {},
   "outputs": [],
   "source": [
    "pn_boston = PolynomialFeatures(degree = 2, include_bias = False)\n",
    "X_train_scaled_poly = pn_boston.fit_transform(X_train_scaled)\n",
    "X_test_scaled_poly = pn_boston.transform(X_test_scaled)"
   ]
  },
  {
   "cell_type": "code",
   "execution_count": 53,
   "metadata": {},
   "outputs": [
    {
     "name": "stdout",
     "output_type": "stream",
     "text": [
      "(404, 13)\n",
      "(404, 104)\n"
     ]
    }
   ],
   "source": [
    "print(X_train_scaled.shape)\n",
    "print(X_train_scaled_poly.shape)"
   ]
  },
  {
   "cell_type": "code",
   "execution_count": 54,
   "metadata": {},
   "outputs": [
    {
     "data": {
      "text/plain": [
       "array(['x0', 'x1', 'x2', 'x3', 'x4', 'x5', 'x6', 'x7', 'x8', 'x9', 'x10',\n",
       "       'x11', 'x12', 'x0^2', 'x0 x1', 'x0 x2', 'x0 x3', 'x0 x4', 'x0 x5',\n",
       "       'x0 x6', 'x0 x7', 'x0 x8', 'x0 x9', 'x0 x10', 'x0 x11', 'x0 x12',\n",
       "       'x1^2', 'x1 x2', 'x1 x3', 'x1 x4', 'x1 x5', 'x1 x6', 'x1 x7',\n",
       "       'x1 x8', 'x1 x9', 'x1 x10', 'x1 x11', 'x1 x12', 'x2^2', 'x2 x3',\n",
       "       'x2 x4', 'x2 x5', 'x2 x6', 'x2 x7', 'x2 x8', 'x2 x9', 'x2 x10',\n",
       "       'x2 x11', 'x2 x12', 'x3^2', 'x3 x4', 'x3 x5', 'x3 x6', 'x3 x7',\n",
       "       'x3 x8', 'x3 x9', 'x3 x10', 'x3 x11', 'x3 x12', 'x4^2', 'x4 x5',\n",
       "       'x4 x6', 'x4 x7', 'x4 x8', 'x4 x9', 'x4 x10', 'x4 x11', 'x4 x12',\n",
       "       'x5^2', 'x5 x6', 'x5 x7', 'x5 x8', 'x5 x9', 'x5 x10', 'x5 x11',\n",
       "       'x5 x12', 'x6^2', 'x6 x7', 'x6 x8', 'x6 x9', 'x6 x10', 'x6 x11',\n",
       "       'x6 x12', 'x7^2', 'x7 x8', 'x7 x9', 'x7 x10', 'x7 x11', 'x7 x12',\n",
       "       'x8^2', 'x8 x9', 'x8 x10', 'x8 x11', 'x8 x12', 'x9^2', 'x9 x10',\n",
       "       'x9 x11', 'x9 x12', 'x10^2', 'x10 x11', 'x10 x12', 'x11^2',\n",
       "       'x11 x12', 'x12^2'], dtype=object)"
      ]
     },
     "execution_count": 54,
     "metadata": {},
     "output_type": "execute_result"
    }
   ],
   "source": [
    "pn_boston.get_feature_names_out()"
   ]
  },
  {
   "cell_type": "markdown",
   "metadata": {},
   "source": [
    "### 모델 생성 학습 추론 평가"
   ]
  },
  {
   "cell_type": "code",
   "execution_count": 55,
   "metadata": {},
   "outputs": [
    {
     "data": {
      "text/plain": [
       "LinearRegression()"
      ]
     },
     "execution_count": 55,
     "metadata": {},
     "output_type": "execute_result"
    }
   ],
   "source": [
    "from sklearn.linear_model import LinearRegression\n",
    "\n",
    "lr = LinearRegression()\n",
    "lr.fit(X_train_scaled_poly, y_train)"
   ]
  },
  {
   "cell_type": "code",
   "execution_count": 57,
   "metadata": {},
   "outputs": [
    {
     "name": "stdout",
     "output_type": "stream",
     "text": [
      "Train set\n",
      "MSE:4.340, RMSE: 2.083, MAE: 1.617, r2: 0.949\n",
      "==================================================\n",
      "Test set\n",
      "MSE:31.278, RMSE: 5.593, MAE: 3.328, r2: 0.616\n"
     ]
    }
   ],
   "source": [
    "from metrics import print_metrics_regression as pmr\n",
    "\n",
    "train_pred = lr.predict(X_train_scaled_poly)\n",
    "test_pred = lr.predict(X_test_scaled_poly)\n",
    "\n",
    "pmr(y_train, train_pred, 'Train set')\n",
    "print('='*50)\n",
    "pmr(y_test, test_pred, 'Test set')"
   ]
  },
  {
   "cell_type": "markdown",
   "metadata": {},
   "source": [
    "## 규제(Regularization)\n",
    "- 선형 회귀 모델에서 과대적합 문데를 해결하기 위해 가중치에 페널티 값을 적용\n",
    "- 입력 데이터의 Feature들이 너무 많은 경우 Overfitting 발생\n",
    "    - Feature수에 비해 관측치 수가 적은 경우 모델이 복잡해져 Overfitting 발생\n",
    "- 해결\n",
    "    - 데이터를 더 수집\n",
    "    - Feature selection\n",
    "        - 불필요한 Feature들을 제거\n",
    "    - 규제를 통해 Feature들에 곱해지는 가중치가 커지지 않도록 제한(0에 가까운 값으로 만든다)\n",
    "        - LinearRegression의 규제는 학습시 계산하는 오차를 키워 모델이 오차를 줄이기 위해 가중치를 0에 가까운 값으로 만들도록 하는 방식을 사용\n",
    "        - L1 규제(Lasso)\n",
    "        - L2 규제(Ridge)"
   ]
  },
  {
   "cell_type": "markdown",
   "metadata": {},
   "source": [
    "## Ridge Regression (L2 규제)\n",
    "- 손실함수(loss function)에 규제항으로 $\\alpha \\sum_{i=1}^{n}{w_{i}^{2}}$ (L2 Norm)를 더함\n",
    "- $\\alpha$는 하이퍼파라미터로 모델을 얼마나 많이 규제할지 조절 \n",
    "    - $\\alpha = 0$ 에 가까울수록 규제가 약해짐 (0일 경우 선형 회귀동일)\n",
    "    - $\\alpha$ 가 커질 수록 모든 가중치가 작아져 입력데이터의 Feature들 중 중요하지 않은 Feature의 예측에 대한 영향력이 작아짐\n",
    "\n",
    "$$\n",
    "\\text{손실함수}(w) = \\text{MSE}(w) + \\alpha \\cfrac{1}{2}\\sum_{i=1}^{n}{w_{i}^{2}}\n",
    "$$\n",
    "\n",
    "> **손실함수(Loss Function):** 모델의 예측한 값과 실제값 사이의 차이를 정의하는 함수로 모델이 학습할 때 사용"
   ]
  },
  {
   "cell_type": "code",
   "execution_count": 60,
   "metadata": {},
   "outputs": [
    {
     "name": "stdout",
     "output_type": "stream",
     "text": [
      "alpha : 1\n",
      "MSE:19.328, RMSE: 4.396, MAE: 3.100, r2: 0.773\n",
      "--------------------------------------------------\n",
      "MSE:33.554, RMSE: 5.793, MAE: 3.843, r2: 0.588\n"
     ]
    }
   ],
   "source": [
    "from sklearn.linear_model import Ridge, Lasso, ElasticNet\n",
    "\n",
    "ridge = Ridge(random_state = 0)\n",
    "ridge.fit(X_train_scaled, y_train)\n",
    "train_pred = ridge.predict(X_train_scaled)\n",
    "test_pred = ridge.predict(X_test_scaled)\n",
    "print('alpha : 1')\n",
    "pmr(y_train, train_pred)\n",
    "print('-'*50)\n",
    "pmr(y_test, test_pred)"
   ]
  },
  {
   "cell_type": "code",
   "execution_count": 61,
   "metadata": {},
   "outputs": [
    {
     "name": "stdout",
     "output_type": "stream",
     "text": [
      "alpha: 10\n",
      "MSE:19.430, RMSE: 4.408, MAE: 3.085, r2: 0.772\n",
      "--------------------------------------------------\n",
      "MSE:34.416, RMSE: 5.866, MAE: 3.845, r2: 0.577\n"
     ]
    }
   ],
   "source": [
    "ridge = Ridge(random_state = 0, alpha = 10)\n",
    "ridge.fit(X_train_scaled, y_train)\n",
    "train_pred = ridge.predict(X_train_scaled)\n",
    "test_pred = ridge.predict(X_test_scaled)\n",
    "print('alpha: 10')\n",
    "pmr(y_train, train_pred)\n",
    "print('-'*50)\n",
    "pmr(y_test, test_pred)"
   ]
  },
  {
   "cell_type": "code",
   "execution_count": 63,
   "metadata": {},
   "outputs": [
    {
     "name": "stdout",
     "output_type": "stream",
     "text": [
      "alpha : 100\n",
      "MSE:21.415, RMSE: 4.628, MAE: 3.168, r2: 0.748\n",
      "--------------------------------------------------\n",
      "MSE:39.153, RMSE: 6.257, MAE: 4.044, r2: 0.519\n"
     ]
    }
   ],
   "source": [
    "ridge = Ridge(random_state = 0, alpha = 100)\n",
    "ridge.fit(X_train_scaled, y_train)\n",
    "train_pred = ridge.predict(X_train_scaled)\n",
    "test_pred = ridge.predict(X_test_scaled)\n",
    "print('alpha : 100')\n",
    "pmr(y_train, train_pred)\n",
    "print('-'*50)\n",
    "pmr(y_test, test_pred)"
   ]
  },
  {
   "cell_type": "markdown",
   "metadata": {},
   "source": [
    "### 규제 alpha에 따른 weight 변화"
   ]
  },
  {
   "cell_type": "code",
   "execution_count": 64,
   "metadata": {},
   "outputs": [
    {
     "data": {
      "text/plain": [
       "array([-0.73049106,  0.5944545 , -0.45573068, -0.69533735,  2.67930937,\n",
       "       -0.24625357, -1.42087383,  0.35563255, -0.64644707, -1.88489902,\n",
       "        0.72773595, -2.72328184,  0.65839526])"
      ]
     },
     "execution_count": 64,
     "metadata": {},
     "output_type": "execute_result"
    }
   ],
   "source": [
    "ridge.coef_"
   ]
  },
  {
   "cell_type": "code",
   "execution_count": 65,
   "metadata": {},
   "outputs": [],
   "source": [
    "alpha_list = [0.001, 0.01, 1, 10, 100, 500, 1000]\n",
    "coef_df = pd.DataFrame()\n",
    "for idx, alpha in enumerate(alpha_list, start = 1):\n",
    "    ridge = Ridge(alpha = alpha, random_state = 0)\n",
    "    ridge.fit(X_train_scaled, y_train)\n",
    "    \n",
    "    coef_s = pd.Series(ridge.coef_)\n",
    "    coef_df[f'alpha:{alpha}'] = coef_s"
   ]
  },
  {
   "cell_type": "code",
   "execution_count": 66,
   "metadata": {},
   "outputs": [
    {
     "data": {
      "text/html": [
       "<div>\n",
       "<style scoped>\n",
       "    .dataframe tbody tr th:only-of-type {\n",
       "        vertical-align: middle;\n",
       "    }\n",
       "\n",
       "    .dataframe tbody tr th {\n",
       "        vertical-align: top;\n",
       "    }\n",
       "\n",
       "    .dataframe thead th {\n",
       "        text-align: right;\n",
       "    }\n",
       "</style>\n",
       "<table border=\"1\" class=\"dataframe\">\n",
       "  <thead>\n",
       "    <tr style=\"text-align: right;\">\n",
       "      <th></th>\n",
       "      <th>alpha:0.001</th>\n",
       "      <th>alpha:0.01</th>\n",
       "      <th>alpha:1</th>\n",
       "      <th>alpha:10</th>\n",
       "      <th>alpha:100</th>\n",
       "      <th>alpha:500</th>\n",
       "      <th>alpha:1000</th>\n",
       "    </tr>\n",
       "  </thead>\n",
       "  <tbody>\n",
       "    <tr>\n",
       "      <th>0</th>\n",
       "      <td>-0.970813</td>\n",
       "      <td>-0.970750</td>\n",
       "      <td>-0.963941</td>\n",
       "      <td>-0.913628</td>\n",
       "      <td>-0.730491</td>\n",
       "      <td>-0.553225</td>\n",
       "      <td>-0.458642</td>\n",
       "    </tr>\n",
       "    <tr>\n",
       "      <th>1</th>\n",
       "      <td>1.057132</td>\n",
       "      <td>1.056982</td>\n",
       "      <td>1.040912</td>\n",
       "      <td>0.925262</td>\n",
       "      <td>0.594454</td>\n",
       "      <td>0.470234</td>\n",
       "      <td>0.413468</td>\n",
       "    </tr>\n",
       "    <tr>\n",
       "      <th>2</th>\n",
       "      <td>0.038287</td>\n",
       "      <td>0.038073</td>\n",
       "      <td>0.015328</td>\n",
       "      <td>-0.134694</td>\n",
       "      <td>-0.455731</td>\n",
       "      <td>-0.540009</td>\n",
       "      <td>-0.500884</td>\n",
       "    </tr>\n",
       "    <tr>\n",
       "      <th>3</th>\n",
       "      <td>-1.855113</td>\n",
       "      <td>-1.854797</td>\n",
       "      <td>-1.820796</td>\n",
       "      <td>-1.563287</td>\n",
       "      <td>-0.695337</td>\n",
       "      <td>-0.398986</td>\n",
       "      <td>-0.371470</td>\n",
       "    </tr>\n",
       "    <tr>\n",
       "      <th>4</th>\n",
       "      <td>2.573232</td>\n",
       "      <td>2.573346</td>\n",
       "      <td>2.585455</td>\n",
       "      <td>2.667242</td>\n",
       "      <td>2.679309</td>\n",
       "      <td>1.832447</td>\n",
       "      <td>1.304384</td>\n",
       "    </tr>\n",
       "    <tr>\n",
       "      <th>5</th>\n",
       "      <td>-0.087622</td>\n",
       "      <td>-0.087683</td>\n",
       "      <td>-0.094179</td>\n",
       "      <td>-0.139421</td>\n",
       "      <td>-0.246254</td>\n",
       "      <td>-0.307986</td>\n",
       "      <td>-0.317122</td>\n",
       "    </tr>\n",
       "    <tr>\n",
       "      <th>6</th>\n",
       "      <td>-2.880911</td>\n",
       "      <td>-2.880627</td>\n",
       "      <td>-2.849766</td>\n",
       "      <td>-2.599335</td>\n",
       "      <td>-1.420874</td>\n",
       "      <td>-0.373000</td>\n",
       "      <td>-0.085435</td>\n",
       "    </tr>\n",
       "    <tr>\n",
       "      <th>7</th>\n",
       "      <td>2.112174</td>\n",
       "      <td>2.111532</td>\n",
       "      <td>2.043179</td>\n",
       "      <td>1.574239</td>\n",
       "      <td>0.355633</td>\n",
       "      <td>-0.205155</td>\n",
       "      <td>-0.289031</td>\n",
       "    </tr>\n",
       "    <tr>\n",
       "      <th>8</th>\n",
       "      <td>-1.875267</td>\n",
       "      <td>-1.874687</td>\n",
       "      <td>-1.813213</td>\n",
       "      <td>-1.411243</td>\n",
       "      <td>-0.646447</td>\n",
       "      <td>-0.528550</td>\n",
       "      <td>-0.482927</td>\n",
       "    </tr>\n",
       "    <tr>\n",
       "      <th>9</th>\n",
       "      <td>-2.292760</td>\n",
       "      <td>-2.292695</td>\n",
       "      <td>-2.285645</td>\n",
       "      <td>-2.227769</td>\n",
       "      <td>-1.884899</td>\n",
       "      <td>-1.257527</td>\n",
       "      <td>-0.921966</td>\n",
       "    </tr>\n",
       "    <tr>\n",
       "      <th>10</th>\n",
       "      <td>0.718182</td>\n",
       "      <td>0.718201</td>\n",
       "      <td>0.720303</td>\n",
       "      <td>0.734618</td>\n",
       "      <td>0.727736</td>\n",
       "      <td>0.550035</td>\n",
       "      <td>0.436310</td>\n",
       "    </tr>\n",
       "    <tr>\n",
       "      <th>11</th>\n",
       "      <td>-3.592439</td>\n",
       "      <td>-3.592293</td>\n",
       "      <td>-3.576511</td>\n",
       "      <td>-3.447747</td>\n",
       "      <td>-2.723282</td>\n",
       "      <td>-1.666148</td>\n",
       "      <td>-1.200447</td>\n",
       "    </tr>\n",
       "    <tr>\n",
       "      <th>12</th>\n",
       "      <td>2.340732</td>\n",
       "      <td>2.340086</td>\n",
       "      <td>2.271298</td>\n",
       "      <td>1.800857</td>\n",
       "      <td>0.658395</td>\n",
       "      <td>0.219213</td>\n",
       "      <td>0.127925</td>\n",
       "    </tr>\n",
       "  </tbody>\n",
       "</table>\n",
       "</div>"
      ],
      "text/plain": [
       "    alpha:0.001  alpha:0.01   alpha:1  alpha:10  alpha:100  alpha:500  \\\n",
       "0     -0.970813   -0.970750 -0.963941 -0.913628  -0.730491  -0.553225   \n",
       "1      1.057132    1.056982  1.040912  0.925262   0.594454   0.470234   \n",
       "2      0.038287    0.038073  0.015328 -0.134694  -0.455731  -0.540009   \n",
       "3     -1.855113   -1.854797 -1.820796 -1.563287  -0.695337  -0.398986   \n",
       "4      2.573232    2.573346  2.585455  2.667242   2.679309   1.832447   \n",
       "5     -0.087622   -0.087683 -0.094179 -0.139421  -0.246254  -0.307986   \n",
       "6     -2.880911   -2.880627 -2.849766 -2.599335  -1.420874  -0.373000   \n",
       "7      2.112174    2.111532  2.043179  1.574239   0.355633  -0.205155   \n",
       "8     -1.875267   -1.874687 -1.813213 -1.411243  -0.646447  -0.528550   \n",
       "9     -2.292760   -2.292695 -2.285645 -2.227769  -1.884899  -1.257527   \n",
       "10     0.718182    0.718201  0.720303  0.734618   0.727736   0.550035   \n",
       "11    -3.592439   -3.592293 -3.576511 -3.447747  -2.723282  -1.666148   \n",
       "12     2.340732    2.340086  2.271298  1.800857   0.658395   0.219213   \n",
       "\n",
       "    alpha:1000  \n",
       "0    -0.458642  \n",
       "1     0.413468  \n",
       "2    -0.500884  \n",
       "3    -0.371470  \n",
       "4     1.304384  \n",
       "5    -0.317122  \n",
       "6    -0.085435  \n",
       "7    -0.289031  \n",
       "8    -0.482927  \n",
       "9    -0.921966  \n",
       "10    0.436310  \n",
       "11   -1.200447  \n",
       "12    0.127925  "
      ]
     },
     "execution_count": 66,
     "metadata": {},
     "output_type": "execute_result"
    }
   ],
   "source": [
    "coef_df"
   ]
  },
  {
   "cell_type": "markdown",
   "metadata": {},
   "source": [
    "## Lasso Regression(L1 규제)\n",
    "- 손실함수에 규제항으로 $\\alpha \\sum_{i=1}^{n}{\\left| w_i \\right|}$ (L1 Norm)더함\n",
    "- Lasso 회귀의 상대적으로 덜 중요한 특성의 가중치를 0으로 만들어 자동으로 Feature Selection이 됨\n",
    "\n",
    "$$\n",
    "\\text{손실함수}(w) = \\text{MSE}(w) + \\alpha \\sum_{i=1}^{n}{\\left| w_i \\right|}\n",
    "$$"
   ]
  },
  {
   "cell_type": "code",
   "execution_count": 68,
   "metadata": {},
   "outputs": [],
   "source": [
    "alpha_list = [0.001, 0.01, 0.1, 1, 5, 10]\n",
    "coef_df2 = pd.DataFrame()\n",
    "for alpha in alpha_list:\n",
    "    lasso = Lasso(alpha = alpha, random_state = 0)\n",
    "    lasso.fit(X_train_scaled, y_train)\n",
    "    \n",
    "    coef_df2[f'alpha:{alpha}'] = lasso.coef_"
   ]
  },
  {
   "cell_type": "code",
   "execution_count": 69,
   "metadata": {},
   "outputs": [
    {
     "data": {
      "text/html": [
       "<div>\n",
       "<style scoped>\n",
       "    .dataframe tbody tr th:only-of-type {\n",
       "        vertical-align: middle;\n",
       "    }\n",
       "\n",
       "    .dataframe tbody tr th {\n",
       "        vertical-align: top;\n",
       "    }\n",
       "\n",
       "    .dataframe thead th {\n",
       "        text-align: right;\n",
       "    }\n",
       "</style>\n",
       "<table border=\"1\" class=\"dataframe\">\n",
       "  <thead>\n",
       "    <tr style=\"text-align: right;\">\n",
       "      <th></th>\n",
       "      <th>alpha:0.001</th>\n",
       "      <th>alpha:0.01</th>\n",
       "      <th>alpha:0.1</th>\n",
       "      <th>alpha:1</th>\n",
       "      <th>alpha:5</th>\n",
       "      <th>alpha:10</th>\n",
       "    </tr>\n",
       "  </thead>\n",
       "  <tbody>\n",
       "    <tr>\n",
       "      <th>0</th>\n",
       "      <td>-0.968120</td>\n",
       "      <td>-0.943088</td>\n",
       "      <td>-0.688115</td>\n",
       "      <td>-0.000000</td>\n",
       "      <td>-0.000000</td>\n",
       "      <td>-0.0</td>\n",
       "    </tr>\n",
       "    <tr>\n",
       "      <th>1</th>\n",
       "      <td>1.053243</td>\n",
       "      <td>1.021554</td>\n",
       "      <td>0.700532</td>\n",
       "      <td>0.000000</td>\n",
       "      <td>0.000000</td>\n",
       "      <td>0.0</td>\n",
       "    </tr>\n",
       "    <tr>\n",
       "      <th>2</th>\n",
       "      <td>0.029105</td>\n",
       "      <td>-0.000000</td>\n",
       "      <td>-0.077649</td>\n",
       "      <td>-0.000000</td>\n",
       "      <td>-0.000000</td>\n",
       "      <td>-0.0</td>\n",
       "    </tr>\n",
       "    <tr>\n",
       "      <th>3</th>\n",
       "      <td>-1.848308</td>\n",
       "      <td>-1.803915</td>\n",
       "      <td>-1.363690</td>\n",
       "      <td>-0.000000</td>\n",
       "      <td>-0.000000</td>\n",
       "      <td>-0.0</td>\n",
       "    </tr>\n",
       "    <tr>\n",
       "      <th>4</th>\n",
       "      <td>2.574250</td>\n",
       "      <td>2.587199</td>\n",
       "      <td>2.748663</td>\n",
       "      <td>2.540098</td>\n",
       "      <td>0.458712</td>\n",
       "      <td>0.0</td>\n",
       "    </tr>\n",
       "    <tr>\n",
       "      <th>5</th>\n",
       "      <td>-0.085672</td>\n",
       "      <td>-0.067933</td>\n",
       "      <td>-0.000000</td>\n",
       "      <td>-0.000000</td>\n",
       "      <td>-0.000000</td>\n",
       "      <td>-0.0</td>\n",
       "    </tr>\n",
       "    <tr>\n",
       "      <th>6</th>\n",
       "      <td>-2.875215</td>\n",
       "      <td>-2.812970</td>\n",
       "      <td>-2.166935</td>\n",
       "      <td>-0.000000</td>\n",
       "      <td>0.000000</td>\n",
       "      <td>0.0</td>\n",
       "    </tr>\n",
       "    <tr>\n",
       "      <th>7</th>\n",
       "      <td>2.094988</td>\n",
       "      <td>1.965025</td>\n",
       "      <td>0.741474</td>\n",
       "      <td>-0.000000</td>\n",
       "      <td>-0.000000</td>\n",
       "      <td>-0.0</td>\n",
       "    </tr>\n",
       "    <tr>\n",
       "      <th>8</th>\n",
       "      <td>-1.858605</td>\n",
       "      <td>-1.745788</td>\n",
       "      <td>-0.763099</td>\n",
       "      <td>-0.171527</td>\n",
       "      <td>-0.000000</td>\n",
       "      <td>-0.0</td>\n",
       "    </tr>\n",
       "    <tr>\n",
       "      <th>9</th>\n",
       "      <td>-2.291054</td>\n",
       "      <td>-2.281845</td>\n",
       "      <td>-2.206804</td>\n",
       "      <td>-1.784796</td>\n",
       "      <td>-0.000000</td>\n",
       "      <td>-0.0</td>\n",
       "    </tr>\n",
       "    <tr>\n",
       "      <th>10</th>\n",
       "      <td>0.717081</td>\n",
       "      <td>0.708242</td>\n",
       "      <td>0.632133</td>\n",
       "      <td>0.110959</td>\n",
       "      <td>0.000000</td>\n",
       "      <td>0.0</td>\n",
       "    </tr>\n",
       "    <tr>\n",
       "      <th>11</th>\n",
       "      <td>-3.592605</td>\n",
       "      <td>-3.596720</td>\n",
       "      <td>-3.616856</td>\n",
       "      <td>-3.585325</td>\n",
       "      <td>-1.688331</td>\n",
       "      <td>-0.0</td>\n",
       "    </tr>\n",
       "    <tr>\n",
       "      <th>12</th>\n",
       "      <td>2.329756</td>\n",
       "      <td>2.220402</td>\n",
       "      <td>1.094486</td>\n",
       "      <td>0.000000</td>\n",
       "      <td>0.000000</td>\n",
       "      <td>0.0</td>\n",
       "    </tr>\n",
       "  </tbody>\n",
       "</table>\n",
       "</div>"
      ],
      "text/plain": [
       "    alpha:0.001  alpha:0.01  alpha:0.1   alpha:1   alpha:5  alpha:10\n",
       "0     -0.968120   -0.943088  -0.688115 -0.000000 -0.000000      -0.0\n",
       "1      1.053243    1.021554   0.700532  0.000000  0.000000       0.0\n",
       "2      0.029105   -0.000000  -0.077649 -0.000000 -0.000000      -0.0\n",
       "3     -1.848308   -1.803915  -1.363690 -0.000000 -0.000000      -0.0\n",
       "4      2.574250    2.587199   2.748663  2.540098  0.458712       0.0\n",
       "5     -0.085672   -0.067933  -0.000000 -0.000000 -0.000000      -0.0\n",
       "6     -2.875215   -2.812970  -2.166935 -0.000000  0.000000       0.0\n",
       "7      2.094988    1.965025   0.741474 -0.000000 -0.000000      -0.0\n",
       "8     -1.858605   -1.745788  -0.763099 -0.171527 -0.000000      -0.0\n",
       "9     -2.291054   -2.281845  -2.206804 -1.784796 -0.000000      -0.0\n",
       "10     0.717081    0.708242   0.632133  0.110959  0.000000       0.0\n",
       "11    -3.592605   -3.596720  -3.616856 -3.585325 -1.688331      -0.0\n",
       "12     2.329756    2.220402   1.094486  0.000000  0.000000       0.0"
      ]
     },
     "execution_count": 69,
     "metadata": {},
     "output_type": "execute_result"
    }
   ],
   "source": [
    "coef_df2"
   ]
  },
  {
   "cell_type": "markdown",
   "metadata": {},
   "source": [
    "## PolynormialFeatures로 전처한 Boston Dataset에 Ridge, Lasso 규제 적용"
   ]
  },
  {
   "cell_type": "code",
   "execution_count": 70,
   "metadata": {},
   "outputs": [
    {
     "data": {
      "text/plain": [
       "(404, 104)"
      ]
     },
     "execution_count": 70,
     "metadata": {},
     "output_type": "execute_result"
    }
   ],
   "source": [
    "X_train_scaled_poly.shape"
   ]
  },
  {
   "cell_type": "markdown",
   "metadata": {},
   "source": [
    "### LinearRegression으로 평가"
   ]
  },
  {
   "cell_type": "code",
   "execution_count": 71,
   "metadata": {},
   "outputs": [
    {
     "name": "stdout",
     "output_type": "stream",
     "text": [
      "Train set\n",
      "MSE:4.340, RMSE: 2.083, MAE: 1.617, r2: 0.949\n",
      "--------------------------------------------------\n",
      "Test set\n",
      "MSE:31.278, RMSE: 5.593, MAE: 3.328, r2: 0.616\n"
     ]
    }
   ],
   "source": [
    "lr = LinearRegression()\n",
    "lr.fit(X_train_scaled_poly, y_train)\n",
    "train_pred = lr.predict(X_train_scaled_poly)\n",
    "test_pred = lr.predict(X_test_scaled_poly)\n",
    "\n",
    "pmr(y_train, train_pred, 'Train set')\n",
    "print('-'*50)\n",
    "pmr(y_test, test_pred, 'Test set')"
   ]
  },
  {
   "cell_type": "markdown",
   "metadata": {},
   "source": [
    "### Ridge의 alpha값 변화에 따른 R square 확인"
   ]
  },
  {
   "cell_type": "code",
   "execution_count": 72,
   "metadata": {},
   "outputs": [
    {
     "name": "stdout",
     "output_type": "stream",
     "text": [
      "----------------alpha: 0.001----------------\n",
      "MSE:4.346, RMSE: 2.085, MAE: 1.618, r2: 0.949\n",
      "MSE:30.982, RMSE: 5.566, MAE: 3.316, r2: 0.620\n",
      "----------------alpha: 0.01----------------\n",
      "MSE:4.365, RMSE: 2.089, MAE: 1.622, r2: 0.949\n",
      "MSE:30.209, RMSE: 5.496, MAE: 3.292, r2: 0.629\n",
      "----------------alpha: 1----------------\n",
      "MSE:4.785, RMSE: 2.187, MAE: 1.674, r2: 0.944\n",
      "MSE:19.273, RMSE: 4.390, MAE: 3.004, r2: 0.763\n",
      "----------------alpha: 10----------------\n",
      "MSE:5.738, RMSE: 2.395, MAE: 1.775, r2: 0.933\n",
      "MSE:19.074, RMSE: 4.367, MAE: 2.880, r2: 0.766\n",
      "----------------alpha: 100----------------\n",
      "MSE:8.970, RMSE: 2.995, MAE: 2.070, r2: 0.895\n",
      "MSE:23.437, RMSE: 4.841, MAE: 2.929, r2: 0.712\n",
      "----------------alpha: 500----------------\n",
      "MSE:16.921, RMSE: 4.113, MAE: 2.765, r2: 0.801\n",
      "MSE:32.884, RMSE: 5.734, MAE: 3.641, r2: 0.596\n",
      "----------------alpha: 1000----------------\n",
      "MSE:22.867, RMSE: 4.782, MAE: 3.293, r2: 0.731\n",
      "MSE:38.877, RMSE: 6.235, MAE: 4.106, r2: 0.523\n"
     ]
    }
   ],
   "source": [
    "from sklearn.metrics import r2_score\n",
    "\n",
    "alpha_list = [0.001, 0.01, 1, 10, 100, 500, 1000]\n",
    "train_r2_list = []\n",
    "test_r2_list = []\n",
    "\n",
    "for alpha in alpha_list:\n",
    "    ridge = Ridge(alpha = alpha, random_state = 0)\n",
    "    ridge.fit(X_train_scaled_poly, y_train)\n",
    "    train_pred = ridge.predict(X_train_scaled_poly)\n",
    "    test_pred = ridge.predict(X_test_scaled_poly)\n",
    "    \n",
    "    print(f'----------------alpha: {alpha}----------------')\n",
    "    \n",
    "    pmr(y_train, train_pred)\n",
    "    pmr(y_test, test_pred)\n",
    "    train_r2_list.append(r2_score(y_train, train_pred))\n",
    "    test_r2_list.append(r2_score(y_test, test_pred))"
   ]
  },
  {
   "cell_type": "code",
   "execution_count": 73,
   "metadata": {},
   "outputs": [
    {
     "data": {
      "text/html": [
       "<div>\n",
       "<style scoped>\n",
       "    .dataframe tbody tr th:only-of-type {\n",
       "        vertical-align: middle;\n",
       "    }\n",
       "\n",
       "    .dataframe tbody tr th {\n",
       "        vertical-align: top;\n",
       "    }\n",
       "\n",
       "    .dataframe thead th {\n",
       "        text-align: right;\n",
       "    }\n",
       "</style>\n",
       "<table border=\"1\" class=\"dataframe\">\n",
       "  <thead>\n",
       "    <tr style=\"text-align: right;\">\n",
       "      <th></th>\n",
       "      <th>train</th>\n",
       "      <th>test</th>\n",
       "    </tr>\n",
       "  </thead>\n",
       "  <tbody>\n",
       "    <tr>\n",
       "      <th>0.001</th>\n",
       "      <td>0.948953</td>\n",
       "      <td>0.619516</td>\n",
       "    </tr>\n",
       "    <tr>\n",
       "      <th>0.010</th>\n",
       "      <td>0.948736</td>\n",
       "      <td>0.629007</td>\n",
       "    </tr>\n",
       "    <tr>\n",
       "      <th>1.000</th>\n",
       "      <td>0.943805</td>\n",
       "      <td>0.763316</td>\n",
       "    </tr>\n",
       "    <tr>\n",
       "      <th>10.000</th>\n",
       "      <td>0.932608</td>\n",
       "      <td>0.765755</td>\n",
       "    </tr>\n",
       "    <tr>\n",
       "      <th>100.000</th>\n",
       "      <td>0.894646</td>\n",
       "      <td>0.712174</td>\n",
       "    </tr>\n",
       "    <tr>\n",
       "      <th>500.000</th>\n",
       "      <td>0.801270</td>\n",
       "      <td>0.596159</td>\n",
       "    </tr>\n",
       "    <tr>\n",
       "      <th>1000.000</th>\n",
       "      <td>0.731429</td>\n",
       "      <td>0.522564</td>\n",
       "    </tr>\n",
       "  </tbody>\n",
       "</table>\n",
       "</div>"
      ],
      "text/plain": [
       "             train      test\n",
       "0.001     0.948953  0.619516\n",
       "0.010     0.948736  0.629007\n",
       "1.000     0.943805  0.763316\n",
       "10.000    0.932608  0.765755\n",
       "100.000   0.894646  0.712174\n",
       "500.000   0.801270  0.596159\n",
       "1000.000  0.731429  0.522564"
      ]
     },
     "execution_count": 73,
     "metadata": {},
     "output_type": "execute_result"
    }
   ],
   "source": [
    "result = pd.DataFrame({'train' : train_r2_list, 'test' : test_r2_list},\n",
    "                      index = alpha_list\n",
    "                      )\n",
    "result"
   ]
  },
  {
   "cell_type": "code",
   "execution_count": 74,
   "metadata": {},
   "outputs": [
    {
     "data": {
      "image/png": "[encoded data removed]",
      "text/plain": [
       "<Figure size 640x480 with 1 Axes>"
      ]
     },
     "metadata": {},
     "output_type": "display_data"
    }
   ],
   "source": [
    "plt.plot(np.log(result.index), result.train, label = 'train')\n",
    "plt.plot(np.log(result.index), result.test, label = 'test')\n",
    "plt.legend()\n",
    "plt.show()"
   ]
  },
  {
   "cell_type": "markdown",
   "metadata": {},
   "source": [
    "### Lasso의 alpha값 변화에 따른 R square 확인"
   ]
  },
  {
   "cell_type": "code",
   "execution_count": 79,
   "metadata": {},
   "outputs": [
    {
     "name": "stdout",
     "output_type": "stream",
     "text": [
      "----------------alpha: 0.001----------------\n",
      "MSE:4.460, RMSE: 2.112, MAE: 1.636, r2: 0.948\n",
      "MSE:27.735, RMSE: 5.266, MAE: 3.199, r2: 0.659\n",
      "----------------alpha: 0.01----------------\n",
      "MSE:5.150, RMSE: 2.269, MAE: 1.722, r2: 0.940\n",
      "MSE:19.058, RMSE: 4.366, MAE: 2.961, r2: 0.766\n",
      "----------------alpha: 0.1----------------\n",
      "MSE:8.302, RMSE: 2.881, MAE: 2.078, r2: 0.902\n",
      "MSE:22.393, RMSE: 4.732, MAE: 2.827, r2: 0.725\n",
      "----------------alpha: 1----------------\n",
      "MSE:17.228, RMSE: 4.151, MAE: 2.876, r2: 0.798\n",
      "MSE:28.936, RMSE: 5.379, MAE: 3.394, r2: 0.645\n",
      "----------------alpha: 5----------------\n",
      "MSE:54.732, RMSE: 7.398, MAE: 5.382, r2: 0.357\n",
      "MSE:55.210, RMSE: 7.430, MAE: 5.009, r2: 0.322\n",
      "----------------alpha: 10----------------\n",
      "MSE:84.427, RMSE: 9.188, MAE: 6.742, r2: 0.008\n",
      "MSE:80.566, RMSE: 8.976, MAE: 6.212, r2: 0.011\n"
     ]
    }
   ],
   "source": [
    "alpha_list = [0.001, 0.01, 0.1, 1, 5, 10]\n",
    "\n",
    "train_r2_list_lasso = []\n",
    "test_r2_list_lasso = []\n",
    "\n",
    "for alpha in alpha_list:\n",
    "    lasso = Lasso(alpha = alpha, random_state = 0)\n",
    "    lasso.fit(X_train_scaled_poly, y_train)\n",
    "    \n",
    "    train_pred2 = lasso.predict(X_train_scaled_poly)\n",
    "    test_pred2 = lasso.predict(X_test_scaled_poly)\n",
    "    \n",
    "    print(f'----------------alpha: {alpha}----------------')\n",
    "    pmr(y_train, train_pred2)\n",
    "    pmr(y_test, test_pred2)\n",
    "    \n",
    "    train_r2_list_lasso.append(r2_score(y_train, train_pred2))\n",
    "    test_r2_list_lasso.append(r2_score(y_test, test_pred2))"
   ]
  },
  {
   "cell_type": "code",
   "execution_count": 80,
   "metadata": {},
   "outputs": [
    {
     "data": {
      "text/html": [
       "<div>\n",
       "<style scoped>\n",
       "    .dataframe tbody tr th:only-of-type {\n",
       "        vertical-align: middle;\n",
       "    }\n",
       "\n",
       "    .dataframe tbody tr th {\n",
       "        vertical-align: top;\n",
       "    }\n",
       "\n",
       "    .dataframe thead th {\n",
       "        text-align: right;\n",
       "    }\n",
       "</style>\n",
       "<table border=\"1\" class=\"dataframe\">\n",
       "  <thead>\n",
       "    <tr style=\"text-align: right;\">\n",
       "      <th></th>\n",
       "      <th>train</th>\n",
       "      <th>test</th>\n",
       "    </tr>\n",
       "  </thead>\n",
       "  <tbody>\n",
       "    <tr>\n",
       "      <th>0.001</th>\n",
       "      <td>0.947619</td>\n",
       "      <td>0.659395</td>\n",
       "    </tr>\n",
       "    <tr>\n",
       "      <th>0.010</th>\n",
       "      <td>0.939512</td>\n",
       "      <td>0.765954</td>\n",
       "    </tr>\n",
       "    <tr>\n",
       "      <th>0.100</th>\n",
       "      <td>0.902491</td>\n",
       "      <td>0.724998</td>\n",
       "    </tr>\n",
       "    <tr>\n",
       "      <th>1.000</th>\n",
       "      <td>0.797664</td>\n",
       "      <td>0.644639</td>\n",
       "    </tr>\n",
       "    <tr>\n",
       "      <th>5.000</th>\n",
       "      <td>0.357183</td>\n",
       "      <td>0.321981</td>\n",
       "    </tr>\n",
       "    <tr>\n",
       "      <th>10.000</th>\n",
       "      <td>0.008417</td>\n",
       "      <td>0.010590</td>\n",
       "    </tr>\n",
       "  </tbody>\n",
       "</table>\n",
       "</div>"
      ],
      "text/plain": [
       "           train      test\n",
       "0.001   0.947619  0.659395\n",
       "0.010   0.939512  0.765954\n",
       "0.100   0.902491  0.724998\n",
       "1.000   0.797664  0.644639\n",
       "5.000   0.357183  0.321981\n",
       "10.000  0.008417  0.010590"
      ]
     },
     "execution_count": 80,
     "metadata": {},
     "output_type": "execute_result"
    }
   ],
   "source": [
    "result = pd.DataFrame({'train' : train_r2_list_lasso, 'test' : test_r2_list_lasso},\n",
    "                      index = alpha_list)\n",
    "result"
   ]
  },
  {
   "cell_type": "code",
   "execution_count": 81,
   "metadata": {},
   "outputs": [
    {
     "data": {
      "image/png": "[encoded data removed]",
      "text/plain": [
       "<Figure size 640x480 with 1 Axes>"
      ]
     },
     "metadata": {},
     "output_type": "display_data"
    }
   ],
   "source": [
    "plt.plot(np.log(result.index), result.train, label = 'train')\n",
    "plt.plot(np.log(result.index), result.test, label = 'test')\n",
    "plt.legend()\n",
    "plt.show()"
   ]
  },
  {
   "cell_type": "markdown",
   "metadata": {},
   "source": [
    "## ElasticNet(엘라스틱넷)\n",
    "- 릿지와 라쏘를 절충한 모델\n",
    "- 규제항에 릿지, 라쏘 규제항을 더해서 추가\n",
    "- 혼합비율 $r$을 사용해 혼합정도를 조절\n",
    "    - $r=0$이면 릿지와 같고 $r=1$이면 라쏘와 같다\n",
    "\n",
    "$$\n",
    "\\text{손실함수}(w) = \\text{MSE}(w) + r\\alpha \\sum_{i=1}^{n}{\\left| w_i \\right|}  + \\cfrac{1-r}{2}\\alpha\\sum_{i=1}^{n}{w_{i}^{2}}\n",
    "$$"
   ]
  },
  {
   "cell_type": "code",
   "execution_count": 82,
   "metadata": {},
   "outputs": [
    {
     "data": {
      "text/plain": [
       "GridSearchCV(cv=4, estimator=ElasticNet(random_state=0), n_jobs=-1,\n",
       "             param_grid={'alpha': [0.1, 1, 10, 50, 100, 500],\n",
       "                         'l1_ratio': [0.1, 0.2, 0.3, 0.4, 0.5, 0.6, 0.7, 0.8,\n",
       "                                      0.9]},\n",
       "             scoring='r2')"
      ]
     },
     "execution_count": 82,
     "metadata": {},
     "output_type": "execute_result"
    }
   ],
   "source": [
    "from sklearn.linear_model import ElasticNet\n",
    "from sklearn.model_selection import GridSearchCV\n",
    "\n",
    "r_list = [0.1, 0.2, 0.3, 0.4, 0.5, 0.6, 0.7, 0.8, 0.9]\n",
    "alpha_list = [0.1, 1, 10, 50, 100, 500]\n",
    "\n",
    "e_net = ElasticNet(random_state = 0)\n",
    "params = {\n",
    "    'l1_ratio' : r_list, \n",
    "    'alpha' : alpha_list\n",
    "}\n",
    "\n",
    "gs = GridSearchCV(e_net, params, scoring = 'r2', cv = 4, n_jobs = -1)\n",
    "gs.fit(X_train_scaled_poly, y_train)"
   ]
  },
  {
   "cell_type": "code",
   "execution_count": 83,
   "metadata": {},
   "outputs": [
    {
     "name": "stdout",
     "output_type": "stream",
     "text": [
      "best_params: {'alpha': 0.1, 'l1_ratio': 0.2}\n",
      "best_score: 0.8565972907373954\n"
     ]
    }
   ],
   "source": [
    "print('best_params:', gs.best_params_)\n",
    "print('best_score:', gs.best_score_)"
   ]
  },
  {
   "cell_type": "code",
   "execution_count": 84,
   "metadata": {},
   "outputs": [
    {
     "data": {
      "text/html": [
       "<div>\n",
       "<style scoped>\n",
       "    .dataframe tbody tr th:only-of-type {\n",
       "        vertical-align: middle;\n",
       "    }\n",
       "\n",
       "    .dataframe tbody tr th {\n",
       "        vertical-align: top;\n",
       "    }\n",
       "\n",
       "    .dataframe thead th {\n",
       "        text-align: right;\n",
       "    }\n",
       "</style>\n",
       "<table border=\"1\" class=\"dataframe\">\n",
       "  <thead>\n",
       "    <tr style=\"text-align: right;\">\n",
       "      <th></th>\n",
       "      <th>mean_fit_time</th>\n",
       "      <th>std_fit_time</th>\n",
       "      <th>mean_score_time</th>\n",
       "      <th>std_score_time</th>\n",
       "      <th>param_alpha</th>\n",
       "      <th>param_l1_ratio</th>\n",
       "      <th>params</th>\n",
       "      <th>split0_test_score</th>\n",
       "      <th>split1_test_score</th>\n",
       "      <th>split2_test_score</th>\n",
       "      <th>split3_test_score</th>\n",
       "      <th>mean_test_score</th>\n",
       "      <th>std_test_score</th>\n",
       "      <th>rank_test_score</th>\n",
       "    </tr>\n",
       "  </thead>\n",
       "  <tbody>\n",
       "    <tr>\n",
       "      <th>1</th>\n",
       "      <td>0.030230</td>\n",
       "      <td>0.012569</td>\n",
       "      <td>0.001000</td>\n",
       "      <td>5.960464e-07</td>\n",
       "      <td>0.1</td>\n",
       "      <td>0.2</td>\n",
       "      <td>{'alpha': 0.1, 'l1_ratio': 0.2}</td>\n",
       "      <td>0.899531</td>\n",
       "      <td>0.787799</td>\n",
       "      <td>0.830967</td>\n",
       "      <td>0.908093</td>\n",
       "      <td>0.856597</td>\n",
       "      <td>0.049712</td>\n",
       "      <td>1</td>\n",
       "    </tr>\n",
       "    <tr>\n",
       "      <th>0</th>\n",
       "      <td>0.124333</td>\n",
       "      <td>0.024424</td>\n",
       "      <td>0.001250</td>\n",
       "      <td>4.323624e-04</td>\n",
       "      <td>0.1</td>\n",
       "      <td>0.1</td>\n",
       "      <td>{'alpha': 0.1, 'l1_ratio': 0.1}</td>\n",
       "      <td>0.899079</td>\n",
       "      <td>0.790348</td>\n",
       "      <td>0.825952</td>\n",
       "      <td>0.909039</td>\n",
       "      <td>0.856105</td>\n",
       "      <td>0.049704</td>\n",
       "      <td>2</td>\n",
       "    </tr>\n",
       "    <tr>\n",
       "      <th>2</th>\n",
       "      <td>0.022736</td>\n",
       "      <td>0.009412</td>\n",
       "      <td>0.005998</td>\n",
       "      <td>8.684163e-03</td>\n",
       "      <td>0.1</td>\n",
       "      <td>0.3</td>\n",
       "      <td>{'alpha': 0.1, 'l1_ratio': 0.3}</td>\n",
       "      <td>0.899428</td>\n",
       "      <td>0.785110</td>\n",
       "      <td>0.831945</td>\n",
       "      <td>0.906495</td>\n",
       "      <td>0.855744</td>\n",
       "      <td>0.050099</td>\n",
       "      <td>3</td>\n",
       "    </tr>\n",
       "    <tr>\n",
       "      <th>3</th>\n",
       "      <td>0.030730</td>\n",
       "      <td>0.016730</td>\n",
       "      <td>0.001250</td>\n",
       "      <td>4.325688e-04</td>\n",
       "      <td>0.1</td>\n",
       "      <td>0.4</td>\n",
       "      <td>{'alpha': 0.1, 'l1_ratio': 0.4}</td>\n",
       "      <td>0.899368</td>\n",
       "      <td>0.782194</td>\n",
       "      <td>0.830459</td>\n",
       "      <td>0.904659</td>\n",
       "      <td>0.854170</td>\n",
       "      <td>0.050830</td>\n",
       "      <td>4</td>\n",
       "    </tr>\n",
       "    <tr>\n",
       "      <th>4</th>\n",
       "      <td>0.017239</td>\n",
       "      <td>0.010250</td>\n",
       "      <td>0.001752</td>\n",
       "      <td>8.285391e-04</td>\n",
       "      <td>0.1</td>\n",
       "      <td>0.5</td>\n",
       "      <td>{'alpha': 0.1, 'l1_ratio': 0.5}</td>\n",
       "      <td>0.898742</td>\n",
       "      <td>0.778316</td>\n",
       "      <td>0.829445</td>\n",
       "      <td>0.902813</td>\n",
       "      <td>0.852329</td>\n",
       "      <td>0.051731</td>\n",
       "      <td>5</td>\n",
       "    </tr>\n",
       "  </tbody>\n",
       "</table>\n",
       "</div>"
      ],
      "text/plain": [
       "   mean_fit_time  std_fit_time  mean_score_time  std_score_time param_alpha  \\\n",
       "1       0.030230      0.012569         0.001000    5.960464e-07         0.1   \n",
       "0       0.124333      0.024424         0.001250    4.323624e-04         0.1   \n",
       "2       0.022736      0.009412         0.005998    8.684163e-03         0.1   \n",
       "3       0.030730      0.016730         0.001250    4.325688e-04         0.1   \n",
       "4       0.017239      0.010250         0.001752    8.285391e-04         0.1   \n",
       "\n",
       "  param_l1_ratio                           params  split0_test_score  \\\n",
       "1            0.2  {'alpha': 0.1, 'l1_ratio': 0.2}           0.899531   \n",
       "0            0.1  {'alpha': 0.1, 'l1_ratio': 0.1}           0.899079   \n",
       "2            0.3  {'alpha': 0.1, 'l1_ratio': 0.3}           0.899428   \n",
       "3            0.4  {'alpha': 0.1, 'l1_ratio': 0.4}           0.899368   \n",
       "4            0.5  {'alpha': 0.1, 'l1_ratio': 0.5}           0.898742   \n",
       "\n",
       "   split1_test_score  split2_test_score  split3_test_score  mean_test_score  \\\n",
       "1           0.787799           0.830967           0.908093         0.856597   \n",
       "0           0.790348           0.825952           0.909039         0.856105   \n",
       "2           0.785110           0.831945           0.906495         0.855744   \n",
       "3           0.782194           0.830459           0.904659         0.854170   \n",
       "4           0.778316           0.829445           0.902813         0.852329   \n",
       "\n",
       "   std_test_score  rank_test_score  \n",
       "1        0.049712                1  \n",
       "0        0.049704                2  \n",
       "2        0.050099                3  \n",
       "3        0.050830                4  \n",
       "4        0.051731                5  "
      ]
     },
     "execution_count": 84,
     "metadata": {},
     "output_type": "execute_result"
    }
   ],
   "source": [
    "result_df = pd.DataFrame(gs.cv_results_)\n",
    "result_df.sort_values('rank_test_score').head()"
   ]
  },
  {
   "cell_type": "code",
   "execution_count": 85,
   "metadata": {},
   "outputs": [
    {
     "data": {
      "text/plain": [
       "0.7425220273454194"
      ]
     },
     "execution_count": 85,
     "metadata": {},
     "output_type": "execute_result"
    }
   ],
   "source": [
    "r2_score(y_test, gs.predict(X_test_scaled_poly))"
   ]
  },
  {
   "cell_type": "markdown",
   "metadata": {},
   "source": [
    "## 요약\n",
    "- 일반적으로 선형회귀의 셩우 어느정도 규제가 있는 경우 성능이 좋음\n",
    "- 기본적으로 **Ridge**를 사용\n",
    "- Target에 영향을 주는 Feature가 몇 개뿐일 경우 특성의 가중치를 0으로 만들어 주는 **Lasso**를 사용\n",
    "- Feature 수가 학습 샘플 수 보다 많거나 feature간 연관성이 높을 때는 **ElasticNet**을 사용"
   ]
  }
 ],
 "metadata": {
  "kernelspec": {
   "display_name": "Python 3.9.13 ('base')",
   "language": "python",
   "name": "python3"
  },
  "language_info": {
   "codemirror_mode": {
    "name": "ipython",
    "version": 3
   },
   "file_extension": ".py",
   "mimetype": "text/x-python",
   "name": "python",
   "nbconvert_exporter": "python",
   "pygments_lexer": "ipython3",
   "version": "3.9.13"
  },
  "orig_nbformat": 4,
  "vscode": {
   "interpreter": {
    "hash": "57bc2b6ce032b5f0e93daa91901b7ea38a856826ef43aa9e95b6d3999f5310df"
   }
  }
 },
 "nbformat": 4,
 "nbformat_minor": 2
}
